{
 "cells": [
  {
   "cell_type": "markdown",
   "metadata": {},
   "source": [
    "# Проект для «Викишоп»"
   ]
  },
  {
   "cell_type": "markdown",
   "metadata": {},
   "source": [
    "<div class=\"alert alert-info\">\n",
    "<font size=\"5\"><b>Комментарий ревьюера</b></font>\n",
    "\n",
    "Привет Дмитрий! Меня зовут Марат, и я буду твоим ревьюером. Спешу сообщить что все ключевые этапы в работе выполнены,  с задачей тебе удалось справиться. По поводу обращения - в IT сфере принято общаться на «ты» :) Но, если привычней на «вы», дай знать. Как ревьюера моя задача помочь тебе в развитии, дав хорошие советы. Я внимательно посмотрю твой код, ознакомлюсь с твоими выводами и оставлю комментарии. Где то могу предложить небольшие исправление в коде, но ненавязчиво. Где потребуются уточнения, я оставлю много наводящих вопросов. Они помогут тебя с поиском верного решения.\n",
    "\n",
    "Все мои комментарии размечены по цветам, для лучшего восприятия. \n",
    "    \n",
    "<div class=\"alert alert-success\">Зеленым цветом и словом «Успех» отмечены особо удачные и элегантные решения, которыми ты можешь гордиться. </div>\n",
    "        \n",
    "<div class=\"alert alert-warning\">Желтым и значком словом «Совет», помечены решения у которых есть альтернативные решения, более оптимальные. Ты можешь найти их сразу и доработать проект, или отложить это на потом, для будущих проектах. Проект будет принят и без их доработки. </div>\n",
    "        \n",
    "<div class=\"alert alert-danger\"> Красным цветом и значком словом «Ошибка» помечу твои решения, на которые стоит обратить внимание прежде всего. После их доработки проект будет принят. </div>\n",
    "        \n",
    "Залог успеха - работа сообща, взаимное уважение и работа в диалоге. Поэтому, помечай свои ответные комментарии на мои реплики заметным цветом или курсивом, так мне будет легче их отслеживать. Пожалуйста, не изменяй и не удаляй мои комментарии. Все это поможет выполнить повторную проверку быстрей.\n",
    "\n",
    "</div>"
   ]
  },
  {
   "cell_type": "markdown",
   "metadata": {},
   "source": [
    "<div class=\"alert alert-info\">\n",
    "<font size=\"4\", color = \"black\"><b>✍ Комментарий студента</b></font>\n",
    "    <br /> \n",
    "    <font size=\"3\", color = \"black\">\n",
    "<br /> \n",
    "Привет Марат!\n",
    "\n",
    "Я постарался учесть твои замечания и рекомендации, и отметил правки по тексту проекта."
   ]
  },
  {
   "cell_type": "markdown",
   "metadata": {},
   "source": [
    "<div class=\"alert alert-success\">\n",
    "<font size=\"5\"><b>Комментарий ревьюераV2</b></font>\n",
    "\n",
    "\n",
    "\n",
    "Успех 👍:\n",
    "\n",
    "\n",
    "\n",
    "Привет Дмитрий!  Давай посмотрим\n",
    "\n",
    "\n",
    " "
   ]
  },
  {
   "cell_type": "markdown",
   "metadata": {
    "toc": true
   },
   "source": [
    "<h1>Содержание<span class=\"tocSkip\"></span></h1>\n",
    "<div class=\"toc\"><ul class=\"toc-item\"><li><span><a href=\"#Описание-проекта\" data-toc-modified-id=\"Описание-проекта-1\"><span class=\"toc-item-num\">1&nbsp;&nbsp;</span>Описание проекта</a></span><ul class=\"toc-item\"><li><span><a href=\"#Цель-проекта\" data-toc-modified-id=\"Цель-проекта-1.1\"><span class=\"toc-item-num\">1.1&nbsp;&nbsp;</span>Цель проекта</a></span></li><li><span><a href=\"#Постановка-задачи\" data-toc-modified-id=\"Постановка-задачи-1.2\"><span class=\"toc-item-num\">1.2&nbsp;&nbsp;</span>Постановка задачи</a></span></li><li><span><a href=\"#Описание-данных\" data-toc-modified-id=\"Описание-данных-1.3\"><span class=\"toc-item-num\">1.3&nbsp;&nbsp;</span>Описание данных</a></span></li></ul></li><li><span><a href=\"#Загрузка-необходимых-библиотек-и-функций\" data-toc-modified-id=\"Загрузка-необходимых-библиотек-и-функций-2\"><span class=\"toc-item-num\">2&nbsp;&nbsp;</span>Загрузка необходимых библиотек и функций</a></span></li><li><span><a href=\"#Загрузка-данных\" data-toc-modified-id=\"Загрузка-данных-3\"><span class=\"toc-item-num\">3&nbsp;&nbsp;</span>Загрузка данных</a></span></li><li><span><a href=\"#Изучение-данных\" data-toc-modified-id=\"Изучение-данных-4\"><span class=\"toc-item-num\">4&nbsp;&nbsp;</span>Изучение данных</a></span><ul class=\"toc-item\"><li><span><a href=\"#Формирование-и-изучение-отчета-о-данных\" data-toc-modified-id=\"Формирование-и-изучение-отчета-о-данных-4.1\"><span class=\"toc-item-num\">4.1&nbsp;&nbsp;</span>Формирование и изучение отчета о данных</a></span></li><li><span><a href=\"#Промежуточные-выводы\" data-toc-modified-id=\"Промежуточные-выводы-4.2\"><span class=\"toc-item-num\">4.2&nbsp;&nbsp;</span>Промежуточные выводы</a></span></li></ul></li><li><span><a href=\"#Подготовка\" data-toc-modified-id=\"Подготовка-5\"><span class=\"toc-item-num\">5&nbsp;&nbsp;</span>Подготовка</a></span><ul class=\"toc-item\"><li><span><a href=\"#Промежуточные-выводы\" data-toc-modified-id=\"Промежуточные-выводы-5.1\"><span class=\"toc-item-num\">5.1&nbsp;&nbsp;</span>Промежуточные выводы</a></span></li></ul></li><li><span><a href=\"#Обучение\" data-toc-modified-id=\"Обучение-6\"><span class=\"toc-item-num\">6&nbsp;&nbsp;</span>Обучение</a></span><ul class=\"toc-item\"><li><span><a href=\"#Тестирование-моделей\" data-toc-modified-id=\"Тестирование-моделей-6.1\"><span class=\"toc-item-num\">6.1&nbsp;&nbsp;</span>Тестирование моделей</a></span><ul class=\"toc-item\"><li><span><a href=\"#Логистическая-регрессия-LogisticRegression\" data-toc-modified-id=\"Логистическая-регрессия-LogisticRegression-6.1.1\"><span class=\"toc-item-num\">6.1.1&nbsp;&nbsp;</span>Логистическая регрессия <code>LogisticRegression</code></a></span></li><li><span><a href=\"#Дерево-решений-DecisionTreeClassifier\" data-toc-modified-id=\"Дерево-решений-DecisionTreeClassifier-6.1.2\"><span class=\"toc-item-num\">6.1.2&nbsp;&nbsp;</span>Дерево решений <code>DecisionTreeClassifier</code></a></span></li><li><span><a href=\"#Случайный-лес-RandomForestClassifier\" data-toc-modified-id=\"Случайный-лес-RandomForestClassifier-6.1.3\"><span class=\"toc-item-num\">6.1.3&nbsp;&nbsp;</span>Случайный лес <code>RandomForestClassifier</code></a></span></li><li><span><a href=\"#Пассивно-агрессивный-алгоритм-PassiveAggressiveClassifier\" data-toc-modified-id=\"Пассивно-агрессивный-алгоритм-PassiveAggressiveClassifier-6.1.4\"><span class=\"toc-item-num\">6.1.4&nbsp;&nbsp;</span>Пассивно-агрессивный алгоритм <code>PassiveAggressiveClassifier</code></a></span></li></ul></li><li><span><a href=\"#Промежуточные-выводы\" data-toc-modified-id=\"Промежуточные-выводы-6.2\"><span class=\"toc-item-num\">6.2&nbsp;&nbsp;</span>Промежуточные выводы</a></span></li></ul></li><li><span><a href=\"#Анализ-моделей\" data-toc-modified-id=\"Анализ-моделей-7\"><span class=\"toc-item-num\">7&nbsp;&nbsp;</span>Анализ моделей</a></span><ul class=\"toc-item\"><li><span><a href=\"#Сравнение-моделей\" data-toc-modified-id=\"Сравнение-моделей-7.1\"><span class=\"toc-item-num\">7.1&nbsp;&nbsp;</span>Сравнение моделей</a></span></li><li><span><a href=\"#Промежуточные-выводы\" data-toc-modified-id=\"Промежуточные-выводы-7.2\"><span class=\"toc-item-num\">7.2&nbsp;&nbsp;</span>Промежуточные выводы</a></span></li></ul></li><li><span><a href=\"#Тестирование\" data-toc-modified-id=\"Тестирование-8\"><span class=\"toc-item-num\">8&nbsp;&nbsp;</span>Тестирование</a></span><ul class=\"toc-item\"><li><span><a href=\"#Проверка-лучшей-модели-на-тестовых-данных\" data-toc-modified-id=\"Проверка-лучшей-модели-на-тестовых-данных-8.1\"><span class=\"toc-item-num\">8.1&nbsp;&nbsp;</span>Проверка лучшей модели на тестовых данных</a></span></li></ul></li><li><span><a href=\"#Итоговые-выводы\" data-toc-modified-id=\"Итоговые-выводы-9\"><span class=\"toc-item-num\">9&nbsp;&nbsp;</span>Итоговые выводы</a></span><ul class=\"toc-item\"><li><span><a href=\"#Отчет-о-проделанной-работе\" data-toc-modified-id=\"Отчет-о-проделанной-работе-9.1\"><span class=\"toc-item-num\">9.1&nbsp;&nbsp;</span>Отчет о проделанной работе</a></span></li><li><span><a href=\"#Выводы\" data-toc-modified-id=\"Выводы-9.2\"><span class=\"toc-item-num\">9.2&nbsp;&nbsp;</span>Выводы</a></span></li></ul></li><li><span><a href=\"#Чек-лист-проверки\" data-toc-modified-id=\"Чек-лист-проверки-10\"><span class=\"toc-item-num\">10&nbsp;&nbsp;</span>Чек-лист проверки</a></span></li></ul></div>"
   ]
  },
  {
   "cell_type": "markdown",
   "metadata": {},
   "source": [
    "## Описание проекта"
   ]
  },
  {
   "cell_type": "markdown",
   "metadata": {},
   "source": [
    "### Цель проекта"
   ]
  },
  {
   "cell_type": "markdown",
   "metadata": {},
   "source": [
    "Цель данного проекта - обучить модель классифицировать комментарии на позитивные и негативные."
   ]
  },
  {
   "cell_type": "markdown",
   "metadata": {},
   "source": [
    "### Постановка задачи"
   ]
  },
  {
   "cell_type": "markdown",
   "metadata": {},
   "source": [
    "Интернет-магазин «Викишоп» запускает новый сервис. Теперь пользователи могут редактировать и дополнять описания товаров, как в вики-сообществах. То есть клиенты предлагают свои правки и комментируют изменения других. Магазину нужен инструмент, который будет искать токсичные комментарии и отправлять их на модерацию. \n",
    "\n",
    "Необходимо обучить модель классифицировать комментарии на позитивные и негативные. В нашем распоряжении набор данных с разметкой о токсичности правок.\n",
    "\n",
    "Необходимо построить модель со значением метрики качества `F1` не меньше 0.75. \n",
    "\n",
    "Необходимо:\n",
    "1. Загрузить и подготовить данные.\n",
    "2. Обучить разные модели. \n",
    "3. Сделать выводы."
   ]
  },
  {
   "cell_type": "markdown",
   "metadata": {},
   "source": [
    "### Описание данных"
   ]
  },
  {
   "cell_type": "markdown",
   "metadata": {},
   "source": [
    "Данные находятся в файле `toxic_comments.csv`. \n",
    "\n",
    "Признаки:\n",
    "* `text` - текст комментария,\n",
    "* `toxic`- целевой признак."
   ]
  },
  {
   "cell_type": "markdown",
   "metadata": {},
   "source": [
    "##  Загрузка необходимых библиотек и функций"
   ]
  },
  {
   "cell_type": "code",
   "execution_count": 1,
   "metadata": {
    "scrolled": true
   },
   "outputs": [],
   "source": [
    "! pip install --upgrade pip -q\n",
    "! pip install imblearn -q\n",
    "! pip install matplotlib==3.4.2 -q\n",
    "! pip install missingno -q\n",
    "! pip install nltk -q\n",
    "! pip install numba==0.57.1 -q\n",
    "! pip install numpy==1.23 -q\n",
    "! pip install pandas==2.0.3 -q\n",
    "! pip install -U Pillow -q\n",
    "! pip install -U scikit-learn -q\n",
    "! pip install seaborn==0.12.2 -q\n",
    "! pip install -U wordcloud -q"
   ]
  },
  {
   "cell_type": "code",
   "execution_count": 2,
   "metadata": {},
   "outputs": [],
   "source": [
    "import os\n",
    "import re\n",
    "import time\n",
    "import warnings\n",
    "\n",
    "import matplotlib.pyplot as plt\n",
    "import nltk\n",
    "import numpy as np\n",
    "import pandas as pd\n",
    "import seaborn as sns\n",
    "from imblearn.pipeline import Pipeline\n",
    "from nltk.corpus import stopwords as nltk_stopwords\n",
    "from nltk.corpus import wordnet\n",
    "from nltk.sentiment import SentimentIntensityAnalyzer\n",
    "from nltk.stem import WordNetLemmatizer\n",
    "from sklearn.ensemble import RandomForestClassifier\n",
    "from sklearn.feature_extraction.text import TfidfVectorizer\n",
    "from sklearn.linear_model import LogisticRegression, PassiveAggressiveClassifier\n",
    "from sklearn.metrics import f1_score, precision_score, recall_score\n",
    "from sklearn.model_selection import GridSearchCV, train_test_split\n",
    "from sklearn.tree import DecisionTreeClassifier\n",
    "from tqdm import notebook\n",
    "\n",
    "from wordcloud import WordCloud\n",
    "import missingno as msno\n",
    "\n",
    "warnings.filterwarnings(\"ignore\");"
   ]
  },
  {
   "cell_type": "markdown",
   "metadata": {},
   "source": [
    "<div class=\"alert alert-info\">\n",
    "<font size=\"4\", color = \"black\"><b>✍ Комментарий студента</b></font>\n",
    "    <br /> \n",
    "    <font size=\"3\", color = \"black\">\n",
    "<br /> \n",
    "Убрал лишнее. Применил iSort."
   ]
  },
  {
   "cell_type": "markdown",
   "metadata": {},
   "source": [
    "<div class=\"alert alert-warning\">\n",
    "<font size=\"5\"><b>Комментарий ревьюераV2</b></font>\n",
    "\n",
    "\n",
    "\n",
    "Совет 🤔:\n",
    "\n",
    "\n",
    "Как минимум вижу ещё вот это лишнее    \n",
    "    \n",
    "    ! pip install pymystem3 -q\n",
    "    \n",
    "    \n",
    "    \n",
    "Кроме того сторонние библиотеки ставим в самый низ  импортов. Для этой библиотеки ты сделал:   \n",
    "    \n",
    "    \n",
    "    from wordcloud import WordCloud\n",
    "    \n",
    "    \n",
    "Вот это тоже сторонняя missingno,  Поэтому это тоже в самый конец:\n",
    "    \n",
    "    \n",
    "    import missingno as msno "
   ]
  },
  {
   "cell_type": "markdown",
   "metadata": {},
   "source": [
    "<div class=\"alert alert-info\">\n",
    "<font size=\"4\", color = \"black\"><b>✍ Комментарий студента</b></font>\n",
    "    <br /> \n",
    "    <font size=\"3\", color = \"black\">\n",
    "<br /> \n",
    "Поправил."
   ]
  },
  {
   "cell_type": "markdown",
   "metadata": {},
   "source": [
    "\n",
    "<div class=\"alert alert-success\">\n",
    "<font size=\"5\"><b>Комментарий ревьюера</b></font>\n",
    "\n",
    "Успех:\n",
    "\n",
    "Собираем все импорты в верхней части, чтобы легче было ориентироваться и добавлять новые по необходимости. \n",
    "\n",
    "<div class=\"alert alert-warning\">\n",
    "\n",
    "\n",
    "Совет:\n",
    "\n",
    "    \n",
    "    \n",
    "- у тебя тут есть лишние импорты, то что ты не использовано или использовано не верно - стоит убрать, чтобы поберечь ресурсы      \n",
    " \n",
    "\n",
    "- есть рекомендации PEP-8 при написании кода, в том числе и для импортов. Если интересно можешь почитать [тут](https://pythonworld.ru/osnovy/pep-8-rukovodstvo-po-napisaniyu-koda-na-python.html). Есть что поправить \n",
    "\n"
   ]
  },
  {
   "cell_type": "code",
   "execution_count": 3,
   "metadata": {},
   "outputs": [],
   "source": [
    "RANDOM_STATE = 12345;"
   ]
  },
  {
   "cell_type": "code",
   "execution_count": 4,
   "metadata": {},
   "outputs": [],
   "source": [
    "def df_research_method(df, method):\n",
    "    \"\"\"\n",
    "    Применяет определенный метод изучения данных в датасете.\n",
    "\n",
    "    Параметры:\n",
    "    - df: Исследуемый датасет.\n",
    "    - method: Название метода.\n",
    "   \n",
    "    Пример:\n",
    "    ```\n",
    "    df_research_method(df, 'head')\n",
    "    ```\n",
    "    \"\"\"\n",
    "    \n",
    "    if method == 'head':\n",
    "        display(df.head())\n",
    "    elif method == 'sample':\n",
    "        display(df.sample(10))\n",
    "    elif method == 'shape':\n",
    "        display(df.shape)\n",
    "    elif method == 'describe':\n",
    "        display(df.describe().T)\n",
    "    elif method == 'duplicated':\n",
    "        dp = df.duplicated().sum()\n",
    "        display(dp)\n",
    "        if dp > 0:\n",
    "            print('Количество явных дубликатов:')\n",
    "            display(df[df.duplicated()])\n",
    "    elif method == 'unique':\n",
    "        for column in df.select_dtypes(include='object').columns:\n",
    "            print(f'Уникальные значения в колонке {column}: {df[column].sort_values().unique()}')\n",
    "    elif method == 'msno':\n",
    "        display(msno.bar(df))\n",
    "        plt.show()\n",
    "    else:\n",
    "        display(df.info())\n",
    "\n",
    "# Функция применения методов к списку датасетов\n",
    "def df_research(df_list, df_methods):\n",
    "    \"\"\"\n",
    "    Применяет метод из списка для изучения данных в списке датасетов.\n",
    "\n",
    "    Параметры:\n",
    "    - df_list: Список исследуемых датасетов (имя переменной, описание, имя файла).\n",
    "    - df_method: Список названий методов.\n",
    "   \n",
    "    Пример:\n",
    "    ```\n",
    "    df_research(df_list, df_methods)\n",
    "    ```\n",
    "    \"\"\"\n",
    "    \n",
    "    for method in df_methods:\n",
    "        print(f'Изучим {method[1]}:')\n",
    "        print('-' * 70)\n",
    "        for df in df_list:\n",
    "            globals()[df[0]] = globals()[df[0]].applymap(lambda x: x.lower() if isinstance(x, str) else x)\n",
    "            print('Dataset:', df[1])\n",
    "            print('-' * 70)\n",
    "            df_research_method(globals()[df[0]], method[0])\n",
    "            print('-' * 70);"
   ]
  },
  {
   "cell_type": "code",
   "execution_count": 5,
   "metadata": {},
   "outputs": [],
   "source": [
    "def get_wordnet_pos(word):\n",
    "    \"\"\"Map POS tag to first character lemmatize() accepts\"\"\"\n",
    "    tag = nltk.pos_tag([word])[0][1][0].upper()\n",
    "    tag_dict = {\"J\": wordnet.ADJ,\n",
    "                \"N\": wordnet.NOUN,\n",
    "                \"V\": wordnet.VERB,\n",
    "                \"R\": wordnet.ADV}\n",
    "    return tag_dict.get(tag, wordnet.NOUN);"
   ]
  },
  {
   "cell_type": "code",
   "execution_count": 6,
   "metadata": {},
   "outputs": [],
   "source": [
    "def clear_text(text):\n",
    "    cl_text = re.sub(r'[^a-zA-Z]', ' ', text)\n",
    "    cl_text = ' '.join(cl_text.split())\n",
    "    return  cl_text;"
   ]
  },
  {
   "cell_type": "code",
   "execution_count": 7,
   "metadata": {},
   "outputs": [],
   "source": [
    "# Подготовка функции создания моделей\n",
    "def create_model(model_name, pipeline, param_grid, features_train, target_train, scorer):\n",
    "    result = {}\n",
    "    # Создание модели\n",
    "    grid_search = GridSearchCV(pipeline, param_grid, n_jobs=-1, cv=5, scoring=scorer)\n",
    "    # Обучение модели\n",
    "    start_time = time.time()\n",
    "    grid_search.fit(features_train, target_train)\n",
    "    result['training_time'] = round(time.time() - start_time, 2)\n",
    "    # Сохраненение модели с лучшими результами\n",
    "    result['best_model'] = grid_search.best_estimator_\n",
    "    # Формирование предсказаний\n",
    "    start_time = time.time()\n",
    "    result['predictions'] = result['best_model'].predict(features_train)\n",
    "    if model_name != 'PassiveAggressiveClassifier':\n",
    "        result['probas'] = result['best_model'].predict_proba(features_train)[:,1]\n",
    "    else:\n",
    "        result['probas'] = None\n",
    "    result['prediction_time'] = round(time.time() - start_time, 2)\n",
    "    # Сохранение лучшей метрики\n",
    "    result[scorer] = round(grid_search.best_score_, 2)\n",
    "    result['grid_search'] = grid_search\n",
    "    print(f'Модель {model_name}')\n",
    "    print('-' * 70)\n",
    "    print(f'Время обучения: {result[\"training_time\"]} сек.')\n",
    "    print(f'Время предсказания: {result[\"prediction_time\"]} сек.')\n",
    "    print(f'{scorer.upper()}: {result[scorer]}')\n",
    "    print(f'Лучшая модель:{result[\"best_model\"]}')\n",
    "    print('-' * 70)    \n",
    "    return result;"
   ]
  },
  {
   "cell_type": "markdown",
   "metadata": {},
   "source": [
    "## Загрузка данных "
   ]
  },
  {
   "cell_type": "code",
   "execution_count": 8,
   "metadata": {},
   "outputs": [],
   "source": [
    "# Список датасетов для загрузки - \n",
    "# имя переменной датасета, описание датасета, имя файла\n",
    "datasets = [\n",
    "    ['toxic_comments', 'Комментарии пользователей', 'toxic_comments.csv', []]\n",
    "]\n",
    "\n",
    "# Пути для загрузки\n",
    "dirs = [\n",
    "    '/datasets/',\n",
    "    'https://code.s3.yandex.net/datasets/',\n",
    "    'c:/dev/ds/'\n",
    "];"
   ]
  },
  {
   "cell_type": "markdown",
   "metadata": {},
   "source": [
    "<div class=\"alert alert-warning\">\n",
    "<font size=\"5\"><b>Комментарий ревьюера</b></font>\n",
    "\n",
    "Совет: \n",
    "\n",
    "\n",
    "Если не знаешь - чтобы не было столбца  `Unnamed: 0` при чтении файла можно так:\n",
    "\n",
    "\n",
    "    pd.read_csv(..., index_col=0)\n",
    "\n",
    "    \n",
    "(`Unnamed: 0` появляется при не совсем корректном сохранении файла)    \n",
    "\n",
    "\n",
    "Unnamed: 0 это \"след\" старых индексов. Если ты уберёшь первые 10 примеров и своего датасета, сохранишь его, а потом откроешь,  то появится столбец Unnamed: 0 начиная с цифры 9, и появится новый индексы начиная с нуля \n",
    "\n",
    "\n",
    "Но это мелочь,  даже не нужно ничего исправлять. Просто знай, чтобы увидев такое в чужом коде не удивляться что бы это могло означать"
   ]
  },
  {
   "cell_type": "markdown",
   "metadata": {},
   "source": [
    "<div class=\"alert alert-info\">\n",
    "<font size=\"4\", color = \"black\"><b>✍ Комментарий студента</b></font>\n",
    "    <br /> \n",
    "    <font size=\"3\", color = \"black\">\n",
    "<br /> \n",
    "Поправил."
   ]
  },
  {
   "cell_type": "code",
   "execution_count": 9,
   "metadata": {
    "scrolled": true
   },
   "outputs": [
    {
     "name": "stdout",
     "output_type": "stream",
     "text": [
      "Датасет \"Комментарии пользователей\" загружен 100%\n"
     ]
    }
   ],
   "source": [
    "# Проведем загрузку\n",
    "for df in datasets:\n",
    "    ok = False\n",
    "    for dir in dirs:\n",
    "        path = f'{dir}{df[2]}'\n",
    "        if os.path.exists(path):\n",
    "            globals()[df[0]] = pd.read_csv(path, sep=',', decimal='.', index_col=0, parse_dates=df[3])\n",
    "            ok = True\n",
    "            break\n",
    "    if not ok:\n",
    "        print(f'Ошибка загрузки датасета \"{df[1]}\"')\n",
    "        break\n",
    "    print(f'Датасет \"{df[1]}\" загружен 100%'); "
   ]
  },
  {
   "cell_type": "markdown",
   "metadata": {},
   "source": [
    "## Изучение данных"
   ]
  },
  {
   "cell_type": "markdown",
   "metadata": {},
   "source": [
    "### Формирование и изучение отчета о данных"
   ]
  },
  {
   "cell_type": "markdown",
   "metadata": {},
   "source": [
    "Подготовим спискок методов изучения данных:"
   ]
  },
  {
   "cell_type": "code",
   "execution_count": 10,
   "metadata": {},
   "outputs": [],
   "source": [
    "df_methods = [['info', 'общую информацию о датасете'],\n",
    "              ['sample', 'случайные записи датасета'],\n",
    "              ['shape', 'размеры датасета'],\n",
    "              ['describe', 'описание полей датасета'],\n",
    "              ['msno', 'пропуски']\n",
    "             ];"
   ]
  },
  {
   "cell_type": "markdown",
   "metadata": {},
   "source": [
    "Изучим данные:"
   ]
  },
  {
   "cell_type": "code",
   "execution_count": 11,
   "metadata": {
    "scrolled": false
   },
   "outputs": [
    {
     "name": "stdout",
     "output_type": "stream",
     "text": [
      "Изучим общую информацию о датасете:\n",
      "----------------------------------------------------------------------\n",
      "Dataset: Комментарии пользователей\n",
      "----------------------------------------------------------------------\n",
      "<class 'pandas.core.frame.DataFrame'>\n",
      "Index: 159292 entries, 0 to 159450\n",
      "Data columns (total 2 columns):\n",
      " #   Column  Non-Null Count   Dtype \n",
      "---  ------  --------------   ----- \n",
      " 0   text    159292 non-null  object\n",
      " 1   toxic   159292 non-null  int64 \n",
      "dtypes: int64(1), object(1)\n",
      "memory usage: 3.6+ MB\n"
     ]
    },
    {
     "data": {
      "text/plain": [
       "None"
      ]
     },
     "metadata": {},
     "output_type": "display_data"
    },
    {
     "name": "stdout",
     "output_type": "stream",
     "text": [
      "----------------------------------------------------------------------\n",
      "Изучим случайные записи датасета:\n",
      "----------------------------------------------------------------------\n",
      "Dataset: Комментарии пользователей\n",
      "----------------------------------------------------------------------\n"
     ]
    },
    {
     "data": {
      "text/html": [
       "<div>\n",
       "<style scoped>\n",
       "    .dataframe tbody tr th:only-of-type {\n",
       "        vertical-align: middle;\n",
       "    }\n",
       "\n",
       "    .dataframe tbody tr th {\n",
       "        vertical-align: top;\n",
       "    }\n",
       "\n",
       "    .dataframe thead th {\n",
       "        text-align: right;\n",
       "    }\n",
       "</style>\n",
       "<table border=\"1\" class=\"dataframe\">\n",
       "  <thead>\n",
       "    <tr style=\"text-align: right;\">\n",
       "      <th></th>\n",
       "      <th>text</th>\n",
       "      <th>toxic</th>\n",
       "    </tr>\n",
       "  </thead>\n",
       "  <tbody>\n",
       "    <tr>\n",
       "      <th>125364</th>\n",
       "      <td>i'm not saying that it shouldn't have its own ...</td>\n",
       "      <td>0</td>\n",
       "    </tr>\n",
       "    <tr>\n",
       "      <th>102318</th>\n",
       "      <td>\"\\n\\nsome nuances and an unsettled question\\ni...</td>\n",
       "      <td>0</td>\n",
       "    </tr>\n",
       "    <tr>\n",
       "      <th>115464</th>\n",
       "      <td>\"\\n\\nfair use rationale for image:robert charl...</td>\n",
       "      <td>0</td>\n",
       "    </tr>\n",
       "    <tr>\n",
       "      <th>41785</th>\n",
       "      <td>\"\\n\\n perhaps, if you would rather not activat...</td>\n",
       "      <td>0</td>\n",
       "    </tr>\n",
       "    <tr>\n",
       "      <th>86703</th>\n",
       "      <td>the video doesn't work. \\n\\ni tried the video ...</td>\n",
       "      <td>0</td>\n",
       "    </tr>\n",
       "    <tr>\n",
       "      <th>7906</th>\n",
       "      <td>\"\\n\\n vienna \\n\\ndude, seriously.  wp:rs and w...</td>\n",
       "      <td>0</td>\n",
       "    </tr>\n",
       "    <tr>\n",
       "      <th>7062</th>\n",
       "      <td>afd \\n\\ni don't see any irregularities with ho...</td>\n",
       "      <td>0</td>\n",
       "    </tr>\n",
       "    <tr>\n",
       "      <th>32975</th>\n",
       "      <td>\"\\ngood. i did a light spotcheck of the source...</td>\n",
       "      <td>0</td>\n",
       "    </tr>\n",
       "    <tr>\n",
       "      <th>56033</th>\n",
       "      <td>i disagree with the removal of the see also li...</td>\n",
       "      <td>0</td>\n",
       "    </tr>\n",
       "    <tr>\n",
       "      <th>54390</th>\n",
       "      <td>see wp:band for what a band need to have achie...</td>\n",
       "      <td>0</td>\n",
       "    </tr>\n",
       "  </tbody>\n",
       "</table>\n",
       "</div>"
      ],
      "text/plain": [
       "                                                     text  toxic\n",
       "125364  i'm not saying that it shouldn't have its own ...      0\n",
       "102318  \"\\n\\nsome nuances and an unsettled question\\ni...      0\n",
       "115464  \"\\n\\nfair use rationale for image:robert charl...      0\n",
       "41785   \"\\n\\n perhaps, if you would rather not activat...      0\n",
       "86703   the video doesn't work. \\n\\ni tried the video ...      0\n",
       "7906    \"\\n\\n vienna \\n\\ndude, seriously.  wp:rs and w...      0\n",
       "7062    afd \\n\\ni don't see any irregularities with ho...      0\n",
       "32975   \"\\ngood. i did a light spotcheck of the source...      0\n",
       "56033   i disagree with the removal of the see also li...      0\n",
       "54390   see wp:band for what a band need to have achie...      0"
      ]
     },
     "metadata": {},
     "output_type": "display_data"
    },
    {
     "name": "stdout",
     "output_type": "stream",
     "text": [
      "----------------------------------------------------------------------\n",
      "Изучим размеры датасета:\n",
      "----------------------------------------------------------------------\n",
      "Dataset: Комментарии пользователей\n",
      "----------------------------------------------------------------------\n"
     ]
    },
    {
     "data": {
      "text/plain": [
       "(159292, 2)"
      ]
     },
     "metadata": {},
     "output_type": "display_data"
    },
    {
     "name": "stdout",
     "output_type": "stream",
     "text": [
      "----------------------------------------------------------------------\n",
      "Изучим описание полей датасета:\n",
      "----------------------------------------------------------------------\n",
      "Dataset: Комментарии пользователей\n",
      "----------------------------------------------------------------------\n"
     ]
    },
    {
     "data": {
      "text/html": [
       "<div>\n",
       "<style scoped>\n",
       "    .dataframe tbody tr th:only-of-type {\n",
       "        vertical-align: middle;\n",
       "    }\n",
       "\n",
       "    .dataframe tbody tr th {\n",
       "        vertical-align: top;\n",
       "    }\n",
       "\n",
       "    .dataframe thead th {\n",
       "        text-align: right;\n",
       "    }\n",
       "</style>\n",
       "<table border=\"1\" class=\"dataframe\">\n",
       "  <thead>\n",
       "    <tr style=\"text-align: right;\">\n",
       "      <th></th>\n",
       "      <th>count</th>\n",
       "      <th>mean</th>\n",
       "      <th>std</th>\n",
       "      <th>min</th>\n",
       "      <th>25%</th>\n",
       "      <th>50%</th>\n",
       "      <th>75%</th>\n",
       "      <th>max</th>\n",
       "    </tr>\n",
       "  </thead>\n",
       "  <tbody>\n",
       "    <tr>\n",
       "      <th>toxic</th>\n",
       "      <td>159292.0</td>\n",
       "      <td>0.101612</td>\n",
       "      <td>0.302139</td>\n",
       "      <td>0.0</td>\n",
       "      <td>0.0</td>\n",
       "      <td>0.0</td>\n",
       "      <td>0.0</td>\n",
       "      <td>1.0</td>\n",
       "    </tr>\n",
       "  </tbody>\n",
       "</table>\n",
       "</div>"
      ],
      "text/plain": [
       "          count      mean       std  min  25%  50%  75%  max\n",
       "toxic  159292.0  0.101612  0.302139  0.0  0.0  0.0  0.0  1.0"
      ]
     },
     "metadata": {},
     "output_type": "display_data"
    },
    {
     "name": "stdout",
     "output_type": "stream",
     "text": [
      "----------------------------------------------------------------------\n",
      "Изучим пропуски:\n",
      "----------------------------------------------------------------------\n",
      "Dataset: Комментарии пользователей\n",
      "----------------------------------------------------------------------\n"
     ]
    },
    {
     "data": {
      "text/plain": [
       "<AxesSubplot:>"
      ]
     },
     "metadata": {},
     "output_type": "display_data"
    },
    {
     "data": {
      "image/png": "[encoded data removed]",
      "text/plain": [
       "<Figure size 1800x720 with 3 Axes>"
      ]
     },
     "metadata": {
      "needs_background": "light"
     },
     "output_type": "display_data"
    },
    {
     "name": "stdout",
     "output_type": "stream",
     "text": [
      "----------------------------------------------------------------------\n"
     ]
    }
   ],
   "source": [
    "df_research(datasets, df_methods);"
   ]
  },
  {
   "cell_type": "markdown",
   "metadata": {},
   "source": [
    "Проверим датасет на сбалансированность классов в целевом признаке `toxic`, вычислим и отобразим долю каждого класса в исходном датасете:"
   ]
  },
  {
   "cell_type": "code",
   "execution_count": 12,
   "metadata": {
    "scrolled": false
   },
   "outputs": [
    {
     "data": {
      "image/png": "[encoded data removed]",
      "text/plain": [
       "<Figure size 360x360 with 1 Axes>"
      ]
     },
     "metadata": {
      "needs_background": "light"
     },
     "output_type": "display_data"
    }
   ],
   "source": [
    "# Сформируем датасет с долями классов в исходном датасете\n",
    "dt = pd.DataFrame(round(toxic_comments.groupby('toxic')['toxic'].count() * 100 / toxic_comments.shape[0], 2))\n",
    "dt.columns = ['share %']\n",
    "# Построим график\n",
    "plt.figure(figsize=(5, 5))\n",
    "ax = sns.barplot(x=dt.index, y=dt['share %']) \n",
    "plt.suptitle('Соотношение классов в датасете', fontsize=16, ha='center')\n",
    "ax.set_xlabel('Классы')\n",
    "ax.set_ylabel('Доля %')\n",
    "ax.bar_label(ax.containers[0],\n",
    "             color='black',\n",
    "             fontsize=12,\n",
    "             fontweight='bold')\n",
    "plt.show();"
   ]
  },
  {
   "cell_type": "markdown",
   "metadata": {},
   "source": [
    "Из графика видно, что почти 90% данных в одном классе, а остальные 10% в другом классе."
   ]
  },
  {
   "cell_type": "markdown",
   "metadata": {},
   "source": [
    "### Промежуточные выводы"
   ]
  },
  {
   "cell_type": "markdown",
   "metadata": {},
   "source": [
    "В ходе загрузки и изучения данных выявили, что:\n",
    "- Пропуски в данных не выявлены.\n",
    "- Выявлен дисбаланс классов."
   ]
  },
  {
   "cell_type": "markdown",
   "metadata": {},
   "source": [
    "<div class=\"alert alert-success\">\n",
    "<font size=\"5\"><b>Комментарий ревьюера</b></font>\n",
    "\n",
    "Успех:\n",
    "\n",
    "Данные изучены \n",
    "    \n",
    "    \n",
    "    \n",
    "Плюс за\n",
    "\n",
    "\n",
    "    \n",
    "\n",
    "- промежуточный вывод в конце раздела\n",
    "\n",
    " \n",
    "\n",
    "<div class=\"alert alert-warning\">\n",
    "\n",
    "Совет: \n",
    "\n",
    "\n",
    "\n",
    "\n",
    "- стоило еще проверить на сбалансированность классов в таргете это важная информация при моделировании и  корректной оценки модели. и к нему график можно, ведь красивый, хорошо оформленный график может быть украшением проекта. Без учёта дисбаланса  предсказания модели могут быть смещены в сторону более часто встречающегося класса.  Для начала можно посмотреть [тут](https://pudie.ru/articles/707332/)\n",
    "\n",
    " \n",
    "    \n",
    "- .sample() вместо .head(), ведь если данные каким то образом упорядоченны, то шансы увидеть что то разнообразное через .sample чуть выше чем через .head (или .tail)     \n",
    "   \n",
    "\n"
   ]
  },
  {
   "cell_type": "markdown",
   "metadata": {},
   "source": [
    "<div class=\"alert alert-info\">\n",
    "<font size=\"4\", color = \"black\"><b>✍ Комментарий студента</b></font>\n",
    "    <br /> \n",
    "    <font size=\"3\", color = \"black\">\n",
    "<br /> \n",
    "Поправил."
   ]
  },
  {
   "cell_type": "markdown",
   "metadata": {},
   "source": [
    "<div class=\"alert alert-success\">\n",
    "<font size=\"5\"><b>Комментарий ревьюераV2</b></font>\n",
    "\n",
    "\n",
    "\n",
    "Успех 👍:\n",
    "\n",
    "\n",
    "\n",
    "👍\n",
    "\n",
    "\n",
    " "
   ]
  },
  {
   "cell_type": "markdown",
   "metadata": {},
   "source": [
    "## Подготовка"
   ]
  },
  {
   "cell_type": "markdown",
   "metadata": {},
   "source": [
    "Разделим признаки и целевой признак - `toxic`."
   ]
  },
  {
   "cell_type": "markdown",
   "metadata": {},
   "source": [
    "<div class=\"alert alert-danger\">\n",
    "<font size=\"5\"><b>Комментарий ревьюера</b></font>\n",
    "\n",
    "Ошибка:\n",
    "\n",
    "\n",
    "\n",
    "Да, в тренажере был текст на кирилице, там перевод в unicode оправдан. В нашем случае (латиница) это лишь  увеличит количество потребляемой памяти и это в лучшем случаи, в худшем он обрушает ядро.\n",
    "\n",
    "\n",
    "\n",
    "\n",
    "И не надо будет резать выборку"
   ]
  },
  {
   "cell_type": "markdown",
   "metadata": {},
   "source": [
    "<div class=\"alert alert-info\">\n",
    "<font size=\"4\", color = \"black\"><b>✍ Комментарий студента</b></font>\n",
    "    <br /> \n",
    "    <font size=\"3\", color = \"black\">\n",
    "<br /> \n",
    "Поправил."
   ]
  },
  {
   "cell_type": "code",
   "execution_count": 13,
   "metadata": {},
   "outputs": [
    {
     "name": "stdout",
     "output_type": "stream",
     "text": [
      "Размер датасета для целей тестирования 159292\n"
     ]
    }
   ],
   "source": [
    "# Для целей тестирования сократим размер датасета\n",
    "n_share = 1\n",
    "test_size = toxic_comments.shape[0] // n_share\n",
    "print(f'Размер датасета для целей тестирования {test_size}')\n",
    "toxic_comments = toxic_comments.sample(test_size).reset_index(drop=True)\n",
    "\n",
    "corpus = toxic_comments['text'].values\n",
    "target = toxic_comments['toxic']\n",
    "\n",
    "del toxic_comments;"
   ]
  },
  {
   "cell_type": "markdown",
   "metadata": {},
   "source": [
    "Произведем необходимые загрузки:"
   ]
  },
  {
   "cell_type": "code",
   "execution_count": 14,
   "metadata": {
    "scrolled": true
   },
   "outputs": [
    {
     "name": "stderr",
     "output_type": "stream",
     "text": [
      "[nltk_data] Downloading package punkt to /home/jovyan/nltk_data...\n",
      "[nltk_data]   Package punkt is already up-to-date!\n",
      "[nltk_data] Downloading package stopwords to /home/jovyan/nltk_data...\n",
      "[nltk_data]   Package stopwords is already up-to-date!\n",
      "[nltk_data] Downloading package wordnet to /home/jovyan/nltk_data...\n",
      "[nltk_data]   Package wordnet is already up-to-date!\n",
      "[nltk_data] Downloading package averaged_perceptron_tagger to\n",
      "[nltk_data]     /home/jovyan/nltk_data...\n",
      "[nltk_data]   Package averaged_perceptron_tagger is already up-to-\n",
      "[nltk_data]       date!\n",
      "[nltk_data] Downloading package vader_lexicon to\n",
      "[nltk_data]     /home/jovyan/nltk_data...\n",
      "[nltk_data]   Package vader_lexicon is already up-to-date!\n"
     ]
    }
   ],
   "source": [
    "nltk.download('punkt')\n",
    "nltk.download('stopwords')\n",
    "nltk.download('wordnet')\n",
    "nltk.download('averaged_perceptron_tagger')\n",
    "nltk.download('vader_lexicon')\n",
    "stopwords = nltk_stopwords.words('english');"
   ]
  },
  {
   "cell_type": "markdown",
   "metadata": {},
   "source": [
    "Оставим в тексте только латинские символы и пробелы.\n",
    "Произведем лемматизацию с POS-тегами c помощью  `WordNetLemmatizer` из библиотеки `nltk`:"
   ]
  },
  {
   "cell_type": "code",
   "execution_count": 15,
   "metadata": {},
   "outputs": [],
   "source": [
    "lemmatizer = WordNetLemmatizer();"
   ]
  },
  {
   "cell_type": "code",
   "execution_count": 16,
   "metadata": {},
   "outputs": [
    {
     "data": {
      "application/vnd.jupyter.widget-view+json": {
       "model_id": "1a8fab51ff97438cb41a97118d7f3b5a",
       "version_major": 2,
       "version_minor": 0
      },
      "text/plain": [
       "  0%|          | 0/159292 [00:00<?, ?it/s]"
      ]
     },
     "metadata": {},
     "output_type": "display_data"
    },
    {
     "name": "stdout",
     "output_type": "stream",
     "text": [
      "CPU times: user 12min, sys: 47.4 s, total: 12min 47s\n",
      "Wall time: 13min 4s\n"
     ]
    }
   ],
   "source": [
    "%%time\n",
    "for i in notebook.tqdm(range(len(corpus))):\n",
    "    words = nltk.word_tokenize(clear_text(corpus[i].lower()))\n",
    "    word_list = [w for w in words if w not in stopwords]\n",
    "    corpus[i] = ' '.join([lemmatizer.lemmatize(w, get_wordnet_pos(w)) for w in word_list]);    "
   ]
  },
  {
   "cell_type": "markdown",
   "metadata": {},
   "source": [
    "<div class=\"alert alert-danger\">\n",
    "<font size=\"5\"><b>Комментарий ревьюера</b></font>\n",
    "\n",
    "Ошибка:\n",
    "\n",
    "    \n",
    " \n",
    "    \n",
    "Попробуй всё-таки сделать EnglishStemmer, а настоящую  лемматизацию,  без нее у нас одни и те же слова стоящие в разных падежах и временах будут расцениваться как разные, в итоге колличество фичей раздувается, а качество прогноза будет падать. \n",
    "\n",
    "\n",
    "Набираемся ума-разума [тут](https://webdevblog.ru/podhody-lemmatizacii-s-primerami-v-python/) ) . Там примеры разных библиотек для лемматизации, выбирай на свой вкус ). Рекомендую WordNetLemmatizer (но не забыть о POS тег, используй функцию `get_wordnet_pos` из примера и обрати внимание на то что WordNetLemmatizer на лемматизацию принимает не предложение, а слово) или SpaCy - он проще в использовании, не нужна предварительная ты токенизация и учёт постегов. Ещё иногда используют pattern \n",
    "\n",
    "\n",
    "\n",
    "Сразу скажу что если делать Лематизацию как надо, она может затянуться на час  (Но есть вариант использовать parallel_apply )  \n",
    "   \n",
    "\n",
    "\n",
    "<div class=\"alert alert-warning\">\n",
    "\n",
    "\n",
    "Совет: \n",
    "    \n",
    "\n",
    "\n",
    "\n",
    "- Чтобы сэкономить время, и убедиться что всё отработало нормально, берёшь парочку предложений, создаёшь dataframe\n",
    "    \n",
    "    \n",
    "    sentence1 = \"The striped bats are hanging on their feet for best\"\n",
    "    sentence2 = \"you should be ashamed of yourself went worked\"\n",
    "    df_my = pd.DataFrame([sentence1, sentence2], columns = ['text'])\n",
    "    print(df_my)\n",
    "\n",
    "\n",
    "    print(df_my['text'].apply(func))\n",
    "    \n",
    "    \n",
    "    \n",
    "И тестируешь не нем, должно получиться \n",
    "    \n",
    "    \n",
    "    \n",
    "    striped  ------> strip, went -------> go  \n",
    "\n",
    "\n",
    "\n",
    "Если всё получилось, то можно использовать на всём датасете"
   ]
  },
  {
   "cell_type": "markdown",
   "metadata": {},
   "source": [
    "<div class=\"alert alert-info\">\n",
    "<font size=\"4\", color = \"black\"><b>✍ Комментарий студента</b></font>\n",
    "    <br /> \n",
    "    <font size=\"3\", color = \"black\">\n",
    "<br /> \n",
    "Поправил. Проверил на твоем примере."
   ]
  },
  {
   "cell_type": "markdown",
   "metadata": {},
   "source": [
    "<div class=\"alert alert-success\">\n",
    "<font size=\"5\"><b>Комментарий ревьюераV2</b></font>\n",
    "\n",
    "\n",
    "\n",
    "Успех 👍:\n",
    "\n",
    "\n",
    "\n",
    "Верно\n",
    "\n",
    "\n",
    " "
   ]
  },
  {
   "cell_type": "markdown",
   "metadata": {},
   "source": [
    "\n",
    "\n",
    "<div class=\"alert alert-warning\">\n",
    "<font size=\"5\"><b>Комментарий ревьюера</b></font>\n",
    "\n",
    "\n",
    "Совет: \n",
    "\n",
    " \n",
    "\n",
    "- после очистки и лемматизации (и убрав стопслова) можно провести частотный анализ текста/[облако слов](https://habr.com/ru/post/517410/) - чтобы получить общее представление о тематике и о наиболее часто встречаемых словах в токсичных и нетоксичных твитах Кроме того графики, рисунки делают проект визуально интересней\n",
    "    \n",
    "В тренажере облако импортируем так\n",
    "\n",
    "    !/opt/conda/bin/python -m pip install wordcloud \n",
    "\n",
    "\n",
    "или\n",
    "\n",
    "    !/opt/conda/bin/python -m pip install wordcloud==1.8.2.2  \n",
    "\n",
    "\n",
    "И возможно дополнительно надо будет сделать\n",
    "\n",
    "\n",
    "\n",
    "    !pip install --upgrade Pillow  (попробуй версию 9.5.0)\n",
    "\n",
    "\n",
    "\n",
    "- хорошо бы ещё привести к нижнему регистру,  сделать  lower, для уменьшения количества слов, и лучшей работы модели\n",
    "\n",
    "\n",
    "\n",
    "    "
   ]
  },
  {
   "cell_type": "markdown",
   "metadata": {},
   "source": [
    "<div class=\"alert alert-info\">\n",
    "<font size=\"4\", color = \"black\"><b>✍ Комментарий студента</b></font>\n",
    "    <br /> \n",
    "    <font size=\"3\", color = \"black\">\n",
    "<br /> \n",
    "Поправил. Для позитивных комментариев ограничил размер примера."
   ]
  },
  {
   "cell_type": "markdown",
   "metadata": {},
   "source": [
    "Создадим очищенный датафрейм:"
   ]
  },
  {
   "cell_type": "code",
   "execution_count": 17,
   "metadata": {},
   "outputs": [],
   "source": [
    "df_clear = pd.DataFrame(zip(corpus, target), columns=['text', 'toxic']);"
   ]
  },
  {
   "cell_type": "markdown",
   "metadata": {},
   "source": [
    "Построим облако слов для выборочных токсичных комментариев:"
   ]
  },
  {
   "cell_type": "code",
   "execution_count": 18,
   "metadata": {},
   "outputs": [],
   "source": [
    "# размер выборки для промежуточного анализа\n",
    "n_sample = 30000 // n_share;"
   ]
  },
  {
   "cell_type": "code",
   "execution_count": 19,
   "metadata": {},
   "outputs": [],
   "source": [
    "full_text = ' '.join(df_clear.query('toxic == 1')['text']);"
   ]
  },
  {
   "cell_type": "code",
   "execution_count": 20,
   "metadata": {
    "scrolled": true
   },
   "outputs": [
    {
     "name": "stdout",
     "output_type": "stream",
     "text": [
      "CPU times: user 769 ms, sys: 36.1 ms, total: 805 ms\n",
      "Wall time: 804 ms\n"
     ]
    }
   ],
   "source": [
    "%%time\n",
    "wordcloud = WordCloud(collocations=False).generate(full_text)"
   ]
  },
  {
   "cell_type": "code",
   "execution_count": 21,
   "metadata": {
    "scrolled": true
   },
   "outputs": [
    {
     "data": {
      "text/plain": [
       "(-0.5, 399.5, 199.5, -0.5)"
      ]
     },
     "execution_count": 21,
     "metadata": {},
     "output_type": "execute_result"
    },
    {
     "data": {
      "image/png": "[encoded data removed]",
      "text/plain": [
       "<Figure size 648x360 with 1 Axes>"
      ]
     },
     "metadata": {
      "needs_background": "light"
     },
     "output_type": "display_data"
    }
   ],
   "source": [
    "plt.figure(figsize=(9,5))\n",
    "plt.imshow(wordcloud)\n",
    "plt.axis('off')"
   ]
  },
  {
   "cell_type": "markdown",
   "metadata": {},
   "source": [
    "\n",
    "\n",
    "\n",
    "<div class=\"alert alert-success\">\n",
    "<font size=\"5\"><b>Комментарий ревьюераV2</b></font>\n",
    "\n",
    "\n",
    "\n",
    "Успех 👍:\n",
    "\n",
    "\n",
    "Красиво, хотя слова некрасивые.  \n",
    "\n",
    "\n",
    "\n",
    "\n",
    "    \n",
    "<div class=\"alert alert-warning\">\n",
    "\n",
    "\n",
    "Совет 🤔:\n",
    "    \n",
    "    \n",
    "    \n",
    "как видишь есть дубликаты, можно посмотреть как их убрать collocations=False:    \n",
    "    \n",
    "https://stackoverflow.com/questions/43954114/python-wordcloud-repetitive-words\n",
    "\n"
   ]
  },
  {
   "cell_type": "markdown",
   "metadata": {},
   "source": [
    "<div class=\"alert alert-info\">\n",
    "<font size=\"4\", color = \"black\"><b>✍ Комментарий студента</b></font>\n",
    "    <br /> \n",
    "    <font size=\"3\", color = \"black\">\n",
    "<br /> \n",
    "Поправил."
   ]
  },
  {
   "cell_type": "markdown",
   "metadata": {},
   "source": [
    "<div class=\"alert alert-success\">\n",
    "<font size=\"5\"><b>Комментарий ревьюераV3</b></font>\n",
    "\n",
    "\n",
    "\n",
    "Успех 👍:\n",
    "\n",
    "\n",
    "\n",
    "👍\n",
    "\n",
    "\n",
    " "
   ]
  },
  {
   "cell_type": "markdown",
   "metadata": {},
   "source": [
    "Произведем анализ настроений выборочных тосичных комментариев:"
   ]
  },
  {
   "cell_type": "code",
   "execution_count": 22,
   "metadata": {},
   "outputs": [
    {
     "name": "stdout",
     "output_type": "stream",
     "text": [
      "{'neg': 0.427, 'neu': 0.455, 'pos': 0.118, 'compound': -1.0}\n",
      "CPU times: user 4min 9s, sys: 370 ms, total: 4min 9s\n",
      "Wall time: 4min 9s\n"
     ]
    }
   ],
   "source": [
    "%%time\n",
    "sia = SentimentIntensityAnalyzer()\n",
    "print(sia.polarity_scores(full_text))"
   ]
  },
  {
   "cell_type": "markdown",
   "metadata": {},
   "source": [
    "Построим облако слов для выборочных позитивных комментариев:"
   ]
  },
  {
   "cell_type": "code",
   "execution_count": 23,
   "metadata": {},
   "outputs": [],
   "source": [
    "full_text = ' '.join(df_clear.query('toxic == 0').sample(n_sample)['text'])"
   ]
  },
  {
   "cell_type": "code",
   "execution_count": 24,
   "metadata": {
    "scrolled": true
   },
   "outputs": [
    {
     "name": "stdout",
     "output_type": "stream",
     "text": [
      "CPU times: user 1.68 s, sys: 87.5 ms, total: 1.77 s\n",
      "Wall time: 1.78 s\n"
     ]
    }
   ],
   "source": [
    "%%time\n",
    "wordcloud = WordCloud(collocations=False).generate(full_text)"
   ]
  },
  {
   "cell_type": "code",
   "execution_count": 25,
   "metadata": {
    "scrolled": true
   },
   "outputs": [
    {
     "data": {
      "text/plain": [
       "(-0.5, 399.5, 199.5, -0.5)"
      ]
     },
     "execution_count": 25,
     "metadata": {},
     "output_type": "execute_result"
    },
    {
     "data": {
      "image/png": "[encoded data removed]",
      "text/plain": [
       "<Figure size 648x360 with 1 Axes>"
      ]
     },
     "metadata": {
      "needs_background": "light"
     },
     "output_type": "display_data"
    }
   ],
   "source": [
    "plt.figure(figsize=(9,5))\n",
    "plt.imshow(wordcloud)\n",
    "plt.axis('off')"
   ]
  },
  {
   "cell_type": "markdown",
   "metadata": {},
   "source": [
    "Произведем анализ настроений выборочных позитивных комментариев:"
   ]
  },
  {
   "cell_type": "code",
   "execution_count": 26,
   "metadata": {
    "scrolled": true
   },
   "outputs": [
    {
     "name": "stdout",
     "output_type": "stream",
     "text": [
      "{'neg': 0.107, 'neu': 0.705, 'pos': 0.188, 'compound': 1.0}\n",
      "CPU times: user 16min 54s, sys: 1.13 s, total: 16min 55s\n",
      "Wall time: 16min 56s\n"
     ]
    }
   ],
   "source": [
    "%%time\n",
    "print(sia.polarity_scores(full_text))"
   ]
  },
  {
   "cell_type": "markdown",
   "metadata": {},
   "source": [
    "Разделим датасет на обучающую и тестовую выборки."
   ]
  },
  {
   "cell_type": "code",
   "execution_count": 27,
   "metadata": {},
   "outputs": [],
   "source": [
    "del df_clear\n",
    "del full_text;"
   ]
  },
  {
   "cell_type": "code",
   "execution_count": 28,
   "metadata": {},
   "outputs": [
    {
     "name": "stdout",
     "output_type": "stream",
     "text": [
      "CPU times: user 60.3 ms, sys: 8 µs, total: 60.3 ms\n",
      "Wall time: 59.6 ms\n"
     ]
    }
   ],
   "source": [
    "%%time\n",
    "features_train, features_test, target_train, target_test = train_test_split(\n",
    "    corpus, target, test_size=.5, random_state=RANDOM_STATE, stratify=target)\n",
    "\n",
    "del corpus\n",
    "del target;"
   ]
  },
  {
   "cell_type": "markdown",
   "metadata": {},
   "source": [
    "<div class=\"alert alert-danger\">\n",
    "<font size=\"5\"><b>Комментарий ревьюера</b></font>\n",
    "\n",
    "Ошибка:\n",
    "\n",
    "\n",
    "не забываем о random_state, иначе после каждого запуска кода у нас будет новый сплит, и новые результаты\n",
    "\n",
    " \n",
    "\n",
    " \n",
    "<div class=\"alert alert-warning\">\n",
    "\n",
    "\n",
    "\n",
    "Совет: \n",
    "\n",
    "\n",
    "\n",
    "\n",
    "\n",
    "\n",
    "- обрати внимание на аргумент stratify, он позволит сохранить изначальное распределение таргетов во всех новых датасетах.  Существующий дисбаланс никуда не денется, но в каждом датасете он будет одинаковым. [Почитать](https://pythonru.com/baza-znanij/sklearn-train-test-split) можно тут\n",
    "\n",
    "\n"
   ]
  },
  {
   "cell_type": "markdown",
   "metadata": {},
   "source": [
    "<div class=\"alert alert-info\">\n",
    "<font size=\"4\", color = \"black\"><b>✍ Комментарий студента</b></font>\n",
    "    <br /> \n",
    "    <font size=\"3\", color = \"black\">\n",
    "<br /> \n",
    "Поправил."
   ]
  },
  {
   "cell_type": "markdown",
   "metadata": {},
   "source": [
    "<div class=\"alert alert-warning\">\n",
    "<font size=\"5\"><b>Комментарий ревьюера</b></font>\n",
    "\n",
    "Совет:\n",
    "\n",
    "\n",
    "- .fit_transform на train датасете, .transform на test/valid. Вроде все верно, но после ты подаешь tf_idf_train в GridSearchCV или cross_val_score и он внутри себя разбивая его на тренировочный и валидационный датасет, получается подглядывание в будущее (утечка данных). Стоит засунуть TfidfVectorizer в pipeline\n"
   ]
  },
  {
   "cell_type": "markdown",
   "metadata": {},
   "source": [
    "<div class=\"alert alert-info\">\n",
    "<font size=\"4\", color = \"black\"><b>✍ Комментарий студента</b></font>\n",
    "    <br /> \n",
    "    <font size=\"3\", color = \"black\">\n",
    "<br /> \n",
    "Поправил."
   ]
  },
  {
   "cell_type": "markdown",
   "metadata": {},
   "source": [
    "### Промежуточные выводы"
   ]
  },
  {
   "cell_type": "markdown",
   "metadata": {},
   "source": [
    "**Проведена подготовка данных:**\n",
    "* разделены признаки и целевой признак - `toxic`,\n",
    "* в тексте оставлены только латинские символы и пробелы,\n",
    "* произведена лемматизация с POS-тегами c помощью  `WordNetLemmatizer`,\n",
    "* датасет разделен на обучающую и тестовую выборки."
   ]
  },
  {
   "cell_type": "markdown",
   "metadata": {},
   "source": [
    "## Обучение"
   ]
  },
  {
   "cell_type": "code",
   "execution_count": 29,
   "metadata": {},
   "outputs": [],
   "source": [
    "# Список моделей для тестирования\n",
    "models = {\n",
    "    'LogisticRegression': {},\n",
    "    'DecisionTreeClassifier': {},\n",
    "    'RandomForestClassifier': {},\n",
    "    'PassiveAggressiveClassifier': {},\n",
    "}\n",
    "\n",
    "scorer='f1';"
   ]
  },
  {
   "cell_type": "markdown",
   "metadata": {},
   "source": [
    "### Тестирование моделей"
   ]
  },
  {
   "cell_type": "markdown",
   "metadata": {},
   "source": [
    "#### Логистическая регрессия `LogisticRegression`"
   ]
  },
  {
   "cell_type": "code",
   "execution_count": 30,
   "metadata": {},
   "outputs": [
    {
     "name": "stdout",
     "output_type": "stream",
     "text": [
      "Модель LogisticRegression\n",
      "----------------------------------------------------------------------\n",
      "Время обучения: 700.95 сек.\n",
      "Время предсказания: 4.57 сек.\n",
      "F1: 0.76\n",
      "Лучшая модель:Pipeline(steps=[('vectorizer', TfidfVectorizer()),\n",
      "                ('models',\n",
      "                 LogisticRegression(C=6, class_weight='balanced',\n",
      "                                    random_state=12345, solver='liblinear'))])\n",
      "----------------------------------------------------------------------\n",
      "CPU times: user 6min 49s, sys: 4min 55s, total: 11min 45s\n",
      "Wall time: 11min 45s\n"
     ]
    }
   ],
   "source": [
    "%%time\n",
    "model_name = 'LogisticRegression'\n",
    "model = LogisticRegression(random_state=RANDOM_STATE, solver='liblinear', class_weight='balanced')\n",
    "\n",
    "pipeline = Pipeline(steps = [\n",
    "     ('vectorizer', TfidfVectorizer()),\n",
    "     ('models', model)\n",
    "])\n",
    "param_grid = {\n",
    "    'models': [model],\n",
    "    'models__C': range(1, 10)\n",
    "}\n",
    "\n",
    "models[model_name] = create_model(model_name,\n",
    "                                  pipeline,\n",
    "                                  param_grid,\n",
    "                                  features_train,\n",
    "                                  target_train,\n",
    "                                  scorer);"
   ]
  },
  {
   "cell_type": "markdown",
   "metadata": {},
   "source": [
    "<div class=\"alert alert-success\">\n",
    "<font size=\"5\"><b>Комментарий ревьюера</b></font>\n",
    "\n",
    "Успех:\n",
    "\n",
    "\n",
    "GridSearch + pipeline это уже другой уровень (Правда как написал выше в таком виде он довольно бессмысленен,  и не позволяет тебе избежать утечки данных )\n",
    "    \n",
    "    \n",
    "   \n",
    "\n",
    "- не забыт random_state\n",
    "\n",
    "\n",
    "- class_weight = 'balanced'\n",
    "\n",
    "\n",
    "- scoring = 'f1'\n",
    "\n",
    "\n",
    "\n",
    "\n",
    "\n",
    "    \n",
    "<div class=\"alert alert-warning\">\n",
    "\n",
    "\n",
    "Совет:  \n",
    "\n",
    "\n",
    "\n",
    "    \n",
    "- Кстати у нас в данных дисбаланс, и в pipeline можно было ещё засунуть интеллектуальный перебалансировщик данных SMOTE (Альтернатива class_weight='balanced', хотя это иногда приводит даже к ухудшению метрики):\n",
    "    \n",
    "    \n",
    "    from imblearn.pipeline import Pipeline\n",
    "    \n",
    "    pipe = Pipeline(steps = [\n",
    "         ('vectorizer', TfidfVectorizer()),\n",
    "         ('sampling', SMOTE(random_state=13)),\n",
    "         ('classifier', LogisticRegression(random_state=13))])\n",
    "\n",
    "    \n",
    "Зачем тут вообще нужен pipeline?! Если ты просто сбалансируешь тренировочную выборку, то валидационный датасет который создаёт GridSearchCV/cros_val_score внутри себя тоже будет сбалансирован, в итоге, по  .best_score_ будет завышенная метрика. Можно [почитать](https://datascience.xyz/practice/kak-delat-kross-validaciju-pri-apsemplinge-dannyh.html) как с помощью pipeline можно обойти этот момент     \n",
    "    \n",
    "\n",
    "Ещё парочку cоветов, на будущее\n",
    "\n",
    "\n",
    "- Совет 1, развития темы использования pipeline\n",
    "    \n",
    "    \n",
    "Как создавать собственные функции в pipeline (мы пользовались стандартными из sklearn - Scaler, MinMax, или как в этом проекте TFIDF итп)    \n",
    "\n",
    "\n",
    "Можешь взять за основу [Ссылка 1](https://dzen.ru/media/id/5ee6f73b7cadb75a66e4c7e3/sozdanie-polzovatelskih-preobrazovatelei-dannyh-62b2a9a80e49941961ffc7a2),\n",
    "[Ссылка 2](https://towardsdatascience.com/pipelines-custom-transformers-in-scikit-learn-the-step-by-step-guide-with-python-code-4a7d9b068156)\n",
    "\n",
    "    \n",
    "    \n",
    "    \n",
    "    \n",
    "- Совет 2, как можно улучшить метрику использовав дополнительные признаки  например посчитать число слов в тексте, длину слов, число знаков препинания, число слов с заглавной итп итд, или можно получить оценку сентиментов используя библиотеку\n",
    "    \n",
    "    \n",
    "    from nltk.sentiment.vader import SentimentIntensityAnalyzer    \n"
   ]
  },
  {
   "cell_type": "markdown",
   "metadata": {},
   "source": [
    "<div class=\"alert alert-info\">\n",
    "<font size=\"4\", color = \"black\"><b>✍ Комментарий студента</b></font>\n",
    "    <br /> \n",
    "    <font size=\"3\", color = \"black\">\n",
    "<br /> \n",
    "Поправил частично. Не стал создавать новые признаки для \"чистоты эксперимента\". Идею понял, учту на будущее.\n",
    "Анализ настроений провел выше."
   ]
  },
  {
   "cell_type": "markdown",
   "metadata": {},
   "source": [
    "<div class=\"alert alert-success\">\n",
    "<font size=\"5\"><b>Комментарий ревьюераV2</b></font>\n",
    "\n",
    "\n",
    "\n",
    "Успех 👍:\n",
    "\n",
    "\n",
    "\n",
    "А теперь без утечки данных.  Ещё вижу что совет с SMOTE оказался вредным,  метрика упала.  такое бывает, поэтому ты мог его убрать\n",
    "\n",
    "\n",
    "Выше видел что ты для интереса видимо попробовал SentimentIntensityAnalyzer"
   ]
  },
  {
   "cell_type": "markdown",
   "metadata": {},
   "source": [
    "<div class=\"alert alert-info\">\n",
    "<font size=\"4\", color = \"black\"><b>✍ Комментарий студента</b></font>\n",
    "    <br /> \n",
    "    <font size=\"3\", color = \"black\">\n",
    "<br /> \n",
    "Поправил. Оставил class_weight='balanced'. Без него метрика падает."
   ]
  },
  {
   "cell_type": "markdown",
   "metadata": {},
   "source": [
    "<div class=\"alert alert-success\">\n",
    "<font size=\"5\"><b>Комментарий ревьюераV3</b></font>\n",
    "\n",
    "\n",
    "\n",
    "Успех 👍:\n",
    "\n",
    "\n",
    "\n",
    "Понятно.  Тут уж у кого как.  В этом проекте class_weight='balanced' порой тоже приводит к небольшому ухудшению метрики\n",
    "\n",
    "\n",
    " "
   ]
  },
  {
   "cell_type": "markdown",
   "metadata": {},
   "source": [
    "#### Дерево решений `DecisionTreeClassifier`"
   ]
  },
  {
   "cell_type": "code",
   "execution_count": 31,
   "metadata": {},
   "outputs": [
    {
     "name": "stdout",
     "output_type": "stream",
     "text": [
      "Модель DecisionTreeClassifier\n",
      "----------------------------------------------------------------------\n",
      "Время обучения: 118.94 сек.\n",
      "Время предсказания: 4.73 сек.\n",
      "F1: 0.19\n",
      "Лучшая модель:Pipeline(steps=[('vectorizer', TfidfVectorizer()),\n",
      "                ('models',\n",
      "                 DecisionTreeClassifier(class_weight='balanced', max_depth=4,\n",
      "                                        max_features=4, random_state=12345))])\n",
      "----------------------------------------------------------------------\n",
      "CPU times: user 2min 3s, sys: 197 ms, total: 2min 3s\n",
      "Wall time: 2min 3s\n"
     ]
    }
   ],
   "source": [
    "%%time\n",
    "model_name = 'DecisionTreeClassifier'\n",
    "model = DecisionTreeClassifier(random_state=RANDOM_STATE, class_weight='balanced')\n",
    "\n",
    "\n",
    "pipeline = Pipeline(steps = [\n",
    "     ('vectorizer', TfidfVectorizer()),\n",
    "     ('models', model)\n",
    "])\n",
    "\n",
    "param_grid = {\n",
    "    'models': [model],\n",
    "    'models__max_depth': range(2, 5),\n",
    "    'models__max_features': range(2, 5)\n",
    "}\n",
    "\n",
    "models[model_name] = create_model(model_name,\n",
    "                                  pipeline,\n",
    "                                  param_grid,\n",
    "                                  features_train,\n",
    "                                  target_train,\n",
    "                                  scorer);"
   ]
  },
  {
   "cell_type": "markdown",
   "metadata": {},
   "source": [
    "#### Случайный лес `RandomForestClassifier`"
   ]
  },
  {
   "cell_type": "code",
   "execution_count": 32,
   "metadata": {},
   "outputs": [
    {
     "name": "stdout",
     "output_type": "stream",
     "text": [
      "Модель RandomForestClassifier\n",
      "----------------------------------------------------------------------\n",
      "Время обучения: 125.29 сек.\n",
      "Время предсказания: 5.0 сек.\n",
      "F1: 0.27\n",
      "Лучшая модель:Pipeline(steps=[('vectorizer', TfidfVectorizer()),\n",
      "                ('models',\n",
      "                 RandomForestClassifier(class_weight='balanced', max_depth=4,\n",
      "                                        n_estimators=15, random_state=12345))])\n",
      "----------------------------------------------------------------------\n",
      "CPU times: user 2min 9s, sys: 233 ms, total: 2min 10s\n",
      "Wall time: 2min 10s\n"
     ]
    }
   ],
   "source": [
    "%%time\n",
    "model_name = 'RandomForestClassifier'\n",
    "model = RandomForestClassifier(random_state=RANDOM_STATE, class_weight='balanced')\n",
    "\n",
    "pipeline = Pipeline(steps = [\n",
    "     ('vectorizer', TfidfVectorizer()),\n",
    "     ('models', model)\n",
    "])\n",
    "param_grid = {\n",
    "    'models': [model],\n",
    "    'models__max_depth': range(2, 5),\n",
    "    'models__n_estimators': range(5, 20, 5)\n",
    "}\n",
    "\n",
    "models[model_name] = create_model(model_name,\n",
    "                                  pipeline,\n",
    "                                  param_grid,\n",
    "                                  features_train,\n",
    "                                  target_train,\n",
    "                                  scorer);"
   ]
  },
  {
   "cell_type": "markdown",
   "metadata": {},
   "source": [
    "#### Пассивно-агрессивный алгоритм `PassiveAggressiveClassifier`"
   ]
  },
  {
   "cell_type": "code",
   "execution_count": 33,
   "metadata": {},
   "outputs": [
    {
     "name": "stdout",
     "output_type": "stream",
     "text": [
      "Модель PassiveAggressiveClassifier\n",
      "----------------------------------------------------------------------\n",
      "Время обучения: 19.64 сек.\n",
      "Время предсказания: 2.34 сек.\n",
      "F1: 0.73\n",
      "Лучшая модель:Pipeline(steps=[('vectorizer', TfidfVectorizer()),\n",
      "                ('models',\n",
      "                 PassiveAggressiveClassifier(class_weight='balanced',\n",
      "                                             max_iter=200))])\n",
      "----------------------------------------------------------------------\n",
      "CPU times: user 21.5 s, sys: 455 ms, total: 22 s\n",
      "Wall time: 22 s\n"
     ]
    }
   ],
   "source": [
    "%%time\n",
    "model_name = 'PassiveAggressiveClassifier'\n",
    "model = PassiveAggressiveClassifier(max_iter=200, class_weight='balanced')\n",
    "\n",
    "pipeline = Pipeline(steps = [\n",
    "     ('vectorizer', TfidfVectorizer()),\n",
    "     ('models', model)\n",
    "])\n",
    "param_grid = {\n",
    "    'models': [model]\n",
    "}\n",
    "\n",
    "models[model_name] = create_model(model_name,\n",
    "                                  pipeline,\n",
    "                                  param_grid,\n",
    "                                  features_train,\n",
    "                                  target_train,\n",
    "                                  scorer);"
   ]
  },
  {
   "cell_type": "markdown",
   "metadata": {},
   "source": [
    "### Промежуточные выводы"
   ]
  },
  {
   "cell_type": "markdown",
   "metadata": {},
   "source": [
    "**Обучено 4 модели:**\n",
    "* `LogisticRegression` - логистическая регрессия,\n",
    "* `DecisionTreeClassifier` - дерево решений,\n",
    "* `RandomForestClassifier` - случайный лес,\n",
    "* `PassiveAggressiveClassifier` - ассивно-агрессивный алгоритм."
   ]
  },
  {
   "cell_type": "markdown",
   "metadata": {},
   "source": [
    "<div class=\"alert alert-warning\">\n",
    "<font size=\"5\"><b>Комментарий ревьюера</b></font>\n",
    "\n",
    "\n",
    "\n",
    "Совет 🤔:\n",
    "\n",
    " \n",
    "- Деревянные модели (RF, DT) медленные, и на данном датасете не показывает хорошие результаты. Например использование случайного леса часто приводят к получению f1 = 0, потому что для этого датасета нужны деревья бОльше глубины, но это будет слишком долго считать. \n",
    "\n",
    " \n",
    "\n",
    "-  Хорошие результаты показывает Логистическая регрессия. Советую сконцентрироваться у Логистической регрессии на переборе \"C\" (10)\n",
    "\n",
    "\n",
    "\n",
    "- Ещё есть такая вот интересная [моделька](https://medium.com/geekculture/passive-aggressive-algorithm-for-big-data-models-8cd535ceb2e6) (открывается с помощью VPN) [или](https://datafinder.ru/products/passivno-agressivnyy-klassifikator-v-mashinnom-obuchenii) . Можно с помощью её попробовать получить > 0.75  Она считается очень шустрой \n",
    "\n",
    "\n",
    "\n",
    "- Не забываем n_jobs = -1 (Иногда помогает)"
   ]
  },
  {
   "cell_type": "markdown",
   "metadata": {},
   "source": [
    "<div class=\"alert alert-info\">\n",
    "<font size=\"4\", color = \"black\"><b>✍ Комментарий студента</b></font>\n",
    "    <br /> \n",
    "    <font size=\"3\", color = \"black\">\n",
    "<br /> \n",
    "Поправил. Деревянные модели оставил для наглядности."
   ]
  },
  {
   "cell_type": "markdown",
   "metadata": {},
   "source": [
    "## Анализ моделей"
   ]
  },
  {
   "cell_type": "markdown",
   "metadata": {},
   "source": [
    "### Сравнение моделей"
   ]
  },
  {
   "cell_type": "code",
   "execution_count": 34,
   "metadata": {},
   "outputs": [],
   "source": [
    "# Cформируем таблицу с результати\n",
    "columns=['model', scorer, 'training_time', 'prediction_time']\n",
    "keys = list(models.keys())\n",
    "data = []\n",
    "for key in models.keys():\n",
    "    data.append([\n",
    "            key,\n",
    "            models[key][scorer],\n",
    "            models[key]['training_time'], \n",
    "            models[key]['prediction_time']\n",
    "       ])\n",
    "results_df = pd.DataFrame(data=data, columns=columns).sort_values(by=[scorer]);"
   ]
  },
  {
   "cell_type": "code",
   "execution_count": 35,
   "metadata": {
    "scrolled": false
   },
   "outputs": [
    {
     "data": {
      "text/html": [
       "<div>\n",
       "<style scoped>\n",
       "    .dataframe tbody tr th:only-of-type {\n",
       "        vertical-align: middle;\n",
       "    }\n",
       "\n",
       "    .dataframe tbody tr th {\n",
       "        vertical-align: top;\n",
       "    }\n",
       "\n",
       "    .dataframe thead th {\n",
       "        text-align: right;\n",
       "    }\n",
       "</style>\n",
       "<table border=\"1\" class=\"dataframe\">\n",
       "  <thead>\n",
       "    <tr style=\"text-align: right;\">\n",
       "      <th></th>\n",
       "      <th>model</th>\n",
       "      <th>f1</th>\n",
       "      <th>training_time</th>\n",
       "      <th>prediction_time</th>\n",
       "    </tr>\n",
       "  </thead>\n",
       "  <tbody>\n",
       "    <tr>\n",
       "      <th>1</th>\n",
       "      <td>DecisionTreeClassifier</td>\n",
       "      <td>0.19</td>\n",
       "      <td>118.94</td>\n",
       "      <td>4.73</td>\n",
       "    </tr>\n",
       "    <tr>\n",
       "      <th>2</th>\n",
       "      <td>RandomForestClassifier</td>\n",
       "      <td>0.27</td>\n",
       "      <td>125.29</td>\n",
       "      <td>5.00</td>\n",
       "    </tr>\n",
       "    <tr>\n",
       "      <th>3</th>\n",
       "      <td>PassiveAggressiveClassifier</td>\n",
       "      <td>0.73</td>\n",
       "      <td>19.64</td>\n",
       "      <td>2.34</td>\n",
       "    </tr>\n",
       "    <tr>\n",
       "      <th>0</th>\n",
       "      <td>LogisticRegression</td>\n",
       "      <td>0.76</td>\n",
       "      <td>700.95</td>\n",
       "      <td>4.57</td>\n",
       "    </tr>\n",
       "  </tbody>\n",
       "</table>\n",
       "</div>"
      ],
      "text/plain": [
       "                         model    f1  training_time  prediction_time\n",
       "1       DecisionTreeClassifier  0.19         118.94             4.73\n",
       "2       RandomForestClassifier  0.27         125.29             5.00\n",
       "3  PassiveAggressiveClassifier  0.73          19.64             2.34\n",
       "0           LogisticRegression  0.76         700.95             4.57"
      ]
     },
     "metadata": {},
     "output_type": "display_data"
    }
   ],
   "source": [
    "# Покажем таблицу с результати обучения и предсказаниями модели \n",
    "display(results_df);"
   ]
  },
  {
   "cell_type": "code",
   "execution_count": 36,
   "metadata": {},
   "outputs": [
    {
     "data": {
      "image/png": "[encoded data removed]",
      "text/plain": [
       "<Figure size 864x432 with 1 Axes>"
      ]
     },
     "metadata": {
      "needs_background": "light"
     },
     "output_type": "display_data"
    }
   ],
   "source": [
    "# Покажем диаграмму сравнения моделей по F1\n",
    "plt.figure(figsize=(12, 6))\n",
    "ax = sns.barplot(x=results_df['model'], y=results_df[scorer]) \n",
    "plt.suptitle(f'Сравнение моделей по {scorer.upper()}', fontsize=16, ha='center')\n",
    "ax.set_xlabel('')\n",
    "ax.set_ylabel(f'Значение {scorer.upper()}')\n",
    "# добавим линию \"отсечки\" с целевым F1 0.75\n",
    "ax.axhline(y = 0.75, color = 'red',\n",
    "           label = f'заданный уровень {scorer.upper()}', linestyle='dashed')\n",
    "plt.legend(loc='upper left')\n",
    "ax.bar_label(ax.containers[0],\n",
    "             color='black',\n",
    "             fontsize=12,\n",
    "             fontweight='bold')\n",
    "plt.show();"
   ]
  },
  {
   "cell_type": "markdown",
   "metadata": {},
   "source": [
    "### Промежуточные выводы"
   ]
  },
  {
   "cell_type": "markdown",
   "metadata": {},
   "source": [
    "**Результаты сравнения моделей:**\n",
    "* Лучшей моделью по метрике `F1` является `LogisticRegression`.\n",
    "* Остальные модели не удовлетворяют целевому значению метрики `F1` >= 0.75."
   ]
  },
  {
   "cell_type": "markdown",
   "metadata": {},
   "source": [
    "<div class=\"alert alert-success\">\n",
    "<font size=\"5\"><b>Комментарий ревьюера</b></font>\n",
    "\n",
    "\n",
    "\n",
    "Успех 👍:\n",
    "\n",
    "\n",
    "Всё весьма наглядно\n",
    "\n",
    "\n",
    " "
   ]
  },
  {
   "cell_type": "markdown",
   "metadata": {},
   "source": [
    "## Тестирование"
   ]
  },
  {
   "cell_type": "code",
   "execution_count": 37,
   "metadata": {},
   "outputs": [],
   "source": [
    "model = models['LogisticRegression']['best_model'].named_steps['models']\n",
    "tfidf = models['LogisticRegression']['best_model'].named_steps['vectorizer']"
   ]
  },
  {
   "cell_type": "markdown",
   "metadata": {},
   "source": [
    "### Проверка лучшей модели на тестовых данных"
   ]
  },
  {
   "cell_type": "code",
   "execution_count": 38,
   "metadata": {},
   "outputs": [
    {
     "name": "stdout",
     "output_type": "stream",
     "text": [
      "F1 на тестовой выборке: 0.76\n",
      "----------------------------------------------------------------------\n",
      "CPU times: user 2.27 s, sys: 816 µs, total: 2.27 s\n",
      "Wall time: 2.27 s\n"
     ]
    }
   ],
   "source": [
    "%%time\n",
    "model = models['LogisticRegression']['best_model'].named_steps['models']\n",
    "tfidf = models['LogisticRegression']['best_model'].named_steps['vectorizer']\n",
    "features_test_new = tfidf.transform(features_test)\n",
    "predictions_test = model.predict(features_test_new)\n",
    "f1_test = round(f1_score(target_test, predictions_test), 2)\n",
    "print(f'F1 на тестовой выборке: {f1_test}')\n",
    "print('-' * 70);"
   ]
  },
  {
   "cell_type": "markdown",
   "metadata": {},
   "source": [
    "<div class=\"alert alert-warning\">\n",
    "<font size=\"5\"><b>Комментарий ревьюераV2</b></font>\n",
    "\n",
    "\n",
    "\n",
    "Совет 🤔:\n",
    "\n",
    "\n",
    "А почему ты просто не использовал  pipeline (Только надо было их назвать по-разному чтобы они не перезаписывали друг друга)?  "
   ]
  },
  {
   "cell_type": "markdown",
   "metadata": {},
   "source": [
    "<div class=\"alert alert-info\">\n",
    "<font size=\"4\", color = \"black\"><b>✍ Комментарий студента</b></font>\n",
    "    <br /> \n",
    "    <font size=\"3\", color = \"black\">\n",
    "<br /> \n",
    "Я сохраняю словарь всех моделей. В разных проектах использую этот подход."
   ]
  },
  {
   "cell_type": "markdown",
   "metadata": {},
   "source": [
    "<div class=\"alert alert-warning\">\n",
    "<font size=\"5\"><b>Комментарий ревьюераV3</b></font>\n",
    "\n",
    "\n",
    "\n",
    "Совет 🤔:\n",
    "\n",
    "\n",
    "пожалуйста, но всё равно непонятно зачем разбивать pipeline на 2 части:\n",
    "    \n",
    " \n",
    "    \n",
    "    model = models['LogisticRegression']['best_model'].named_steps['models']\n",
    "    tfidf = models['LogisticRegression']['best_model'].named_steps['vectorizer']\n",
    "    features_test_new = tfidf.transform(features_test)\n",
    "    \n",
    "    \n",
    "    \n",
    "И применять их по отдельности,  если можно сразу"
   ]
  },
  {
   "cell_type": "markdown",
   "metadata": {},
   "source": [
    "<div class=\"alert alert-danger\">\n",
    "<font size=\"5\"><b>Комментарий ревьюераV2</b></font>\n",
    "\n",
    "\n",
    "\n",
    "Ошибка ❌:\n",
    "\n",
    "\n",
    "\n",
    "Тут нарушена логика использования выборок.  Мы не сможем использовать тестовую выборку для подбора порога.  Тестовую выборку мы уже используем готовой моделью, с подобранным гиперпараметра, с подобранным порогом\n",
    "\n",
    "    \n",
    "Потом тут есть какой-то Явный несоответствие.  На пороге 0,5 у тебя 0,72,  а на графике у тебя далеко за 0,8    "
   ]
  },
  {
   "cell_type": "markdown",
   "metadata": {},
   "source": [
    "<div class=\"alert alert-info\">\n",
    "<font size=\"4\", color = \"black\"><b>✍ Комментарий студента</b></font>\n",
    "    <br /> \n",
    "    <font size=\"3\", color = \"black\">\n",
    "<br /> \n",
    "Убрал подбор порога. На тренировочной выборке f1 тоже 1 получается."
   ]
  },
  {
   "cell_type": "markdown",
   "metadata": {},
   "source": [
    "<div class=\"alert alert-warning\">\n",
    "<font size=\"5\"><b>Комментарий ревьюераV3</b></font>\n",
    "\n",
    "\n",
    "\n",
    "Совет 🤔:\n",
    "\n",
    "\n",
    "Такого быть не может.  Даже интересно где у тебя ошибка была "
   ]
  },
  {
   "cell_type": "markdown",
   "metadata": {},
   "source": [
    "**Метрика `F1` на тестовых данных удовлетворяет целевому уровню >= 0.75.**"
   ]
  },
  {
   "cell_type": "markdown",
   "metadata": {},
   "source": [
    "<div class=\"alert alert-success\">\n",
    "<font size=\"5\"><b>Комментарий ревьюера</b></font>\n",
    "\n",
    "Успех: \n",
    "\n",
    "- Все верно, логика моделирования не нарушена, тут тестируем только лучшую модель отобранную на валидации, или парочку лучших, если на валидации результаты близки\n",
    "\n",
    " \n",
    "\n",
    "- Если студент получил на тесте f1 выше 0,75, это считается приемлемым результатом\n",
    "\n",
    "\n",
    "<div class=\"alert alert-warning\">\n",
    "\n",
    "\n",
    "\n",
    "Совет: \n",
    "\n",
    "\n",
    "Что может помочь добиться лучшего результата (от простого)? \n",
    "\n",
    "\n",
    "\n",
    "- можно поиграться [порогом](https://machinelearningmastery.com/threshold-moving-for-imbalanced-classification/). Таким образом можно поднять метрику на процент - полтора\n",
    "   \n",
    "\n",
    "    \n",
    " - полезно настраивать векторайзеры  (тут пригодится pipeline). Это конечно потребует вычислительных мощностей, ведь если даже использовать биграммы число признаков резко увеличится\n",
    "\n",
    "\n",
    "     \n",
    "\n",
    "- сгенерировать новые фичи, например  например посчитать число слов в тексте, длину слов итп итд. Или с помощью [тематического моделирования](https://pythobyte.com/python-for-nlp-topic-modeling-8fb3d689/) \n",
    "    \n",
    "    \n",
    "    \n",
    "\n",
    "\n",
    "\n",
    "\n",
    "    \n",
    "- попробовать другие модели\n",
    "    \n",
    "    \n",
    "    \n",
    "\n",
    "\n",
    "- использование предбученной модели Берта, выбрав соответствующую модель и используя полученные эмбединги, даже на небольшом тренировочном датасете можно обучить модель, которая на test покажет хорошую метрику. В этом случаи можно сразу получить метрику > 0.95 (при правильно выбранной модели)\n",
    "\n",
    "\n",
    "\n",
    "\n"
   ]
  },
  {
   "cell_type": "markdown",
   "metadata": {},
   "source": [
    "<div class=\"alert alert-info\">\n",
    "<font size=\"4\", color = \"black\"><b>✍ Комментарий студента</b></font>\n",
    "    <br /> \n",
    "    <font size=\"3\", color = \"black\">\n",
    "<br /> \n",
    "Поправил частично. BERT использовать пока не стал."
   ]
  },
  {
   "cell_type": "markdown",
   "metadata": {},
   "source": [
    "\n",
    "<div class=\"alert alert-warning\">\n",
    "<font size=\"5\"><b>Комментарий ревьюера</b></font>\n",
    "\n",
    "\n",
    "Совет: \n",
    "\n",
    "\n",
    "А ещё можешь посмотреть какие слова  является наиболее важным для классификации с точки зрения модели\n",
    "\n",
    "\n",
    "    \n",
    "Полезно чтобы модель не выглядела чёрным ящиком   "
   ]
  },
  {
   "cell_type": "markdown",
   "metadata": {},
   "source": [
    "<div class=\"alert alert-info\">\n",
    "<font size=\"4\", color = \"black\"><b>✍ Комментарий студента</b></font>\n",
    "    <br /> \n",
    "    <font size=\"3\", color = \"black\">\n",
    "<br /> \n",
    "Сделал ниже."
   ]
  },
  {
   "cell_type": "code",
   "execution_count": 39,
   "metadata": {
    "scrolled": false
   },
   "outputs": [
    {
     "data": {
      "image/png": "[encoded data removed]",
      "text/plain": [
       "<Figure size 864x432 with 1 Axes>"
      ]
     },
     "metadata": {
      "needs_background": "light"
     },
     "output_type": "display_data"
    }
   ],
   "source": [
    "df = pd.DataFrame(\n",
    "    zip(tfidf.get_feature_names_out(), model.coef_[0]),\n",
    "    columns=['word', 'weight']).sort_values(by=['weight'], ascending=False).head(20)\n",
    "\n",
    "plt.figure(figsize=(12, 6))\n",
    "ax = sns.barplot(x=df['word'], y=df['weight']) \n",
    "plt.suptitle(f'ТОП-20 значимости слов для модели', fontsize=16, ha='center')\n",
    "ax.set_xlabel('Слово')\n",
    "ax.set_ylabel(f'Значимость')\n",
    "plt.show();"
   ]
  },
  {
   "cell_type": "markdown",
   "metadata": {},
   "source": [
    "<div class=\"alert alert-success\">\n",
    "<font size=\"5\"><b>Комментарий ревьюераV2</b></font>\n",
    "\n",
    "\n",
    "\n",
    "Успех 👍:\n",
    "\n",
    "\n",
    "\n",
    "Всё весьма наглядно\n",
    "\n",
    "\n",
    " "
   ]
  },
  {
   "cell_type": "markdown",
   "metadata": {},
   "source": [
    "## Итоговые выводы"
   ]
  },
  {
   "cell_type": "markdown",
   "metadata": {},
   "source": [
    "### Отчет о проделанной работе"
   ]
  },
  {
   "cell_type": "markdown",
   "metadata": {},
   "source": [
    "**Цель данного проекта - обучить модель классифицировать комментарии на позитивные и негативные.**\n",
    "\n",
    "**В ходе загрузки и изучения данных:**\n",
    "* Проведена загрузка.\n",
    "* В ходе изучения данных выявили, что:\n",
    "    - Пропуски в данных не выявлены.\n",
    "    - Выявлен дисбаланс классов.\n",
    "    \n",
    "**В ходе подготовки данных:**\n",
    "* разделены признаки и целевой признак - `toxic`,\n",
    "* в тексте оставлены только латинские символы и пробелы,\n",
    "* произведена лемматизация с POS-тегами c помощью  `WordNetLemmatizer`,\n",
    "* датасет разделен на обучающую и тестовую выборки,\n",
    "* данные векторизированы с учетом стоп-слов.\n",
    "\n",
    "**Обучено 4 модели:**\n",
    "* `LogisticRegression` - логистическая регрессия,\n",
    "* `DecisionTreeClassifier` - дерево решений,\n",
    "* `RandomForestClassifier` - случайный лес,\n",
    "* `PassiveAggressiveClassifier` - ассивно-агрессивный алгоритм.\n",
    "   \n",
    "**Результаты сравнения моделей:**\n",
    "* Лучшей моделью по метрике `F1` является `LogisticRegression`.\n",
    "* Остальные модели не удовлетворяют целевому значению метрики `F1` >= 0.75.\n",
    "\n",
    "**Проведена проверка лучшей модели на тестовых данных. Метрика `F1` на тестовых данных удовлетворяет целевому уровню >= 0.75.**"
   ]
  },
  {
   "cell_type": "markdown",
   "metadata": {},
   "source": [
    "### Выводы"
   ]
  },
  {
   "cell_type": "markdown",
   "metadata": {},
   "source": [
    "1. **По результатам оценки определено, что наилучшие показатели продемонстрировала модель `LogisticRegression`.**\n",
    "2. **Модель сохранена в переменной `models['LogisticRegression']['best_model']`**.\n",
    "3. **Модель рекомендована заказчику для классифицикации комментариев пользователей на позитивные и негативные.**\n",
    "\n",
    "*В связи с большими требованиями к объему оперативной памяти и низкой скоростью работы модели BERT, проект реализован без использования этой модели.*"
   ]
  },
  {
   "cell_type": "markdown",
   "metadata": {},
   "source": [
    "<div class=\"alert alert-warning\">\n",
    "<font size=\"5\"><b>Комментарий ревьюера</b></font>\n",
    "\n",
    "\n",
    "\n",
    "Совет 🤔:\n",
    "\n",
    "\n",
    "Можно использовать 2.000 примеров.  И тогда Берт можно будет запустить даже в тренажёре. Или можно пойти в Colab и использовать GPU, и тогда на 2000 примерах код отработает за полчаса\n",
    "    \n",
    "    \n",
    "    \n",
    "    Также, в связи с низкой скоростью работы лемматизации, использован стемминг\n",
    "    \n",
    "    \n",
    "выше написал варианты решения"
   ]
  },
  {
   "cell_type": "markdown",
   "metadata": {},
   "source": [
    "\n",
    "<div class=\"alert alert-info\">\n",
    "<font size=\"5\"><b>Комментарий ревьюера</b></font>\n",
    "\n",
    "\n",
    "\n",
    "Дмитрий, у тебя старательно выполненная работа, все четко, осмысленно. \n",
    "\n",
    "\n",
    "\n",
    " \n",
    "\n",
    "Очистка проведена корректно (но есть вопросы к лемматизации)\n",
    "\n",
    "\n",
    "Выводы присутствуют, они четкие и подробные.\n",
    "\n",
    "\n",
    "Логика моделирования не нарушена, GS использован корректно \n",
    "\n",
    "\n",
    "\n",
    "Так как число ошибок небольшое, можешь усложнить проект:\n",
    "\n",
    "\n",
    "\n",
    "\n",
    "\n",
    "- попробуй использовать связку GS+pipeline как надо\n",
    "\n",
    "\n",
    "\n",
    "\n",
    "- попробуй очень современный и модный сейчас подход с использованием  Берта. Есть несколько вариантов, самый эффективный - это использовать эмбединги (как замена TFIDF) для этого есть уже готовый код в тренажёре (в этом случае разрешается сильно порезать датасет, а если еще и использовать GPU в Colab код можно прогнать за полчаса).\n",
    "\n",
    "\n",
    "\n",
    "- для красивой  визуализации можешь построить облако для токсичных и нетоксичных комментариев\n",
    "\n",
    "\n",
    "\n",
    "- чтобы заглянуть внутрь модели, можешь посмотреть какой из признаков является наиболее важный для логистической регресси (должно получиться слово fuck)   \n",
    " \n",
    "\n",
    "\n",
    "Обязательное к исправлению:\n",
    "\n",
    "\n",
    "\n",
    " \n",
    "\n",
    "- лемматизации нет (но тут сам выбирай, в принципе нужно метрику ты достиг)\n",
    "\n",
    " \n",
    "\n",
    "\n",
    "- .astype('U') лишнее, стоит экономить ресурсы, иначе может даже ядро обрушиться\n",
    "\n",
    "\n",
    " \n",
    "\n",
    "- при сплите не забываем random_state (можно один раз вначале просто прописать random.seed(42), чтобы не прописывать каждый раз везде random_state. Кстати знаешь откуда 42?)\n",
    "\n",
    "\n",
    "\n",
    "\n",
    "\n",
    "\n",
    "Жду исправлений, для принятия проекта. Если какие то вопросы, то сразу спрашивай ) \n",
    "\n",
    "\n",
    "<font color='green'><b>Полезные (и просто интересные) материалы:</b> \\\n",
    "Для работы с текстами используют и другие подходы. Например, сейчас активно используются RNN (LSTM) и трансформеры (BERT и другие с улицы Сезам, например, ELMO). НО! Они не являются панацеей, не всегда они нужны, так как и TF-IDF или Word2Vec + модели из классического ML тоже могут справляться. \\\n",
    "BERT тяжелый, существует много его вариаций для разных задач, есть готовые модели, есть надстройки над библиотекой transformers. Если, обучать BERT на GPU (можно в Google Colab или Kaggle), то должно быть побыстрее.\\\n",
    "https://huggingface.co/transformers/model_doc/bert.html \\\n",
    "https://t.me/renat_alimbekov \\\n",
    "https://colah.github.io/posts/2015-08-Understanding-LSTMs/ - Про LSTM \\\n",
    "https://web.stanford.edu/~jurafsky/slp3/10.pdf - про энкодер-декодер модели, этеншены\\\n",
    "https://pytorch.org/tutorials/beginner/transformer_tutorial.html - официальный гайд\n",
    "по трансформеру от создателей pytorch\\\n",
    "https://transformer.huggingface.co/ - поболтать с трансформером \\\n",
    "Библиотеки: allennlp, fairseq, transformers, tensorflow-text — множествореализованных\n",
    "методов для трансформеров методов NLP \\\n",
    "Word2Vec https://radimrehurek.com/gensim/models/word2vec.html \n",
    "\n",
    "\n",
    "Если понравилась работа с текстами, то можешь посмотреть очень интересный (но очень-очень сложный) курс лекций: https://github.com/yandexdataschool/nlp_course .\n",
    "\n",
    "Если нравится смотреть и слушать то есть целый курс на Ютубе https://www.youtube.com/watch?v=qDMwIQRQt-M&list=PLEwK9wdS5g0qksxWxtE5c2KuFkIfUXe3i&index=1\n"
   ]
  },
  {
   "cell_type": "markdown",
   "metadata": {},
   "source": [
    "\n",
    "<div class=\"alert alert-info\">\n",
    "<font size=\"5\"><b>Комментарий ревьюераV2</b></font>\n",
    "\n",
    "Спасибо за работу!    \n",
    "\n",
    "Получается зря я  насоветовал тебе SMOTE,  он тебя просадил метрику на несколько процентов.  Слово сказать и class_weight тоже занижает метрику. Видимо в этом проекте учёт дисбаланса даже вредит. Так что предлагаю  убрать раз идея не сработала\n",
    "\n",
    "\n",
    "Что осталось из красного:\n",
    "\n",
    "- У тебя есть ошибка логике использования выборок , мы не можем использовать тест выборку для нахождения порога, это называется подгонка. И потом полученные значения явно не те,  не получаем мы f1 = 1 при пороге 0,51,  там  улучшения два-три процента  "
   ]
  },
  {
   "cell_type": "markdown",
   "metadata": {},
   "source": [
    "<div class=\"alert alert-info\">\n",
    "<font size=\"4\", color = \"black\"><b>✍ Комментарий студента</b></font>\n",
    "    <br /> \n",
    "    <font size=\"3\", color = \"black\">\n",
    "<br /> \n",
    "Поправил. "
   ]
  },
  {
   "cell_type": "markdown",
   "metadata": {},
   "source": [
    "\n",
    "<div class=\"alert alert-info\">\n",
    "<font size=\"5\"><b>Комментарий ревьюераV3</b></font>\n",
    "\n",
    "Спасибо за работу!    \n",
    "\n",
    " \n",
    "Красного нет, вопросов нет, значит все, пора принимать) Надеюсь мои советы и вопросики были полезны и в копилочку знаний упало что то новое, а проект стал лучше, и симпатичней.\n",
    "\n",
    "  \n",
    "Отличная работа Дмитрий. Желаю успехов в дальнейшей учебе!\n"
   ]
  },
  {
   "cell_type": "markdown",
   "metadata": {},
   "source": [
    "## Чек-лист проверки"
   ]
  },
  {
   "cell_type": "markdown",
   "metadata": {},
   "source": [
    "- [x]  Jupyter Notebook открыт\n",
    "- [x]  Весь код выполняется без ошибок\n",
    "- [x]  Ячейки с кодом расположены в порядке исполнения\n",
    "- [x]  Данные загружены и подготовлены\n",
    "- [x]  Модели обучены\n",
    "- [x]  Значение метрики *F1* не меньше 0.75\n",
    "- [x]  Выводы написаны"
   ]
  }
 ],
 "metadata": {
  "ExecuteTimeLog": [
   {
    "duration": 38625,
    "start_time": "2024-04-26T12:56:32.777Z"
   },
   {
    "duration": 3003,
    "start_time": "2024-04-26T12:57:11.404Z"
   },
   {
    "duration": 2,
    "start_time": "2024-04-26T12:57:14.409Z"
   },
   {
    "duration": 22,
    "start_time": "2024-04-26T12:57:14.412Z"
   },
   {
    "duration": 7,
    "start_time": "2024-04-26T12:57:14.436Z"
   },
   {
    "duration": 2388,
    "start_time": "2024-04-26T12:57:14.444Z"
   },
   {
    "duration": 2,
    "start_time": "2024-04-26T12:57:16.834Z"
   },
   {
    "duration": 2356,
    "start_time": "2024-04-26T12:57:16.837Z"
   },
   {
    "duration": 2,
    "start_time": "2024-04-26T12:57:19.195Z"
   },
   {
    "duration": 34,
    "start_time": "2024-04-26T12:57:19.199Z"
   },
   {
    "duration": 17101,
    "start_time": "2024-04-26T13:05:13.334Z"
   },
   {
    "duration": 5641,
    "start_time": "2024-04-26T13:05:30.437Z"
   },
   {
    "duration": 3,
    "start_time": "2024-04-26T13:05:36.079Z"
   },
   {
    "duration": 26,
    "start_time": "2024-04-26T13:05:36.084Z"
   },
   {
    "duration": 20,
    "start_time": "2024-04-26T13:05:36.112Z"
   },
   {
    "duration": 2273,
    "start_time": "2024-04-26T13:05:36.133Z"
   },
   {
    "duration": 3,
    "start_time": "2024-04-26T13:05:38.408Z"
   },
   {
    "duration": 2154,
    "start_time": "2024-04-26T13:05:38.413Z"
   },
   {
    "duration": 3,
    "start_time": "2024-04-26T13:05:40.569Z"
   },
   {
    "duration": 1723,
    "start_time": "2024-04-26T13:05:40.573Z"
   },
   {
    "duration": 48,
    "start_time": "2024-04-26T15:50:55.026Z"
   },
   {
    "duration": 45187,
    "start_time": "2024-04-26T16:06:22.109Z"
   },
   {
    "duration": 3467,
    "start_time": "2024-04-26T16:07:07.298Z"
   },
   {
    "duration": 3,
    "start_time": "2024-04-26T16:07:10.767Z"
   },
   {
    "duration": 47,
    "start_time": "2024-04-26T16:07:10.773Z"
   },
   {
    "duration": 48,
    "start_time": "2024-04-26T16:07:10.821Z"
   },
   {
    "duration": 3455,
    "start_time": "2024-04-26T16:07:10.870Z"
   },
   {
    "duration": 3,
    "start_time": "2024-04-26T16:07:14.326Z"
   },
   {
    "duration": 2314,
    "start_time": "2024-04-26T16:07:14.330Z"
   },
   {
    "duration": 2519,
    "start_time": "2024-04-26T16:07:16.645Z"
   },
   {
    "duration": 45,
    "start_time": "2024-04-26T16:07:19.166Z"
   },
   {
    "duration": 5028,
    "start_time": "2024-04-26T16:07:19.213Z"
   },
   {
    "duration": 2,
    "start_time": "2024-04-26T16:07:24.243Z"
   },
   {
    "duration": 140544,
    "start_time": "2024-04-26T16:07:24.247Z"
   },
   {
    "duration": 27307,
    "start_time": "2024-04-26T16:10:41.755Z"
   },
   {
    "duration": 4917,
    "start_time": "2024-04-26T16:11:09.064Z"
   },
   {
    "duration": 3,
    "start_time": "2024-04-26T16:11:13.982Z"
   },
   {
    "duration": 25,
    "start_time": "2024-04-26T16:11:13.987Z"
   },
   {
    "duration": 35,
    "start_time": "2024-04-26T16:11:14.013Z"
   },
   {
    "duration": 3422,
    "start_time": "2024-04-26T16:11:14.050Z"
   },
   {
    "duration": 3,
    "start_time": "2024-04-26T16:11:17.474Z"
   },
   {
    "duration": 2260,
    "start_time": "2024-04-26T16:11:17.478Z"
   },
   {
    "duration": 2356,
    "start_time": "2024-04-26T16:11:19.740Z"
   },
   {
    "duration": 28,
    "start_time": "2024-04-26T16:11:22.098Z"
   },
   {
    "duration": 4946,
    "start_time": "2024-04-26T16:11:22.128Z"
   },
   {
    "duration": 3,
    "start_time": "2024-04-26T16:11:27.075Z"
   },
   {
    "duration": 15067,
    "start_time": "2024-04-26T16:11:41.745Z"
   },
   {
    "duration": 4886,
    "start_time": "2024-04-26T16:11:56.814Z"
   },
   {
    "duration": 2,
    "start_time": "2024-04-26T16:12:01.702Z"
   },
   {
    "duration": 48,
    "start_time": "2024-04-26T16:12:01.706Z"
   },
   {
    "duration": 29,
    "start_time": "2024-04-26T16:12:01.756Z"
   },
   {
    "duration": 3410,
    "start_time": "2024-04-26T16:12:01.786Z"
   },
   {
    "duration": 3,
    "start_time": "2024-04-26T16:12:05.197Z"
   },
   {
    "duration": 2253,
    "start_time": "2024-04-26T16:12:05.201Z"
   },
   {
    "duration": 2290,
    "start_time": "2024-04-26T16:12:07.456Z"
   },
   {
    "duration": 8,
    "start_time": "2024-04-26T16:12:09.747Z"
   },
   {
    "duration": 5213,
    "start_time": "2024-04-26T16:12:09.756Z"
   },
   {
    "duration": 3,
    "start_time": "2024-04-26T16:12:14.971Z"
   },
   {
    "duration": 141589,
    "start_time": "2024-04-26T16:12:14.976Z"
   },
   {
    "duration": 15266,
    "start_time": "2024-04-26T16:23:30.217Z"
   },
   {
    "duration": 5247,
    "start_time": "2024-04-26T16:23:45.486Z"
   },
   {
    "duration": 3,
    "start_time": "2024-04-26T16:23:50.735Z"
   },
   {
    "duration": 15,
    "start_time": "2024-04-26T16:23:50.740Z"
   },
   {
    "duration": 34,
    "start_time": "2024-04-26T16:23:50.757Z"
   },
   {
    "duration": 3429,
    "start_time": "2024-04-26T16:23:50.792Z"
   },
   {
    "duration": 3,
    "start_time": "2024-04-26T16:23:54.222Z"
   },
   {
    "duration": 2243,
    "start_time": "2024-04-26T16:23:54.226Z"
   },
   {
    "duration": 2335,
    "start_time": "2024-04-26T16:23:56.470Z"
   },
   {
    "duration": 8,
    "start_time": "2024-04-26T16:23:58.807Z"
   },
   {
    "duration": 5596,
    "start_time": "2024-04-26T16:23:58.817Z"
   },
   {
    "duration": 3,
    "start_time": "2024-04-26T16:24:04.414Z"
   },
   {
    "duration": 144611,
    "start_time": "2024-04-26T16:24:04.418Z"
   },
   {
    "duration": 14988,
    "start_time": "2024-04-26T16:34:08.704Z"
   },
   {
    "duration": 4471,
    "start_time": "2024-04-26T16:34:23.694Z"
   },
   {
    "duration": 3,
    "start_time": "2024-04-26T16:34:28.167Z"
   },
   {
    "duration": 21,
    "start_time": "2024-04-26T16:34:28.172Z"
   },
   {
    "duration": 25,
    "start_time": "2024-04-26T16:34:28.197Z"
   },
   {
    "duration": 3408,
    "start_time": "2024-04-26T16:34:28.223Z"
   },
   {
    "duration": 3,
    "start_time": "2024-04-26T16:34:31.632Z"
   },
   {
    "duration": 2266,
    "start_time": "2024-04-26T16:34:31.637Z"
   },
   {
    "duration": 2262,
    "start_time": "2024-04-26T16:34:33.904Z"
   },
   {
    "duration": 37,
    "start_time": "2024-04-26T16:34:36.168Z"
   },
   {
    "duration": 5179,
    "start_time": "2024-04-26T16:34:36.206Z"
   },
   {
    "duration": 172,
    "start_time": "2024-04-26T16:34:41.387Z"
   },
   {
    "duration": 6,
    "start_time": "2024-04-26T16:34:41.561Z"
   },
   {
    "duration": 144102,
    "start_time": "2024-04-26T16:34:41.570Z"
   },
   {
    "duration": 47,
    "start_time": "2024-04-26T16:37:29.468Z"
   },
   {
    "duration": 15255,
    "start_time": "2024-04-26T16:37:58.262Z"
   },
   {
    "duration": 5492,
    "start_time": "2024-04-26T16:38:13.519Z"
   },
   {
    "duration": 3,
    "start_time": "2024-04-26T16:38:19.013Z"
   },
   {
    "duration": 45,
    "start_time": "2024-04-26T16:38:19.018Z"
   },
   {
    "duration": 51,
    "start_time": "2024-04-26T16:38:19.066Z"
   },
   {
    "duration": 3364,
    "start_time": "2024-04-26T16:38:19.119Z"
   },
   {
    "duration": 3,
    "start_time": "2024-04-26T16:38:22.484Z"
   },
   {
    "duration": 2284,
    "start_time": "2024-04-26T16:38:22.489Z"
   },
   {
    "duration": 2253,
    "start_time": "2024-04-26T16:38:24.774Z"
   },
   {
    "duration": 21,
    "start_time": "2024-04-26T16:38:27.029Z"
   },
   {
    "duration": 5539,
    "start_time": "2024-04-26T16:38:27.052Z"
   },
   {
    "duration": 182,
    "start_time": "2024-04-26T16:38:32.592Z"
   },
   {
    "duration": 5,
    "start_time": "2024-04-26T16:38:32.775Z"
   },
   {
    "duration": 143557,
    "start_time": "2024-04-26T16:38:32.783Z"
   },
   {
    "duration": 15244,
    "start_time": "2024-04-26T16:52:03.014Z"
   },
   {
    "duration": 5007,
    "start_time": "2024-04-26T16:52:18.261Z"
   },
   {
    "duration": 3,
    "start_time": "2024-04-26T16:52:23.270Z"
   },
   {
    "duration": 24,
    "start_time": "2024-04-26T16:52:23.274Z"
   },
   {
    "duration": 25,
    "start_time": "2024-04-26T16:52:23.300Z"
   },
   {
    "duration": 3332,
    "start_time": "2024-04-26T16:52:23.327Z"
   },
   {
    "duration": 2,
    "start_time": "2024-04-26T16:52:26.661Z"
   },
   {
    "duration": 2187,
    "start_time": "2024-04-26T16:52:26.664Z"
   },
   {
    "duration": 2235,
    "start_time": "2024-04-26T16:52:28.853Z"
   },
   {
    "duration": 4,
    "start_time": "2024-04-26T16:52:31.090Z"
   },
   {
    "duration": 5578,
    "start_time": "2024-04-26T16:52:31.096Z"
   },
   {
    "duration": 249,
    "start_time": "2024-04-26T16:52:36.676Z"
   },
   {
    "duration": 7,
    "start_time": "2024-04-26T16:52:36.927Z"
   },
   {
    "duration": 142263,
    "start_time": "2024-04-26T16:52:36.937Z"
   },
   {
    "duration": 34933,
    "start_time": "2024-04-27T07:20:21.724Z"
   },
   {
    "duration": 1916,
    "start_time": "2024-04-27T07:20:56.660Z"
   },
   {
    "duration": 4,
    "start_time": "2024-04-27T07:20:58.578Z"
   },
   {
    "duration": 18,
    "start_time": "2024-04-27T07:20:58.584Z"
   },
   {
    "duration": 17,
    "start_time": "2024-04-27T07:20:58.604Z"
   },
   {
    "duration": 14,
    "start_time": "2024-04-27T07:20:58.623Z"
   },
   {
    "duration": 6,
    "start_time": "2024-04-27T07:20:58.638Z"
   },
   {
    "duration": 12,
    "start_time": "2024-04-27T07:20:58.646Z"
   },
   {
    "duration": 3393,
    "start_time": "2024-04-27T07:20:58.660Z"
   },
   {
    "duration": 3,
    "start_time": "2024-04-27T07:21:02.056Z"
   },
   {
    "duration": 2755,
    "start_time": "2024-04-27T07:21:02.060Z"
   },
   {
    "duration": 2365,
    "start_time": "2024-04-27T07:21:04.816Z"
   },
   {
    "duration": 7445,
    "start_time": "2024-04-27T07:21:07.184Z"
   },
   {
    "duration": 179,
    "start_time": "2024-04-27T07:21:14.631Z"
   },
   {
    "duration": 3,
    "start_time": "2024-04-27T07:21:14.811Z"
   },
   {
    "duration": 156175,
    "start_time": "2024-04-27T07:21:14.815Z"
   },
   {
    "duration": 18574,
    "start_time": "2024-04-27T07:25:14.656Z"
   },
   {
    "duration": 3519,
    "start_time": "2024-04-27T07:25:33.233Z"
   },
   {
    "duration": 3,
    "start_time": "2024-04-27T07:25:36.754Z"
   },
   {
    "duration": 16,
    "start_time": "2024-04-27T07:25:36.758Z"
   },
   {
    "duration": 23,
    "start_time": "2024-04-27T07:25:36.776Z"
   },
   {
    "duration": 28,
    "start_time": "2024-04-27T07:25:36.801Z"
   },
   {
    "duration": 12,
    "start_time": "2024-04-27T07:25:36.830Z"
   },
   {
    "duration": 25,
    "start_time": "2024-04-27T07:25:36.843Z"
   },
   {
    "duration": 3410,
    "start_time": "2024-04-27T07:25:36.870Z"
   },
   {
    "duration": 3,
    "start_time": "2024-04-27T07:25:40.282Z"
   },
   {
    "duration": 2793,
    "start_time": "2024-04-27T07:25:40.287Z"
   },
   {
    "duration": 1233,
    "start_time": "2024-04-27T07:25:43.082Z"
   },
   {
    "duration": 3765,
    "start_time": "2024-04-27T07:25:44.317Z"
   },
   {
    "duration": 172,
    "start_time": "2024-04-27T07:25:48.085Z"
   },
   {
    "duration": 3,
    "start_time": "2024-04-27T07:25:48.258Z"
   },
   {
    "duration": 77492,
    "start_time": "2024-04-27T07:25:48.262Z"
   },
   {
    "duration": 1136,
    "start_time": "2024-04-27T07:27:05.755Z"
   },
   {
    "duration": 6958,
    "start_time": "2024-04-27T07:27:06.892Z"
   },
   {
    "duration": 3,
    "start_time": "2024-04-27T07:27:13.851Z"
   },
   {
    "duration": 132918,
    "start_time": "2024-04-27T07:27:13.856Z"
   },
   {
    "duration": 1942,
    "start_time": "2024-04-27T07:29:26.776Z"
   },
   {
    "duration": 11990,
    "start_time": "2024-04-27T07:29:28.720Z"
   },
   {
    "duration": 8,
    "start_time": "2024-04-27T07:29:40.712Z"
   },
   {
    "duration": 43,
    "start_time": "2024-04-27T07:29:40.722Z"
   },
   {
    "duration": 299,
    "start_time": "2024-04-27T07:29:40.767Z"
   },
   {
    "duration": 22,
    "start_time": "2024-04-27T07:29:41.070Z"
   },
   {
    "duration": 32906,
    "start_time": "2024-05-03T11:32:25.617Z"
   },
   {
    "duration": 1612,
    "start_time": "2024-05-03T11:32:58.525Z"
   },
   {
    "duration": 2,
    "start_time": "2024-05-03T11:33:00.138Z"
   },
   {
    "duration": 80,
    "start_time": "2024-05-03T11:33:00.142Z"
   },
   {
    "duration": 73,
    "start_time": "2024-05-03T11:33:00.223Z"
   },
   {
    "duration": 44,
    "start_time": "2024-05-03T11:33:00.297Z"
   },
   {
    "duration": 50,
    "start_time": "2024-05-03T11:33:00.343Z"
   },
   {
    "duration": 60,
    "start_time": "2024-05-03T11:33:00.395Z"
   },
   {
    "duration": 3189,
    "start_time": "2024-05-03T11:33:00.457Z"
   },
   {
    "duration": 3,
    "start_time": "2024-05-03T11:33:03.647Z"
   },
   {
    "duration": 1778,
    "start_time": "2024-05-03T11:33:03.651Z"
   },
   {
    "duration": 125,
    "start_time": "2024-05-03T11:33:05.430Z"
   },
   {
    "duration": 0,
    "start_time": "2024-05-03T11:33:05.557Z"
   },
   {
    "duration": 0,
    "start_time": "2024-05-03T11:33:05.558Z"
   },
   {
    "duration": 0,
    "start_time": "2024-05-03T11:33:05.559Z"
   },
   {
    "duration": 0,
    "start_time": "2024-05-03T11:33:05.560Z"
   },
   {
    "duration": 0,
    "start_time": "2024-05-03T11:33:05.560Z"
   },
   {
    "duration": 0,
    "start_time": "2024-05-03T11:33:05.561Z"
   },
   {
    "duration": 0,
    "start_time": "2024-05-03T11:33:05.562Z"
   },
   {
    "duration": 0,
    "start_time": "2024-05-03T11:33:05.563Z"
   },
   {
    "duration": 0,
    "start_time": "2024-05-03T11:33:05.564Z"
   },
   {
    "duration": 0,
    "start_time": "2024-05-03T11:33:05.564Z"
   },
   {
    "duration": 0,
    "start_time": "2024-05-03T11:33:05.565Z"
   },
   {
    "duration": 0,
    "start_time": "2024-05-03T11:33:05.566Z"
   },
   {
    "duration": 0,
    "start_time": "2024-05-03T11:33:05.567Z"
   },
   {
    "duration": 0,
    "start_time": "2024-05-03T11:33:05.568Z"
   },
   {
    "duration": 0,
    "start_time": "2024-05-03T11:33:05.584Z"
   },
   {
    "duration": 89,
    "start_time": "2024-05-03T11:33:40.724Z"
   },
   {
    "duration": 204,
    "start_time": "2024-05-03T11:39:11.165Z"
   },
   {
    "duration": 212,
    "start_time": "2024-05-03T11:39:40.916Z"
   },
   {
    "duration": 216,
    "start_time": "2024-05-03T11:40:07.012Z"
   },
   {
    "duration": 267,
    "start_time": "2024-05-03T11:40:35.604Z"
   },
   {
    "duration": 186,
    "start_time": "2024-05-03T11:40:53.924Z"
   },
   {
    "duration": 186,
    "start_time": "2024-05-03T11:41:10.556Z"
   },
   {
    "duration": 79,
    "start_time": "2024-05-03T11:41:37.267Z"
   },
   {
    "duration": 2,
    "start_time": "2024-05-03T11:44:22.228Z"
   },
   {
    "duration": 1384,
    "start_time": "2024-05-03T11:44:29.346Z"
   },
   {
    "duration": 17483,
    "start_time": "2024-05-03T11:45:36.462Z"
   },
   {
    "duration": 1310,
    "start_time": "2024-05-03T11:45:53.947Z"
   },
   {
    "duration": 2,
    "start_time": "2024-05-03T11:45:55.258Z"
   },
   {
    "duration": 13,
    "start_time": "2024-05-03T11:45:55.261Z"
   },
   {
    "duration": 12,
    "start_time": "2024-05-03T11:45:55.275Z"
   },
   {
    "duration": 8,
    "start_time": "2024-05-03T11:45:55.288Z"
   },
   {
    "duration": 6,
    "start_time": "2024-05-03T11:45:55.297Z"
   },
   {
    "duration": 28,
    "start_time": "2024-05-03T11:45:55.304Z"
   },
   {
    "duration": 740,
    "start_time": "2024-05-03T11:45:55.334Z"
   },
   {
    "duration": 3,
    "start_time": "2024-05-03T11:45:56.075Z"
   },
   {
    "duration": 1643,
    "start_time": "2024-05-03T11:45:56.083Z"
   },
   {
    "duration": 93,
    "start_time": "2024-05-03T11:45:57.727Z"
   },
   {
    "duration": 2,
    "start_time": "2024-05-03T11:45:57.822Z"
   },
   {
    "duration": 1345,
    "start_time": "2024-05-03T11:45:57.826Z"
   },
   {
    "duration": 170,
    "start_time": "2024-05-03T11:45:59.172Z"
   },
   {
    "duration": 2,
    "start_time": "2024-05-03T11:45:59.343Z"
   },
   {
    "duration": 5609,
    "start_time": "2024-05-03T11:45:59.347Z"
   },
   {
    "duration": 13,
    "start_time": "2024-05-03T11:46:04.957Z"
   },
   {
    "duration": 8445,
    "start_time": "2024-05-03T11:46:04.971Z"
   },
   {
    "duration": 3,
    "start_time": "2024-05-03T11:46:13.417Z"
   },
   {
    "duration": 17322,
    "start_time": "2024-05-03T11:48:05.426Z"
   },
   {
    "duration": 1411,
    "start_time": "2024-05-03T11:48:22.750Z"
   },
   {
    "duration": 3,
    "start_time": "2024-05-03T11:48:24.162Z"
   },
   {
    "duration": 6,
    "start_time": "2024-05-03T11:48:24.166Z"
   },
   {
    "duration": 11,
    "start_time": "2024-05-03T11:48:24.174Z"
   },
   {
    "duration": 6,
    "start_time": "2024-05-03T11:48:24.186Z"
   },
   {
    "duration": 18,
    "start_time": "2024-05-03T11:48:24.193Z"
   },
   {
    "duration": 5,
    "start_time": "2024-05-03T11:48:24.213Z"
   },
   {
    "duration": 728,
    "start_time": "2024-05-03T11:48:24.220Z"
   },
   {
    "duration": 2,
    "start_time": "2024-05-03T11:48:24.949Z"
   },
   {
    "duration": 1671,
    "start_time": "2024-05-03T11:48:24.953Z"
   },
   {
    "duration": 95,
    "start_time": "2024-05-03T11:48:26.625Z"
   },
   {
    "duration": 5,
    "start_time": "2024-05-03T11:48:26.722Z"
   },
   {
    "duration": 1168,
    "start_time": "2024-05-03T11:48:26.729Z"
   },
   {
    "duration": 167,
    "start_time": "2024-05-03T11:48:27.898Z"
   },
   {
    "duration": 2,
    "start_time": "2024-05-03T11:48:28.067Z"
   },
   {
    "duration": 1055,
    "start_time": "2024-05-03T11:48:28.070Z"
   },
   {
    "duration": 11,
    "start_time": "2024-05-03T11:48:29.126Z"
   },
   {
    "duration": 15,
    "start_time": "2024-05-03T11:48:29.138Z"
   },
   {
    "duration": 5,
    "start_time": "2024-05-03T11:48:29.154Z"
   },
   {
    "duration": 99,
    "start_time": "2024-05-03T11:48:29.160Z"
   },
   {
    "duration": 87,
    "start_time": "2024-05-03T11:48:29.260Z"
   },
   {
    "duration": 105,
    "start_time": "2024-05-03T11:48:29.348Z"
   },
   {
    "duration": 8,
    "start_time": "2024-05-03T11:48:29.454Z"
   },
   {
    "duration": 0,
    "start_time": "2024-05-03T11:48:29.463Z"
   },
   {
    "duration": 0,
    "start_time": "2024-05-03T11:48:29.464Z"
   },
   {
    "duration": 0,
    "start_time": "2024-05-03T11:48:29.465Z"
   },
   {
    "duration": 9,
    "start_time": "2024-05-03T11:49:34.541Z"
   },
   {
    "duration": 17439,
    "start_time": "2024-05-03T11:49:48.452Z"
   },
   {
    "duration": 1360,
    "start_time": "2024-05-03T11:50:05.893Z"
   },
   {
    "duration": 3,
    "start_time": "2024-05-03T11:50:07.255Z"
   },
   {
    "duration": 32,
    "start_time": "2024-05-03T11:50:07.260Z"
   },
   {
    "duration": 17,
    "start_time": "2024-05-03T11:50:07.294Z"
   },
   {
    "duration": 3,
    "start_time": "2024-05-03T11:50:07.313Z"
   },
   {
    "duration": 5,
    "start_time": "2024-05-03T11:50:07.317Z"
   },
   {
    "duration": 5,
    "start_time": "2024-05-03T11:50:07.323Z"
   },
   {
    "duration": 727,
    "start_time": "2024-05-03T11:50:07.329Z"
   },
   {
    "duration": 3,
    "start_time": "2024-05-03T11:50:08.058Z"
   },
   {
    "duration": 1671,
    "start_time": "2024-05-03T11:50:08.062Z"
   },
   {
    "duration": 95,
    "start_time": "2024-05-03T11:50:09.734Z"
   },
   {
    "duration": 3,
    "start_time": "2024-05-03T11:50:09.830Z"
   },
   {
    "duration": 3532,
    "start_time": "2024-05-03T11:50:09.834Z"
   },
   {
    "duration": 169,
    "start_time": "2024-05-03T11:50:13.367Z"
   },
   {
    "duration": 3,
    "start_time": "2024-05-03T11:50:13.537Z"
   },
   {
    "duration": 110661,
    "start_time": "2024-05-03T11:50:13.541Z"
   },
   {
    "duration": 10,
    "start_time": "2024-05-03T11:52:04.203Z"
   },
   {
    "duration": 7429,
    "start_time": "2024-05-03T11:52:04.214Z"
   },
   {
    "duration": 3,
    "start_time": "2024-05-03T11:52:11.645Z"
   },
   {
    "duration": 158935,
    "start_time": "2024-05-03T11:52:11.650Z"
   },
   {
    "duration": 2757,
    "start_time": "2024-05-03T11:54:50.586Z"
   },
   {
    "duration": 17353,
    "start_time": "2024-05-03T11:54:53.345Z"
   },
   {
    "duration": 5,
    "start_time": "2024-05-03T11:55:10.699Z"
   },
   {
    "duration": 16,
    "start_time": "2024-05-03T11:55:10.706Z"
   },
   {
    "duration": 228,
    "start_time": "2024-05-03T11:55:10.723Z"
   },
   {
    "duration": 50,
    "start_time": "2024-05-03T11:55:10.952Z"
   },
   {
    "duration": 17155,
    "start_time": "2024-05-03T11:56:22.938Z"
   },
   {
    "duration": 1348,
    "start_time": "2024-05-03T11:56:40.095Z"
   },
   {
    "duration": 3,
    "start_time": "2024-05-03T11:56:41.444Z"
   },
   {
    "duration": 7,
    "start_time": "2024-05-03T11:56:41.448Z"
   },
   {
    "duration": 15,
    "start_time": "2024-05-03T11:56:41.456Z"
   },
   {
    "duration": 4,
    "start_time": "2024-05-03T11:56:41.472Z"
   },
   {
    "duration": 7,
    "start_time": "2024-05-03T11:56:41.478Z"
   },
   {
    "duration": 15,
    "start_time": "2024-05-03T11:56:41.487Z"
   },
   {
    "duration": 735,
    "start_time": "2024-05-03T11:56:41.503Z"
   },
   {
    "duration": 3,
    "start_time": "2024-05-03T11:56:42.239Z"
   },
   {
    "duration": 1694,
    "start_time": "2024-05-03T11:56:42.243Z"
   },
   {
    "duration": 90,
    "start_time": "2024-05-03T11:56:43.938Z"
   },
   {
    "duration": 2,
    "start_time": "2024-05-03T11:56:44.029Z"
   },
   {
    "duration": 38,
    "start_time": "2024-05-03T11:56:44.033Z"
   },
   {
    "duration": 0,
    "start_time": "2024-05-03T11:56:44.072Z"
   },
   {
    "duration": 0,
    "start_time": "2024-05-03T11:56:44.073Z"
   },
   {
    "duration": 0,
    "start_time": "2024-05-03T11:56:44.074Z"
   },
   {
    "duration": 0,
    "start_time": "2024-05-03T11:56:44.075Z"
   },
   {
    "duration": 0,
    "start_time": "2024-05-03T11:56:44.076Z"
   },
   {
    "duration": 0,
    "start_time": "2024-05-03T11:56:44.077Z"
   },
   {
    "duration": 0,
    "start_time": "2024-05-03T11:56:44.078Z"
   },
   {
    "duration": 0,
    "start_time": "2024-05-03T11:56:44.079Z"
   },
   {
    "duration": 0,
    "start_time": "2024-05-03T11:56:44.080Z"
   },
   {
    "duration": 0,
    "start_time": "2024-05-03T11:56:44.081Z"
   },
   {
    "duration": 0,
    "start_time": "2024-05-03T11:56:44.082Z"
   },
   {
    "duration": 0,
    "start_time": "2024-05-03T11:56:44.083Z"
   },
   {
    "duration": 0,
    "start_time": "2024-05-03T11:56:44.084Z"
   },
   {
    "duration": 18846,
    "start_time": "2024-05-03T12:40:14.750Z"
   },
   {
    "duration": 1374,
    "start_time": "2024-05-03T12:40:33.598Z"
   },
   {
    "duration": 3,
    "start_time": "2024-05-03T12:40:34.973Z"
   },
   {
    "duration": 13,
    "start_time": "2024-05-03T12:40:34.984Z"
   },
   {
    "duration": 19,
    "start_time": "2024-05-03T12:40:34.999Z"
   },
   {
    "duration": 6,
    "start_time": "2024-05-03T12:40:35.019Z"
   },
   {
    "duration": 5,
    "start_time": "2024-05-03T12:40:35.026Z"
   },
   {
    "duration": 14,
    "start_time": "2024-05-03T12:40:35.033Z"
   },
   {
    "duration": 756,
    "start_time": "2024-05-03T12:40:35.048Z"
   },
   {
    "duration": 3,
    "start_time": "2024-05-03T12:40:35.806Z"
   },
   {
    "duration": 1717,
    "start_time": "2024-05-03T12:40:35.810Z"
   },
   {
    "duration": 93,
    "start_time": "2024-05-03T12:40:37.528Z"
   },
   {
    "duration": 15,
    "start_time": "2024-05-03T12:40:37.623Z"
   },
   {
    "duration": 482,
    "start_time": "2024-05-03T12:40:37.640Z"
   },
   {
    "duration": 249,
    "start_time": "2024-05-03T12:40:38.123Z"
   },
   {
    "duration": 117,
    "start_time": "2024-05-03T12:40:38.374Z"
   },
   {
    "duration": 0,
    "start_time": "2024-05-03T12:40:38.493Z"
   },
   {
    "duration": 0,
    "start_time": "2024-05-03T12:40:38.494Z"
   },
   {
    "duration": 0,
    "start_time": "2024-05-03T12:40:38.494Z"
   },
   {
    "duration": 0,
    "start_time": "2024-05-03T12:40:38.495Z"
   },
   {
    "duration": 0,
    "start_time": "2024-05-03T12:40:38.496Z"
   },
   {
    "duration": 0,
    "start_time": "2024-05-03T12:40:38.497Z"
   },
   {
    "duration": 0,
    "start_time": "2024-05-03T12:40:38.497Z"
   },
   {
    "duration": 0,
    "start_time": "2024-05-03T12:40:38.498Z"
   },
   {
    "duration": 0,
    "start_time": "2024-05-03T12:40:38.499Z"
   },
   {
    "duration": 0,
    "start_time": "2024-05-03T12:40:38.500Z"
   },
   {
    "duration": 0,
    "start_time": "2024-05-03T12:40:38.501Z"
   },
   {
    "duration": 4,
    "start_time": "2024-05-03T12:42:13.478Z"
   },
   {
    "duration": 2,
    "start_time": "2024-05-03T12:42:28.461Z"
   },
   {
    "duration": 171,
    "start_time": "2024-05-03T12:42:31.221Z"
   },
   {
    "duration": 25,
    "start_time": "2024-05-03T12:44:25.483Z"
   },
   {
    "duration": 2,
    "start_time": "2024-05-03T12:44:31.365Z"
   },
   {
    "duration": 172,
    "start_time": "2024-05-03T12:44:34.831Z"
   },
   {
    "duration": 296,
    "start_time": "2024-05-03T12:44:59.319Z"
   },
   {
    "duration": 2,
    "start_time": "2024-05-03T12:45:05.869Z"
   },
   {
    "duration": 122755,
    "start_time": "2024-05-03T12:45:07.557Z"
   },
   {
    "duration": 21,
    "start_time": "2024-05-03T12:48:20.230Z"
   },
   {
    "duration": 17292,
    "start_time": "2024-05-03T13:29:12.252Z"
   },
   {
    "duration": 1345,
    "start_time": "2024-05-03T13:29:29.546Z"
   },
   {
    "duration": 2,
    "start_time": "2024-05-03T13:29:30.892Z"
   },
   {
    "duration": 61,
    "start_time": "2024-05-03T13:29:30.895Z"
   },
   {
    "duration": 133,
    "start_time": "2024-05-03T13:29:30.957Z"
   },
   {
    "duration": 97,
    "start_time": "2024-05-03T13:29:31.091Z"
   },
   {
    "duration": 69,
    "start_time": "2024-05-03T13:29:31.190Z"
   },
   {
    "duration": 87,
    "start_time": "2024-05-03T13:29:31.260Z"
   },
   {
    "duration": 799,
    "start_time": "2024-05-03T13:29:31.348Z"
   },
   {
    "duration": 2,
    "start_time": "2024-05-03T13:29:32.149Z"
   },
   {
    "duration": 1671,
    "start_time": "2024-05-03T13:29:32.152Z"
   },
   {
    "duration": 93,
    "start_time": "2024-05-03T13:29:33.824Z"
   },
   {
    "duration": 15,
    "start_time": "2024-05-03T13:29:33.919Z"
   },
   {
    "duration": 199,
    "start_time": "2024-05-03T13:29:33.935Z"
   },
   {
    "duration": 1,
    "start_time": "2024-05-03T13:29:34.136Z"
   },
   {
    "duration": 123705,
    "start_time": "2024-05-03T13:29:34.139Z"
   },
   {
    "duration": 188,
    "start_time": "2024-05-03T13:31:37.845Z"
   },
   {
    "duration": 2,
    "start_time": "2024-05-03T13:31:38.035Z"
   },
   {
    "duration": 15,
    "start_time": "2024-05-03T13:31:38.038Z"
   },
   {
    "duration": 97,
    "start_time": "2024-05-03T13:31:38.054Z"
   },
   {
    "duration": 94,
    "start_time": "2024-05-03T13:31:38.152Z"
   },
   {
    "duration": 69,
    "start_time": "2024-05-03T13:31:38.248Z"
   },
   {
    "duration": 104,
    "start_time": "2024-05-03T13:31:38.318Z"
   },
   {
    "duration": 9,
    "start_time": "2024-05-03T13:31:38.424Z"
   },
   {
    "duration": 0,
    "start_time": "2024-05-03T13:31:38.434Z"
   },
   {
    "duration": 0,
    "start_time": "2024-05-03T13:31:38.435Z"
   },
   {
    "duration": 0,
    "start_time": "2024-05-03T13:31:38.436Z"
   },
   {
    "duration": 18176,
    "start_time": "2024-05-03T13:38:51.713Z"
   },
   {
    "duration": 1551,
    "start_time": "2024-05-03T13:39:09.891Z"
   },
   {
    "duration": 2,
    "start_time": "2024-05-03T13:39:11.443Z"
   },
   {
    "duration": 7,
    "start_time": "2024-05-03T13:39:11.447Z"
   },
   {
    "duration": 5,
    "start_time": "2024-05-03T13:39:11.456Z"
   },
   {
    "duration": 15,
    "start_time": "2024-05-03T13:39:11.462Z"
   },
   {
    "duration": 18,
    "start_time": "2024-05-03T13:39:11.478Z"
   },
   {
    "duration": 23,
    "start_time": "2024-05-03T13:39:11.497Z"
   },
   {
    "duration": 760,
    "start_time": "2024-05-03T13:39:11.521Z"
   },
   {
    "duration": 3,
    "start_time": "2024-05-03T13:39:12.283Z"
   },
   {
    "duration": 1756,
    "start_time": "2024-05-03T13:39:12.287Z"
   },
   {
    "duration": 103,
    "start_time": "2024-05-03T13:39:14.044Z"
   },
   {
    "duration": 17,
    "start_time": "2024-05-03T13:39:14.149Z"
   },
   {
    "duration": 284,
    "start_time": "2024-05-03T13:39:14.168Z"
   },
   {
    "duration": 2,
    "start_time": "2024-05-03T13:39:14.453Z"
   },
   {
    "duration": 132110,
    "start_time": "2024-05-03T13:39:14.456Z"
   },
   {
    "duration": 17,
    "start_time": "2024-05-03T13:41:26.568Z"
   },
   {
    "duration": 4,
    "start_time": "2024-05-03T13:41:26.586Z"
   },
   {
    "duration": 15,
    "start_time": "2024-05-03T13:41:26.591Z"
   },
   {
    "duration": 50635,
    "start_time": "2024-05-03T13:41:26.607Z"
   },
   {
    "duration": 18167,
    "start_time": "2024-05-03T13:42:17.243Z"
   },
   {
    "duration": 18986,
    "start_time": "2024-05-03T13:42:35.411Z"
   },
   {
    "duration": 3622,
    "start_time": "2024-05-03T13:42:54.398Z"
   },
   {
    "duration": 5,
    "start_time": "2024-05-03T13:42:58.021Z"
   },
   {
    "duration": 21,
    "start_time": "2024-05-03T13:42:58.027Z"
   },
   {
    "duration": 272,
    "start_time": "2024-05-03T13:42:58.050Z"
   },
   {
    "duration": 525,
    "start_time": "2024-05-03T13:42:58.324Z"
   },
   {
    "duration": 17611,
    "start_time": "2024-05-03T13:49:04.355Z"
   },
   {
    "duration": 1403,
    "start_time": "2024-05-03T13:49:21.968Z"
   },
   {
    "duration": 3,
    "start_time": "2024-05-03T13:49:23.372Z"
   },
   {
    "duration": 43,
    "start_time": "2024-05-03T13:49:23.376Z"
   },
   {
    "duration": 13,
    "start_time": "2024-05-03T13:49:23.420Z"
   },
   {
    "duration": 19,
    "start_time": "2024-05-03T13:49:23.434Z"
   },
   {
    "duration": 14,
    "start_time": "2024-05-03T13:49:23.454Z"
   },
   {
    "duration": 9,
    "start_time": "2024-05-03T13:49:23.469Z"
   },
   {
    "duration": 737,
    "start_time": "2024-05-03T13:49:23.479Z"
   },
   {
    "duration": 2,
    "start_time": "2024-05-03T13:49:24.218Z"
   },
   {
    "duration": 1728,
    "start_time": "2024-05-03T13:49:24.222Z"
   },
   {
    "duration": 96,
    "start_time": "2024-05-03T13:49:25.951Z"
   },
   {
    "duration": 19,
    "start_time": "2024-05-03T13:49:26.048Z"
   },
   {
    "duration": 274,
    "start_time": "2024-05-03T13:49:26.069Z"
   },
   {
    "duration": 2,
    "start_time": "2024-05-03T13:49:26.345Z"
   },
   {
    "duration": 504143,
    "start_time": "2024-05-03T13:49:26.348Z"
   },
   {
    "duration": 23,
    "start_time": "2024-05-03T13:57:50.492Z"
   },
   {
    "duration": 3,
    "start_time": "2024-05-03T13:57:50.516Z"
   },
   {
    "duration": 13,
    "start_time": "2024-05-03T13:57:50.520Z"
   },
   {
    "duration": 245515,
    "start_time": "2024-05-03T13:57:50.534Z"
   },
   {
    "duration": 73644,
    "start_time": "2024-05-03T14:01:56.050Z"
   },
   {
    "duration": 77166,
    "start_time": "2024-05-03T14:03:09.696Z"
   },
   {
    "duration": 12561,
    "start_time": "2024-05-03T14:04:26.863Z"
   },
   {
    "duration": 5,
    "start_time": "2024-05-03T14:04:39.425Z"
   },
   {
    "duration": 18,
    "start_time": "2024-05-03T14:04:39.431Z"
   },
   {
    "duration": 283,
    "start_time": "2024-05-03T14:04:39.451Z"
   },
   {
    "duration": 1670,
    "start_time": "2024-05-03T14:04:39.736Z"
   },
   {
    "duration": 1605,
    "start_time": "2024-05-03T14:04:52.407Z"
   },
   {
    "duration": 1419,
    "start_time": "2024-05-03T14:05:39.905Z"
   },
   {
    "duration": 1542,
    "start_time": "2024-05-03T14:05:58.111Z"
   },
   {
    "duration": 2946,
    "start_time": "2024-05-03T14:09:57.832Z"
   },
   {
    "duration": 2850,
    "start_time": "2024-05-03T14:11:23.272Z"
   },
   {
    "duration": 98,
    "start_time": "2024-05-03T14:20:33.691Z"
   },
   {
    "duration": 1376,
    "start_time": "2024-05-03T14:20:57.521Z"
   },
   {
    "duration": 2812,
    "start_time": "2024-05-03T14:22:48.122Z"
   },
   {
    "duration": 2774,
    "start_time": "2024-05-03T14:23:41.177Z"
   },
   {
    "duration": 2846,
    "start_time": "2024-05-03T14:24:36.393Z"
   },
   {
    "duration": 95,
    "start_time": "2024-05-03T14:26:28.488Z"
   },
   {
    "duration": 239,
    "start_time": "2024-05-03T14:26:56.672Z"
   },
   {
    "duration": 227621,
    "start_time": "2024-05-03T14:27:30.655Z"
   },
   {
    "duration": 14,
    "start_time": "2024-05-03T14:34:02.694Z"
   },
   {
    "duration": 24854,
    "start_time": "2024-05-03T14:34:27.653Z"
   },
   {
    "duration": 63,
    "start_time": "2024-05-03T14:35:12.578Z"
   },
   {
    "duration": 4,
    "start_time": "2024-05-03T14:35:16.788Z"
   },
   {
    "duration": 106,
    "start_time": "2024-05-03T14:37:58.764Z"
   },
   {
    "duration": 89,
    "start_time": "2024-05-03T14:38:29.621Z"
   },
   {
    "duration": 4,
    "start_time": "2024-05-03T14:39:37.941Z"
   },
   {
    "duration": 90,
    "start_time": "2024-05-03T14:43:25.925Z"
   },
   {
    "duration": 88,
    "start_time": "2024-05-03T14:43:26.017Z"
   },
   {
    "duration": 305545,
    "start_time": "2024-05-03T14:45:51.243Z"
   },
   {
    "duration": 13636,
    "start_time": "2024-05-03T14:50:56.789Z"
   },
   {
    "duration": 83043,
    "start_time": "2024-05-03T14:51:10.426Z"
   },
   {
    "duration": 87361,
    "start_time": "2024-05-03T14:52:33.471Z"
   },
   {
    "duration": 2824,
    "start_time": "2024-05-03T14:54:52.083Z"
   },
   {
    "duration": 75,
    "start_time": "2024-05-03T14:57:55.100Z"
   },
   {
    "duration": 1384,
    "start_time": "2024-05-03T14:59:42.331Z"
   },
   {
    "duration": 22397,
    "start_time": "2024-05-03T15:00:07.118Z"
   },
   {
    "duration": 3350,
    "start_time": "2024-05-03T15:00:29.517Z"
   },
   {
    "duration": 3,
    "start_time": "2024-05-03T15:00:32.868Z"
   },
   {
    "duration": 20,
    "start_time": "2024-05-03T15:00:32.872Z"
   },
   {
    "duration": 9,
    "start_time": "2024-05-03T15:00:32.893Z"
   },
   {
    "duration": 4,
    "start_time": "2024-05-03T15:00:32.903Z"
   },
   {
    "duration": 5,
    "start_time": "2024-05-03T15:00:32.908Z"
   },
   {
    "duration": 11,
    "start_time": "2024-05-03T15:00:32.915Z"
   },
   {
    "duration": 774,
    "start_time": "2024-05-03T15:00:32.927Z"
   },
   {
    "duration": 3,
    "start_time": "2024-05-03T15:00:33.703Z"
   },
   {
    "duration": 1747,
    "start_time": "2024-05-03T15:00:33.707Z"
   },
   {
    "duration": 100,
    "start_time": "2024-05-03T15:00:35.455Z"
   },
   {
    "duration": 17,
    "start_time": "2024-05-03T15:00:35.556Z"
   },
   {
    "duration": 187,
    "start_time": "2024-05-03T15:00:35.585Z"
   },
   {
    "duration": 3,
    "start_time": "2024-05-03T15:00:35.773Z"
   },
   {
    "duration": 159212,
    "start_time": "2024-05-03T15:00:35.777Z"
   },
   {
    "duration": 14,
    "start_time": "2024-05-03T15:03:14.990Z"
   },
   {
    "duration": 32,
    "start_time": "2024-05-03T15:03:15.005Z"
   },
   {
    "duration": 37,
    "start_time": "2024-05-03T15:03:15.038Z"
   },
   {
    "duration": 133726,
    "start_time": "2024-05-03T15:03:15.076Z"
   },
   {
    "duration": 26286,
    "start_time": "2024-05-03T15:05:28.803Z"
   },
   {
    "duration": 28811,
    "start_time": "2024-05-03T15:05:55.090Z"
   },
   {
    "duration": 5156,
    "start_time": "2024-05-03T15:06:23.903Z"
   },
   {
    "duration": 4,
    "start_time": "2024-05-03T15:06:29.060Z"
   },
   {
    "duration": 37,
    "start_time": "2024-05-03T15:06:29.065Z"
   },
   {
    "duration": 242,
    "start_time": "2024-05-03T15:06:29.104Z"
   },
   {
    "duration": 608,
    "start_time": "2024-05-03T15:06:29.347Z"
   },
   {
    "duration": 503,
    "start_time": "2024-05-03T15:07:09.014Z"
   },
   {
    "duration": 78,
    "start_time": "2024-05-03T15:07:21.551Z"
   },
   {
    "duration": 507,
    "start_time": "2024-05-03T15:07:37.128Z"
   },
   {
    "duration": 876,
    "start_time": "2024-05-03T15:09:59.024Z"
   },
   {
    "duration": 83,
    "start_time": "2024-05-03T15:10:20.553Z"
   },
   {
    "duration": 441,
    "start_time": "2024-05-03T15:11:22.351Z"
   },
   {
    "duration": 475,
    "start_time": "2024-05-03T15:12:27.511Z"
   },
   {
    "duration": 5,
    "start_time": "2024-05-03T15:15:24.886Z"
   },
   {
    "duration": 4,
    "start_time": "2024-05-03T15:17:43.742Z"
   },
   {
    "duration": 5,
    "start_time": "2024-05-03T15:17:50.958Z"
   },
   {
    "duration": 45,
    "start_time": "2024-05-03T15:18:12.192Z"
   },
   {
    "duration": 317,
    "start_time": "2024-05-03T15:18:40.239Z"
   },
   {
    "duration": 19,
    "start_time": "2024-05-03T15:19:31.294Z"
   },
   {
    "duration": 9,
    "start_time": "2024-05-03T15:19:46.278Z"
   },
   {
    "duration": 7,
    "start_time": "2024-05-03T15:22:41.991Z"
   },
   {
    "duration": 25,
    "start_time": "2024-05-03T15:24:34.014Z"
   },
   {
    "duration": 14,
    "start_time": "2024-05-03T15:25:13.097Z"
   },
   {
    "duration": 22377,
    "start_time": "2024-05-03T15:26:18.381Z"
   },
   {
    "duration": 6,
    "start_time": "2024-05-03T15:27:14.968Z"
   },
   {
    "duration": 20,
    "start_time": "2024-05-03T15:27:31.050Z"
   },
   {
    "duration": 27410,
    "start_time": "2024-05-03T15:28:36.258Z"
   },
   {
    "duration": 26798,
    "start_time": "2024-05-03T15:29:04.669Z"
   },
   {
    "duration": 20,
    "start_time": "2024-05-03T15:29:35.284Z"
   },
   {
    "duration": 41964,
    "start_time": "2024-05-03T15:30:56.349Z"
   },
   {
    "duration": 44789,
    "start_time": "2024-05-03T15:34:46.421Z"
   },
   {
    "duration": 43117,
    "start_time": "2024-05-03T15:36:07.495Z"
   },
   {
    "duration": 34366,
    "start_time": "2024-05-03T15:37:37.695Z"
   },
   {
    "duration": 5,
    "start_time": "2024-05-03T15:38:12.063Z"
   },
   {
    "duration": 18,
    "start_time": "2024-05-03T15:38:28.799Z"
   },
   {
    "duration": 34170,
    "start_time": "2024-05-03T15:40:00.062Z"
   },
   {
    "duration": 5,
    "start_time": "2024-05-03T15:40:34.234Z"
   },
   {
    "duration": 33956,
    "start_time": "2024-05-03T15:41:16.381Z"
   },
   {
    "duration": 1361,
    "start_time": "2024-05-03T15:41:50.339Z"
   },
   {
    "duration": 2,
    "start_time": "2024-05-03T15:41:51.702Z"
   },
   {
    "duration": 23,
    "start_time": "2024-05-03T15:41:51.705Z"
   },
   {
    "duration": 11,
    "start_time": "2024-05-03T15:41:51.729Z"
   },
   {
    "duration": 5,
    "start_time": "2024-05-03T15:41:51.741Z"
   },
   {
    "duration": 5,
    "start_time": "2024-05-03T15:41:51.747Z"
   },
   {
    "duration": 5,
    "start_time": "2024-05-03T15:41:51.753Z"
   },
   {
    "duration": 751,
    "start_time": "2024-05-03T15:41:51.760Z"
   },
   {
    "duration": 2,
    "start_time": "2024-05-03T15:41:52.514Z"
   },
   {
    "duration": 1580,
    "start_time": "2024-05-03T15:41:52.517Z"
   },
   {
    "duration": 145,
    "start_time": "2024-05-03T15:41:54.098Z"
   },
   {
    "duration": 18,
    "start_time": "2024-05-03T15:41:54.244Z"
   },
   {
    "duration": 202,
    "start_time": "2024-05-03T15:41:54.264Z"
   },
   {
    "duration": 2,
    "start_time": "2024-05-03T15:41:54.467Z"
   },
   {
    "duration": 36521,
    "start_time": "2024-05-03T15:42:54.114Z"
   },
   {
    "duration": 1447,
    "start_time": "2024-05-03T15:43:30.637Z"
   },
   {
    "duration": 2,
    "start_time": "2024-05-03T15:43:32.086Z"
   },
   {
    "duration": 21,
    "start_time": "2024-05-03T15:43:32.089Z"
   },
   {
    "duration": 71,
    "start_time": "2024-05-03T15:43:32.112Z"
   },
   {
    "duration": 30,
    "start_time": "2024-05-03T15:43:32.184Z"
   },
   {
    "duration": 34,
    "start_time": "2024-05-03T15:43:32.215Z"
   },
   {
    "duration": 38,
    "start_time": "2024-05-03T15:43:32.251Z"
   },
   {
    "duration": 786,
    "start_time": "2024-05-03T15:43:32.290Z"
   },
   {
    "duration": 8,
    "start_time": "2024-05-03T15:43:33.077Z"
   },
   {
    "duration": 1627,
    "start_time": "2024-05-03T15:43:33.086Z"
   },
   {
    "duration": 82,
    "start_time": "2024-05-03T15:43:34.784Z"
   },
   {
    "duration": 27,
    "start_time": "2024-05-03T15:43:34.867Z"
   },
   {
    "duration": 284,
    "start_time": "2024-05-03T15:43:34.897Z"
   },
   {
    "duration": 2,
    "start_time": "2024-05-03T15:43:35.182Z"
   },
   {
    "duration": 163759,
    "start_time": "2024-05-03T15:43:35.186Z"
   },
   {
    "duration": 133,
    "start_time": "2024-05-03T15:46:18.946Z"
   },
   {
    "duration": 0,
    "start_time": "2024-05-03T15:46:19.080Z"
   },
   {
    "duration": 0,
    "start_time": "2024-05-03T15:46:19.084Z"
   },
   {
    "duration": 0,
    "start_time": "2024-05-03T15:46:19.085Z"
   },
   {
    "duration": 0,
    "start_time": "2024-05-03T15:46:19.086Z"
   },
   {
    "duration": 0,
    "start_time": "2024-05-03T15:46:19.086Z"
   },
   {
    "duration": 0,
    "start_time": "2024-05-03T15:46:19.087Z"
   },
   {
    "duration": 0,
    "start_time": "2024-05-03T15:46:19.088Z"
   },
   {
    "duration": 0,
    "start_time": "2024-05-03T15:46:19.089Z"
   },
   {
    "duration": 0,
    "start_time": "2024-05-03T15:46:19.090Z"
   },
   {
    "duration": 0,
    "start_time": "2024-05-03T15:46:19.091Z"
   },
   {
    "duration": 0,
    "start_time": "2024-05-03T15:46:19.092Z"
   },
   {
    "duration": 21,
    "start_time": "2024-05-03T15:46:47.346Z"
   },
   {
    "duration": 68,
    "start_time": "2024-05-03T15:46:55.039Z"
   },
   {
    "duration": 2,
    "start_time": "2024-05-03T15:48:09.921Z"
   },
   {
    "duration": 3,
    "start_time": "2024-05-03T15:48:17.656Z"
   },
   {
    "duration": 3,
    "start_time": "2024-05-03T15:48:33.840Z"
   },
   {
    "duration": 16,
    "start_time": "2024-05-03T15:48:45.417Z"
   },
   {
    "duration": 106,
    "start_time": "2024-05-03T15:51:05.073Z"
   },
   {
    "duration": 122,
    "start_time": "2024-05-03T15:54:27.353Z"
   },
   {
    "duration": 10,
    "start_time": "2024-05-03T15:55:55.097Z"
   },
   {
    "duration": 96,
    "start_time": "2024-05-03T16:05:45.017Z"
   },
   {
    "duration": 66,
    "start_time": "2024-05-03T16:05:49.666Z"
   },
   {
    "duration": 132,
    "start_time": "2024-05-03T16:05:54.330Z"
   },
   {
    "duration": 44,
    "start_time": "2024-05-03T16:06:17.761Z"
   },
   {
    "duration": 33,
    "start_time": "2024-05-03T16:06:46.658Z"
   },
   {
    "duration": 33,
    "start_time": "2024-05-03T16:06:55.130Z"
   },
   {
    "duration": 33,
    "start_time": "2024-05-03T16:07:24.531Z"
   },
   {
    "duration": 34,
    "start_time": "2024-05-03T16:07:33.419Z"
   },
   {
    "duration": 38,
    "start_time": "2024-05-03T16:08:45.785Z"
   },
   {
    "duration": 25,
    "start_time": "2024-05-03T16:09:05.401Z"
   },
   {
    "duration": 702,
    "start_time": "2024-05-03T16:09:26.482Z"
   },
   {
    "duration": 114,
    "start_time": "2024-05-03T16:09:30.770Z"
   },
   {
    "duration": 13,
    "start_time": "2024-05-03T16:09:56.106Z"
   },
   {
    "duration": 16956,
    "start_time": "2024-05-03T16:10:00.897Z"
   },
   {
    "duration": 43,
    "start_time": "2024-05-03T16:14:40.354Z"
   },
   {
    "duration": 14,
    "start_time": "2024-05-03T16:14:55.817Z"
   },
   {
    "duration": 6228,
    "start_time": "2024-05-03T16:14:59.904Z"
   },
   {
    "duration": 140,
    "start_time": "2024-05-03T16:15:06.133Z"
   },
   {
    "duration": 925200,
    "start_time": "2024-05-03T16:15:11.850Z"
   },
   {
    "duration": 82,
    "start_time": "2024-05-03T16:35:13.762Z"
   },
   {
    "duration": 104,
    "start_time": "2024-05-03T16:36:33.487Z"
   },
   {
    "duration": 34238,
    "start_time": "2024-05-03T16:38:01.302Z"
   },
   {
    "duration": 1394,
    "start_time": "2024-05-03T16:38:35.542Z"
   },
   {
    "duration": 2,
    "start_time": "2024-05-03T16:38:36.940Z"
   },
   {
    "duration": 7,
    "start_time": "2024-05-03T16:38:36.945Z"
   },
   {
    "duration": 18,
    "start_time": "2024-05-03T16:38:36.954Z"
   },
   {
    "duration": 35,
    "start_time": "2024-05-03T16:38:36.973Z"
   },
   {
    "duration": 12,
    "start_time": "2024-05-03T16:38:37.009Z"
   },
   {
    "duration": 14,
    "start_time": "2024-05-03T16:38:37.023Z"
   },
   {
    "duration": 752,
    "start_time": "2024-05-03T16:38:37.039Z"
   },
   {
    "duration": 3,
    "start_time": "2024-05-03T16:38:37.793Z"
   },
   {
    "duration": 1690,
    "start_time": "2024-05-03T16:38:37.797Z"
   },
   {
    "duration": 77,
    "start_time": "2024-05-03T16:38:39.489Z"
   },
   {
    "duration": 30,
    "start_time": "2024-05-03T16:38:39.569Z"
   },
   {
    "duration": 273,
    "start_time": "2024-05-03T16:38:39.601Z"
   },
   {
    "duration": 2,
    "start_time": "2024-05-03T16:38:39.875Z"
   },
   {
    "duration": 175120,
    "start_time": "2024-05-03T16:38:39.879Z"
   },
   {
    "duration": 22,
    "start_time": "2024-05-03T16:41:35.001Z"
   },
   {
    "duration": 21,
    "start_time": "2024-05-03T16:41:35.024Z"
   },
   {
    "duration": 692,
    "start_time": "2024-05-03T16:41:35.047Z"
   },
   {
    "duration": 260,
    "start_time": "2024-05-03T16:41:35.741Z"
   },
   {
    "duration": 15365,
    "start_time": "2024-05-03T16:41:36.003Z"
   },
   {
    "duration": 24,
    "start_time": "2024-05-03T16:41:51.370Z"
   },
   {
    "duration": 6826,
    "start_time": "2024-05-03T16:41:51.395Z"
   },
   {
    "duration": 151,
    "start_time": "2024-05-03T16:41:58.222Z"
   },
   {
    "duration": 33950,
    "start_time": "2024-05-03T16:55:59.288Z"
   },
   {
    "duration": 1348,
    "start_time": "2024-05-03T16:56:33.240Z"
   },
   {
    "duration": 2,
    "start_time": "2024-05-03T16:56:34.592Z"
   },
   {
    "duration": 6,
    "start_time": "2024-05-03T16:56:34.595Z"
   },
   {
    "duration": 7,
    "start_time": "2024-05-03T16:56:34.602Z"
   },
   {
    "duration": 14,
    "start_time": "2024-05-03T16:56:34.610Z"
   },
   {
    "duration": 4,
    "start_time": "2024-05-03T16:56:34.625Z"
   },
   {
    "duration": 7,
    "start_time": "2024-05-03T16:56:34.630Z"
   },
   {
    "duration": 742,
    "start_time": "2024-05-03T16:56:34.639Z"
   },
   {
    "duration": 3,
    "start_time": "2024-05-03T16:56:35.384Z"
   },
   {
    "duration": 1597,
    "start_time": "2024-05-03T16:56:35.388Z"
   },
   {
    "duration": 76,
    "start_time": "2024-05-03T16:56:36.986Z"
   },
   {
    "duration": 28,
    "start_time": "2024-05-03T16:56:37.063Z"
   },
   {
    "duration": 187,
    "start_time": "2024-05-03T16:56:37.093Z"
   },
   {
    "duration": 2,
    "start_time": "2024-05-03T16:56:37.282Z"
   },
   {
    "duration": 80062,
    "start_time": "2024-05-03T16:56:37.285Z"
   },
   {
    "duration": 13,
    "start_time": "2024-05-03T16:57:57.349Z"
   },
   {
    "duration": 399,
    "start_time": "2024-05-03T16:57:57.363Z"
   },
   {
    "duration": 0,
    "start_time": "2024-05-03T16:57:57.764Z"
   },
   {
    "duration": 0,
    "start_time": "2024-05-03T16:57:57.765Z"
   },
   {
    "duration": 0,
    "start_time": "2024-05-03T16:57:57.766Z"
   },
   {
    "duration": 0,
    "start_time": "2024-05-03T16:57:57.767Z"
   },
   {
    "duration": 0,
    "start_time": "2024-05-03T16:57:57.767Z"
   },
   {
    "duration": 0,
    "start_time": "2024-05-03T16:57:57.768Z"
   },
   {
    "duration": 0,
    "start_time": "2024-05-03T16:57:57.769Z"
   },
   {
    "duration": 0,
    "start_time": "2024-05-03T16:57:57.770Z"
   },
   {
    "duration": 0,
    "start_time": "2024-05-03T16:57:57.770Z"
   },
   {
    "duration": 0,
    "start_time": "2024-05-03T16:57:57.771Z"
   },
   {
    "duration": 0,
    "start_time": "2024-05-03T16:57:57.772Z"
   },
   {
    "duration": 0,
    "start_time": "2024-05-03T16:57:57.773Z"
   },
   {
    "duration": 0,
    "start_time": "2024-05-03T16:57:57.774Z"
   },
   {
    "duration": 0,
    "start_time": "2024-05-03T16:57:57.775Z"
   },
   {
    "duration": 0,
    "start_time": "2024-05-03T16:57:57.776Z"
   },
   {
    "duration": 0,
    "start_time": "2024-05-03T16:57:57.777Z"
   },
   {
    "duration": 0,
    "start_time": "2024-05-03T16:57:57.777Z"
   },
   {
    "duration": 0,
    "start_time": "2024-05-03T16:57:57.778Z"
   },
   {
    "duration": 35431,
    "start_time": "2024-05-03T17:01:08.808Z"
   },
   {
    "duration": 1357,
    "start_time": "2024-05-03T17:01:44.241Z"
   },
   {
    "duration": 3,
    "start_time": "2024-05-03T17:01:45.599Z"
   },
   {
    "duration": 15,
    "start_time": "2024-05-03T17:01:45.603Z"
   },
   {
    "duration": 23,
    "start_time": "2024-05-03T17:01:45.619Z"
   },
   {
    "duration": 14,
    "start_time": "2024-05-03T17:01:45.643Z"
   },
   {
    "duration": 24,
    "start_time": "2024-05-03T17:01:45.658Z"
   },
   {
    "duration": 27,
    "start_time": "2024-05-03T17:01:45.683Z"
   },
   {
    "duration": 739,
    "start_time": "2024-05-03T17:01:45.712Z"
   },
   {
    "duration": 3,
    "start_time": "2024-05-03T17:01:46.453Z"
   },
   {
    "duration": 1558,
    "start_time": "2024-05-03T17:01:46.457Z"
   },
   {
    "duration": 75,
    "start_time": "2024-05-03T17:01:48.085Z"
   },
   {
    "duration": 28,
    "start_time": "2024-05-03T17:01:48.161Z"
   },
   {
    "duration": 217,
    "start_time": "2024-05-03T17:01:48.192Z"
   },
   {
    "duration": 2,
    "start_time": "2024-05-03T17:01:48.410Z"
   },
   {
    "duration": 79681,
    "start_time": "2024-05-03T17:01:48.413Z"
   },
   {
    "duration": 13,
    "start_time": "2024-05-03T17:03:08.096Z"
   },
   {
    "duration": 394,
    "start_time": "2024-05-03T17:03:08.110Z"
   },
   {
    "duration": 0,
    "start_time": "2024-05-03T17:03:08.505Z"
   },
   {
    "duration": 0,
    "start_time": "2024-05-03T17:03:08.506Z"
   },
   {
    "duration": 0,
    "start_time": "2024-05-03T17:03:08.507Z"
   },
   {
    "duration": 0,
    "start_time": "2024-05-03T17:03:08.508Z"
   },
   {
    "duration": 0,
    "start_time": "2024-05-03T17:03:08.509Z"
   },
   {
    "duration": 0,
    "start_time": "2024-05-03T17:03:08.510Z"
   },
   {
    "duration": 0,
    "start_time": "2024-05-03T17:03:08.510Z"
   },
   {
    "duration": 0,
    "start_time": "2024-05-03T17:03:08.511Z"
   },
   {
    "duration": 0,
    "start_time": "2024-05-03T17:03:08.512Z"
   },
   {
    "duration": 0,
    "start_time": "2024-05-03T17:03:08.513Z"
   },
   {
    "duration": 0,
    "start_time": "2024-05-03T17:03:08.514Z"
   },
   {
    "duration": 0,
    "start_time": "2024-05-03T17:03:08.515Z"
   },
   {
    "duration": 0,
    "start_time": "2024-05-03T17:03:08.515Z"
   },
   {
    "duration": 0,
    "start_time": "2024-05-03T17:03:08.516Z"
   },
   {
    "duration": 0,
    "start_time": "2024-05-03T17:03:08.518Z"
   },
   {
    "duration": 0,
    "start_time": "2024-05-03T17:03:08.518Z"
   },
   {
    "duration": 0,
    "start_time": "2024-05-03T17:03:08.519Z"
   },
   {
    "duration": 0,
    "start_time": "2024-05-03T17:03:08.520Z"
   },
   {
    "duration": 14,
    "start_time": "2024-05-03T17:04:05.993Z"
   },
   {
    "duration": 5,
    "start_time": "2024-05-03T17:04:08.247Z"
   },
   {
    "duration": 319,
    "start_time": "2024-05-03T17:04:14.507Z"
   },
   {
    "duration": 165,
    "start_time": "2024-05-03T17:04:16.152Z"
   },
   {
    "duration": 812,
    "start_time": "2024-05-03T17:04:19.128Z"
   },
   {
    "duration": 7,
    "start_time": "2024-05-03T17:04:30.720Z"
   },
   {
    "duration": 441,
    "start_time": "2024-05-03T17:04:32.527Z"
   },
   {
    "duration": 133,
    "start_time": "2024-05-03T17:04:34.640Z"
   },
   {
    "duration": 1038,
    "start_time": "2024-05-03T17:04:39.112Z"
   },
   {
    "duration": 9,
    "start_time": "2024-05-03T17:04:44.894Z"
   },
   {
    "duration": 2,
    "start_time": "2024-05-03T17:04:49.028Z"
   },
   {
    "duration": 62630,
    "start_time": "2024-05-03T17:04:53.870Z"
   },
   {
    "duration": 13716,
    "start_time": "2024-05-03T17:06:04.038Z"
   },
   {
    "duration": 15284,
    "start_time": "2024-05-03T17:06:17.756Z"
   },
   {
    "duration": 3206,
    "start_time": "2024-05-03T17:06:33.041Z"
   },
   {
    "duration": 66730,
    "start_time": "2024-05-03T17:06:51.397Z"
   },
   {
    "duration": 15702,
    "start_time": "2024-05-03T17:07:58.129Z"
   },
   {
    "duration": 3225,
    "start_time": "2024-05-03T17:08:13.833Z"
   },
   {
    "duration": 3106,
    "start_time": "2024-05-03T17:08:26.820Z"
   },
   {
    "duration": 3190,
    "start_time": "2024-05-03T17:08:34.836Z"
   },
   {
    "duration": 3165,
    "start_time": "2024-05-03T17:08:46.652Z"
   },
   {
    "duration": 5,
    "start_time": "2024-05-03T17:08:56.206Z"
   },
   {
    "duration": 7,
    "start_time": "2024-05-03T17:08:57.611Z"
   },
   {
    "duration": 218,
    "start_time": "2024-05-03T17:08:59.515Z"
   },
   {
    "duration": 77,
    "start_time": "2024-05-03T17:09:09.732Z"
   },
   {
    "duration": 89,
    "start_time": "2024-05-03T17:09:47.305Z"
   },
   {
    "duration": 98,
    "start_time": "2024-05-03T17:10:20.442Z"
   },
   {
    "duration": 82,
    "start_time": "2024-05-03T17:10:39.753Z"
   },
   {
    "duration": 68,
    "start_time": "2024-05-03T17:11:22.433Z"
   },
   {
    "duration": 81,
    "start_time": "2024-05-03T17:11:37.801Z"
   },
   {
    "duration": 82,
    "start_time": "2024-05-03T17:13:39.303Z"
   },
   {
    "duration": 77,
    "start_time": "2024-05-03T17:13:55.603Z"
   },
   {
    "duration": 69,
    "start_time": "2024-05-03T17:14:24.566Z"
   },
   {
    "duration": 571,
    "start_time": "2024-05-03T17:16:34.254Z"
   },
   {
    "duration": 447,
    "start_time": "2024-05-03T17:17:49.420Z"
   },
   {
    "duration": 79,
    "start_time": "2024-05-03T17:18:31.947Z"
   },
   {
    "duration": 444,
    "start_time": "2024-05-03T17:18:46.651Z"
   },
   {
    "duration": 437,
    "start_time": "2024-05-03T17:20:12.844Z"
   },
   {
    "duration": 456,
    "start_time": "2024-05-03T17:20:34.458Z"
   },
   {
    "duration": 450,
    "start_time": "2024-05-03T17:21:50.299Z"
   },
   {
    "duration": 216,
    "start_time": "2024-05-03T17:22:46.225Z"
   },
   {
    "duration": 558,
    "start_time": "2024-05-03T17:22:56.442Z"
   },
   {
    "duration": 81259,
    "start_time": "2024-05-04T06:19:37.799Z"
   },
   {
    "duration": 2072,
    "start_time": "2024-05-04T06:20:59.060Z"
   },
   {
    "duration": 3,
    "start_time": "2024-05-04T06:21:01.134Z"
   },
   {
    "duration": 58,
    "start_time": "2024-05-04T06:21:01.139Z"
   },
   {
    "duration": 62,
    "start_time": "2024-05-04T06:21:01.199Z"
   },
   {
    "duration": 61,
    "start_time": "2024-05-04T06:21:01.263Z"
   },
   {
    "duration": 33,
    "start_time": "2024-05-04T06:21:01.326Z"
   },
   {
    "duration": 72,
    "start_time": "2024-05-04T06:21:01.360Z"
   },
   {
    "duration": 2440,
    "start_time": "2024-05-04T06:21:01.434Z"
   },
   {
    "duration": 4,
    "start_time": "2024-05-04T06:21:03.878Z"
   },
   {
    "duration": 2323,
    "start_time": "2024-05-04T06:21:03.884Z"
   },
   {
    "duration": 175,
    "start_time": "2024-05-04T06:21:06.210Z"
   },
   {
    "duration": 25,
    "start_time": "2024-05-04T06:21:06.387Z"
   },
   {
    "duration": 766,
    "start_time": "2024-05-04T06:21:06.416Z"
   },
   {
    "duration": 3,
    "start_time": "2024-05-04T06:21:07.183Z"
   },
   {
    "duration": 112699,
    "start_time": "2024-05-04T06:21:07.187Z"
   },
   {
    "duration": 19,
    "start_time": "2024-05-04T06:22:59.888Z"
   },
   {
    "duration": 8,
    "start_time": "2024-05-04T06:22:59.909Z"
   },
   {
    "duration": 463,
    "start_time": "2024-05-04T06:22:59.919Z"
   },
   {
    "duration": 228,
    "start_time": "2024-05-04T06:23:00.384Z"
   },
   {
    "duration": 1608,
    "start_time": "2024-05-04T06:23:00.614Z"
   },
   {
    "duration": 7,
    "start_time": "2024-05-04T06:23:02.224Z"
   },
   {
    "duration": 551,
    "start_time": "2024-05-04T06:23:02.233Z"
   },
   {
    "duration": 171,
    "start_time": "2024-05-04T06:23:02.786Z"
   },
   {
    "duration": 1747,
    "start_time": "2024-05-04T06:23:02.959Z"
   },
   {
    "duration": 14,
    "start_time": "2024-05-04T06:23:04.708Z"
   },
   {
    "duration": 3,
    "start_time": "2024-05-04T06:23:04.723Z"
   },
   {
    "duration": 88078,
    "start_time": "2024-05-04T06:23:04.730Z"
   },
   {
    "duration": 18215,
    "start_time": "2024-05-04T06:24:32.810Z"
   },
   {
    "duration": 20086,
    "start_time": "2024-05-04T06:24:51.028Z"
   },
   {
    "duration": 3758,
    "start_time": "2024-05-04T06:25:11.115Z"
   },
   {
    "duration": 6,
    "start_time": "2024-05-04T06:25:14.874Z"
   },
   {
    "duration": 18,
    "start_time": "2024-05-04T06:25:14.882Z"
   },
   {
    "duration": 256,
    "start_time": "2024-05-04T06:25:14.902Z"
   },
   {
    "duration": 301,
    "start_time": "2024-05-04T06:25:15.182Z"
   },
   {
    "duration": 12,
    "start_time": "2024-05-04T06:25:15.485Z"
   },
   {
    "duration": 5,
    "start_time": "2024-05-04T06:26:33.668Z"
   },
   {
    "duration": 8,
    "start_time": "2024-05-04T06:27:05.199Z"
   },
   {
    "duration": 903,
    "start_time": "2024-05-04T06:31:41.721Z"
   },
   {
    "duration": 1063,
    "start_time": "2024-05-04T06:32:31.554Z"
   },
   {
    "duration": 1015,
    "start_time": "2024-05-04T06:32:45.301Z"
   },
   {
    "duration": 901,
    "start_time": "2024-05-04T06:33:09.039Z"
   },
   {
    "duration": 907,
    "start_time": "2024-05-04T06:33:21.462Z"
   },
   {
    "duration": 913,
    "start_time": "2024-05-04T06:34:47.842Z"
   },
   {
    "duration": 915,
    "start_time": "2024-05-04T06:34:59.018Z"
   },
   {
    "duration": 907,
    "start_time": "2024-05-04T06:35:20.303Z"
   },
   {
    "duration": 58,
    "start_time": "2024-05-04T06:36:01.878Z"
   },
   {
    "duration": 48,
    "start_time": "2024-05-04T06:36:13.664Z"
   },
   {
    "duration": 23,
    "start_time": "2024-05-04T06:36:41.561Z"
   },
   {
    "duration": 23,
    "start_time": "2024-05-04T06:37:11.874Z"
   },
   {
    "duration": 16,
    "start_time": "2024-05-04T06:37:33.209Z"
   },
   {
    "duration": 55,
    "start_time": "2024-05-04T06:38:07.249Z"
   },
   {
    "duration": 18,
    "start_time": "2024-05-04T06:38:18.053Z"
   },
   {
    "duration": 21,
    "start_time": "2024-05-04T06:46:14.462Z"
   },
   {
    "duration": 52,
    "start_time": "2024-05-04T06:46:49.284Z"
   },
   {
    "duration": 62,
    "start_time": "2024-05-04T06:47:16.211Z"
   },
   {
    "duration": 275,
    "start_time": "2024-05-04T06:48:02.201Z"
   },
   {
    "duration": 903,
    "start_time": "2024-05-04T06:48:59.024Z"
   },
   {
    "duration": 892,
    "start_time": "2024-05-04T06:49:14.195Z"
   },
   {
    "duration": 24,
    "start_time": "2024-05-04T06:50:33.112Z"
   },
   {
    "duration": 934,
    "start_time": "2024-05-04T06:50:46.508Z"
   },
   {
    "duration": 54,
    "start_time": "2024-05-04T07:03:44.584Z"
   },
   {
    "duration": 57,
    "start_time": "2024-05-04T07:06:36.913Z"
   },
   {
    "duration": 976,
    "start_time": "2024-05-04T07:07:14.372Z"
   },
   {
    "duration": 1070,
    "start_time": "2024-05-04T07:08:58.122Z"
   },
   {
    "duration": 933,
    "start_time": "2024-05-04T07:10:27.581Z"
   },
   {
    "duration": 59,
    "start_time": "2024-05-04T07:13:16.878Z"
   },
   {
    "duration": 30,
    "start_time": "2024-05-04T07:13:40.460Z"
   },
   {
    "duration": 45,
    "start_time": "2024-05-04T07:15:03.032Z"
   },
   {
    "duration": 42,
    "start_time": "2024-05-04T07:15:12.040Z"
   },
   {
    "duration": 42,
    "start_time": "2024-05-04T07:18:37.378Z"
   },
   {
    "duration": 50,
    "start_time": "2024-05-04T07:18:56.300Z"
   },
   {
    "duration": 46,
    "start_time": "2024-05-04T07:19:06.220Z"
   },
   {
    "duration": 48,
    "start_time": "2024-05-04T07:20:41.020Z"
   },
   {
    "duration": 47,
    "start_time": "2024-05-04T07:20:57.307Z"
   },
   {
    "duration": 0,
    "start_time": "2024-05-04T07:26:25.447Z"
   },
   {
    "duration": 411,
    "start_time": "2024-05-04T07:26:34.914Z"
   },
   {
    "duration": 276,
    "start_time": "2024-05-04T07:26:54.941Z"
   },
   {
    "duration": 49,
    "start_time": "2024-05-04T07:41:24.683Z"
   },
   {
    "duration": 18,
    "start_time": "2024-05-04T07:41:35.869Z"
   },
   {
    "duration": 35,
    "start_time": "2024-05-04T07:41:58.940Z"
   },
   {
    "duration": 37,
    "start_time": "2024-05-04T07:43:01.518Z"
   },
   {
    "duration": 40,
    "start_time": "2024-05-04T07:43:18.203Z"
   },
   {
    "duration": 67,
    "start_time": "2024-05-04T07:45:08.500Z"
   },
   {
    "duration": 69,
    "start_time": "2024-05-04T07:47:09.089Z"
   },
   {
    "duration": 34,
    "start_time": "2024-05-04T07:47:20.062Z"
   },
   {
    "duration": 37,
    "start_time": "2024-05-04T07:47:46.563Z"
   },
   {
    "duration": 35,
    "start_time": "2024-05-04T07:48:17.762Z"
   },
   {
    "duration": 37,
    "start_time": "2024-05-04T08:02:28.839Z"
   },
   {
    "duration": 46,
    "start_time": "2024-05-04T08:02:59.834Z"
   },
   {
    "duration": 44,
    "start_time": "2024-05-04T08:03:35.256Z"
   },
   {
    "duration": 41,
    "start_time": "2024-05-04T08:04:01.372Z"
   },
   {
    "duration": 60,
    "start_time": "2024-05-04T08:04:54.291Z"
   },
   {
    "duration": 39,
    "start_time": "2024-05-04T08:05:29.015Z"
   },
   {
    "duration": 41,
    "start_time": "2024-05-04T08:05:52.966Z"
   },
   {
    "duration": 41,
    "start_time": "2024-05-04T08:07:42.826Z"
   },
   {
    "duration": 40,
    "start_time": "2024-05-04T08:08:04.904Z"
   },
   {
    "duration": 40,
    "start_time": "2024-05-04T08:08:18.097Z"
   },
   {
    "duration": 41,
    "start_time": "2024-05-04T08:08:59.701Z"
   },
   {
    "duration": 30,
    "start_time": "2024-05-04T08:09:27.093Z"
   },
   {
    "duration": 23,
    "start_time": "2024-05-04T08:10:39.593Z"
   },
   {
    "duration": 16,
    "start_time": "2024-05-04T08:16:12.213Z"
   },
   {
    "duration": 701,
    "start_time": "2024-05-04T08:16:58.489Z"
   },
   {
    "duration": 19,
    "start_time": "2024-05-04T08:17:09.463Z"
   },
   {
    "duration": 17,
    "start_time": "2024-05-04T08:17:46.392Z"
   },
   {
    "duration": 74,
    "start_time": "2024-05-04T08:18:19.713Z"
   },
   {
    "duration": 26,
    "start_time": "2024-05-04T08:18:31.974Z"
   },
   {
    "duration": 29,
    "start_time": "2024-05-04T08:19:38.395Z"
   },
   {
    "duration": 28,
    "start_time": "2024-05-04T08:19:56.932Z"
   },
   {
    "duration": 26,
    "start_time": "2024-05-04T08:22:16.293Z"
   },
   {
    "duration": 1006,
    "start_time": "2024-05-04T08:22:47.548Z"
   },
   {
    "duration": 920,
    "start_time": "2024-05-04T08:22:56.757Z"
   },
   {
    "duration": 1025,
    "start_time": "2024-05-04T08:24:32.749Z"
   },
   {
    "duration": 991,
    "start_time": "2024-05-04T08:24:55.733Z"
   },
   {
    "duration": 923,
    "start_time": "2024-05-04T08:31:54.339Z"
   },
   {
    "duration": 959,
    "start_time": "2024-05-04T08:33:04.718Z"
   },
   {
    "duration": 987,
    "start_time": "2024-05-04T08:34:30.624Z"
   },
   {
    "duration": 967,
    "start_time": "2024-05-04T08:34:49.500Z"
   },
   {
    "duration": 47,
    "start_time": "2024-05-04T08:35:17.258Z"
   },
   {
    "duration": 997,
    "start_time": "2024-05-04T08:35:27.315Z"
   },
   {
    "duration": 951,
    "start_time": "2024-05-04T08:37:12.945Z"
   },
   {
    "duration": 970,
    "start_time": "2024-05-04T08:37:31.001Z"
   },
   {
    "duration": 44952,
    "start_time": "2024-05-04T08:43:45.778Z"
   },
   {
    "duration": 36954,
    "start_time": "2024-05-04T08:45:30.690Z"
   },
   {
    "duration": 44255,
    "start_time": "2024-05-04T08:46:45.208Z"
   },
   {
    "duration": 38936,
    "start_time": "2024-05-04T08:49:49.261Z"
   },
   {
    "duration": 38723,
    "start_time": "2024-05-04T08:52:02.315Z"
   },
   {
    "duration": 1993,
    "start_time": "2024-05-04T08:52:41.041Z"
   },
   {
    "duration": 2,
    "start_time": "2024-05-04T08:52:43.036Z"
   },
   {
    "duration": 9,
    "start_time": "2024-05-04T08:52:43.040Z"
   },
   {
    "duration": 15,
    "start_time": "2024-05-04T08:52:43.051Z"
   },
   {
    "duration": 15,
    "start_time": "2024-05-04T08:52:43.069Z"
   },
   {
    "duration": 8,
    "start_time": "2024-05-04T08:52:43.086Z"
   },
   {
    "duration": 5,
    "start_time": "2024-05-04T08:52:43.096Z"
   },
   {
    "duration": 1024,
    "start_time": "2024-05-04T08:52:43.104Z"
   },
   {
    "duration": 3,
    "start_time": "2024-05-04T08:52:44.131Z"
   },
   {
    "duration": 2375,
    "start_time": "2024-05-04T08:52:44.136Z"
   },
   {
    "duration": 174,
    "start_time": "2024-05-04T08:52:46.512Z"
   },
   {
    "duration": 37,
    "start_time": "2024-05-04T08:52:46.687Z"
   },
   {
    "duration": 270,
    "start_time": "2024-05-04T08:52:46.725Z"
   },
   {
    "duration": 3,
    "start_time": "2024-05-04T08:52:46.997Z"
   },
   {
    "duration": 894585,
    "start_time": "2024-05-04T08:52:47.002Z"
   },
   {
    "duration": 152,
    "start_time": "2024-05-04T09:07:41.590Z"
   },
   {
    "duration": 14,
    "start_time": "2024-05-04T09:07:41.744Z"
   },
   {
    "duration": 2067,
    "start_time": "2024-05-04T09:07:41.760Z"
   },
   {
    "duration": 236,
    "start_time": "2024-05-04T09:07:43.832Z"
   },
   {
    "duration": 127167,
    "start_time": "2024-05-04T09:07:44.070Z"
   },
   {
    "duration": 26,
    "start_time": "2024-05-04T09:09:51.239Z"
   },
   {
    "duration": 2746,
    "start_time": "2024-05-04T09:09:51.266Z"
   },
   {
    "duration": 189,
    "start_time": "2024-05-04T09:09:54.014Z"
   },
   {
    "duration": 168890,
    "start_time": "2024-05-04T09:09:54.205Z"
   },
   {
    "duration": 65,
    "start_time": "2024-05-04T09:12:43.097Z"
   },
   {
    "duration": 21,
    "start_time": "2024-05-04T09:12:43.164Z"
   },
   {
    "duration": 982035,
    "start_time": "2024-05-04T09:12:43.190Z"
   },
   {
    "duration": 198157,
    "start_time": "2024-05-04T09:29:05.227Z"
   },
   {
    "duration": 208120,
    "start_time": "2024-05-04T09:32:23.385Z"
   },
   {
    "duration": 33458,
    "start_time": "2024-05-04T09:35:51.507Z"
   },
   {
    "duration": 5,
    "start_time": "2024-05-04T09:36:24.967Z"
   },
   {
    "duration": 30,
    "start_time": "2024-05-04T09:36:24.974Z"
   },
   {
    "duration": 279,
    "start_time": "2024-05-04T09:36:25.005Z"
   },
   {
    "duration": 2370,
    "start_time": "2024-05-04T09:36:25.286Z"
   },
   {
    "duration": 6274,
    "start_time": "2024-05-04T09:36:27.658Z"
   },
   {
    "duration": 455,
    "start_time": "2024-05-04T09:36:33.933Z"
   },
   {
    "duration": 170,
    "start_time": "2024-05-04T09:38:42.724Z"
   },
   {
    "duration": 30,
    "start_time": "2024-05-04T09:53:34.681Z"
   },
   {
    "duration": 7,
    "start_time": "2024-05-04T09:54:40.777Z"
   },
   {
    "duration": 17759,
    "start_time": "2024-05-04T09:54:56.537Z"
   },
   {
    "duration": 17636,
    "start_time": "2024-05-04T09:58:01.583Z"
   },
   {
    "duration": 37986,
    "start_time": "2024-05-04T09:59:57.769Z"
   },
   {
    "duration": 2390,
    "start_time": "2024-05-04T10:00:35.758Z"
   },
   {
    "duration": 3,
    "start_time": "2024-05-04T10:00:38.149Z"
   },
   {
    "duration": 9,
    "start_time": "2024-05-04T10:00:38.154Z"
   },
   {
    "duration": 17,
    "start_time": "2024-05-04T10:00:38.165Z"
   },
   {
    "duration": 5,
    "start_time": "2024-05-04T10:00:38.183Z"
   },
   {
    "duration": 8,
    "start_time": "2024-05-04T10:00:38.190Z"
   },
   {
    "duration": 29,
    "start_time": "2024-05-04T10:00:38.199Z"
   },
   {
    "duration": 974,
    "start_time": "2024-05-04T10:00:38.230Z"
   },
   {
    "duration": 3,
    "start_time": "2024-05-04T10:00:39.207Z"
   },
   {
    "duration": 2190,
    "start_time": "2024-05-04T10:00:39.212Z"
   },
   {
    "duration": 193,
    "start_time": "2024-05-04T10:00:41.404Z"
   },
   {
    "duration": 46,
    "start_time": "2024-05-04T10:00:41.599Z"
   },
   {
    "duration": 297,
    "start_time": "2024-05-04T10:00:41.646Z"
   },
   {
    "duration": 2,
    "start_time": "2024-05-04T10:00:41.945Z"
   },
   {
    "duration": 866339,
    "start_time": "2024-05-04T10:00:41.949Z"
   },
   {
    "duration": 142,
    "start_time": "2024-05-04T10:15:08.290Z"
   },
   {
    "duration": 3,
    "start_time": "2024-05-04T10:15:08.434Z"
   },
   {
    "duration": 14,
    "start_time": "2024-05-04T10:15:08.438Z"
   },
   {
    "duration": 2864,
    "start_time": "2024-05-04T10:15:08.454Z"
   },
   {
    "duration": 206,
    "start_time": "2024-05-04T10:15:11.319Z"
   },
   {
    "duration": 261071,
    "start_time": "2024-05-04T10:15:11.527Z"
   },
   {
    "duration": 38,
    "start_time": "2024-05-04T10:19:32.599Z"
   },
   {
    "duration": 7362,
    "start_time": "2024-05-04T10:19:32.639Z"
   },
   {
    "duration": 168,
    "start_time": "2024-05-04T10:19:40.003Z"
   },
   {
    "duration": 1059095,
    "start_time": "2024-05-04T10:19:40.173Z"
   },
   {
    "duration": 13,
    "start_time": "2024-05-04T10:37:19.270Z"
   },
   {
    "duration": 65,
    "start_time": "2024-05-04T10:37:19.287Z"
   },
   {
    "duration": 2,
    "start_time": "2024-05-04T10:37:19.354Z"
   },
   {
    "duration": 976963,
    "start_time": "2024-05-04T10:37:19.358Z"
   },
   {
    "duration": 194139,
    "start_time": "2024-05-04T10:53:36.323Z"
   },
   {
    "duration": 202342,
    "start_time": "2024-05-04T10:56:50.465Z"
   },
   {
    "duration": 32699,
    "start_time": "2024-05-04T11:00:12.809Z"
   },
   {
    "duration": 6,
    "start_time": "2024-05-04T11:00:45.509Z"
   },
   {
    "duration": 34,
    "start_time": "2024-05-04T11:00:45.517Z"
   },
   {
    "duration": 300,
    "start_time": "2024-05-04T11:00:45.553Z"
   },
   {
    "duration": 2273,
    "start_time": "2024-05-04T11:00:45.855Z"
   },
   {
    "duration": 17693,
    "start_time": "2024-05-04T11:00:48.130Z"
   },
   {
    "duration": 453,
    "start_time": "2024-05-04T11:01:05.826Z"
   },
   {
    "duration": 73774,
    "start_time": "2024-05-05T04:31:43.816Z"
   },
   {
    "duration": 1937,
    "start_time": "2024-05-05T04:32:57.592Z"
   },
   {
    "duration": 4,
    "start_time": "2024-05-05T04:32:59.530Z"
   },
   {
    "duration": 62,
    "start_time": "2024-05-05T04:32:59.535Z"
   },
   {
    "duration": 37,
    "start_time": "2024-05-05T04:32:59.600Z"
   },
   {
    "duration": 26,
    "start_time": "2024-05-05T04:32:59.639Z"
   },
   {
    "duration": 35,
    "start_time": "2024-05-05T04:32:59.667Z"
   },
   {
    "duration": 35,
    "start_time": "2024-05-05T04:32:59.703Z"
   },
   {
    "duration": 3253,
    "start_time": "2024-05-05T04:32:59.740Z"
   },
   {
    "duration": 2,
    "start_time": "2024-05-05T04:33:02.995Z"
   },
   {
    "duration": 2218,
    "start_time": "2024-05-05T04:33:02.999Z"
   },
   {
    "duration": 165,
    "start_time": "2024-05-05T04:33:05.219Z"
   },
   {
    "duration": 22,
    "start_time": "2024-05-05T04:33:05.394Z"
   },
   {
    "duration": 949,
    "start_time": "2024-05-05T04:33:05.420Z"
   },
   {
    "duration": 3,
    "start_time": "2024-05-05T04:33:06.370Z"
   },
   {
    "duration": 104494,
    "start_time": "2024-05-05T04:33:06.374Z"
   },
   {
    "duration": 32,
    "start_time": "2024-05-05T04:34:50.869Z"
   },
   {
    "duration": 21,
    "start_time": "2024-05-05T04:34:50.903Z"
   },
   {
    "duration": 37,
    "start_time": "2024-05-05T04:34:50.926Z"
   },
   {
    "duration": 228,
    "start_time": "2024-05-05T04:34:50.965Z"
   },
   {
    "duration": 14,
    "start_time": "2024-05-05T04:34:51.195Z"
   },
   {
    "duration": 0,
    "start_time": "2024-05-05T04:34:51.210Z"
   },
   {
    "duration": 0,
    "start_time": "2024-05-05T04:34:51.211Z"
   },
   {
    "duration": 0,
    "start_time": "2024-05-05T04:34:51.212Z"
   },
   {
    "duration": 0,
    "start_time": "2024-05-05T04:34:51.213Z"
   },
   {
    "duration": 0,
    "start_time": "2024-05-05T04:34:51.214Z"
   },
   {
    "duration": 0,
    "start_time": "2024-05-05T04:34:51.215Z"
   },
   {
    "duration": 0,
    "start_time": "2024-05-05T04:34:51.216Z"
   },
   {
    "duration": 0,
    "start_time": "2024-05-05T04:34:51.217Z"
   },
   {
    "duration": 0,
    "start_time": "2024-05-05T04:34:51.218Z"
   },
   {
    "duration": 0,
    "start_time": "2024-05-05T04:34:51.219Z"
   },
   {
    "duration": 0,
    "start_time": "2024-05-05T04:34:51.220Z"
   },
   {
    "duration": 0,
    "start_time": "2024-05-05T04:34:51.221Z"
   },
   {
    "duration": 0,
    "start_time": "2024-05-05T04:34:51.223Z"
   },
   {
    "duration": 0,
    "start_time": "2024-05-05T04:34:51.224Z"
   },
   {
    "duration": 0,
    "start_time": "2024-05-05T04:34:51.225Z"
   },
   {
    "duration": 0,
    "start_time": "2024-05-05T04:34:51.226Z"
   },
   {
    "duration": 0,
    "start_time": "2024-05-05T04:34:51.229Z"
   },
   {
    "duration": 0,
    "start_time": "2024-05-05T04:34:51.230Z"
   },
   {
    "duration": 659,
    "start_time": "2024-05-05T04:37:23.045Z"
   },
   {
    "duration": 308,
    "start_time": "2024-05-05T04:39:03.903Z"
   },
   {
    "duration": 192,
    "start_time": "2024-05-05T04:39:20.842Z"
   },
   {
    "duration": 8,
    "start_time": "2024-05-05T04:40:20.730Z"
   },
   {
    "duration": 440,
    "start_time": "2024-05-05T04:40:23.893Z"
   },
   {
    "duration": 161,
    "start_time": "2024-05-05T04:40:29.061Z"
   },
   {
    "duration": 37411,
    "start_time": "2024-05-05T04:40:57.403Z"
   },
   {
    "duration": 1698,
    "start_time": "2024-05-05T04:41:34.816Z"
   },
   {
    "duration": 3,
    "start_time": "2024-05-05T04:41:36.515Z"
   },
   {
    "duration": 22,
    "start_time": "2024-05-05T04:41:36.519Z"
   },
   {
    "duration": 20,
    "start_time": "2024-05-05T04:41:36.543Z"
   },
   {
    "duration": 25,
    "start_time": "2024-05-05T04:41:36.565Z"
   },
   {
    "duration": 24,
    "start_time": "2024-05-05T04:41:36.591Z"
   },
   {
    "duration": 40,
    "start_time": "2024-05-05T04:41:36.617Z"
   },
   {
    "duration": 913,
    "start_time": "2024-05-05T04:41:36.658Z"
   },
   {
    "duration": 2,
    "start_time": "2024-05-05T04:41:37.574Z"
   },
   {
    "duration": 2119,
    "start_time": "2024-05-05T04:41:37.578Z"
   },
   {
    "duration": 110,
    "start_time": "2024-05-05T04:41:39.699Z"
   },
   {
    "duration": 21,
    "start_time": "2024-05-05T04:41:39.811Z"
   },
   {
    "duration": 276,
    "start_time": "2024-05-05T04:41:39.835Z"
   },
   {
    "duration": 2,
    "start_time": "2024-05-05T04:41:40.113Z"
   },
   {
    "duration": 99867,
    "start_time": "2024-05-05T04:41:40.117Z"
   },
   {
    "duration": 17,
    "start_time": "2024-05-05T04:43:19.994Z"
   },
   {
    "duration": 42,
    "start_time": "2024-05-05T04:43:20.013Z"
   },
   {
    "duration": 29,
    "start_time": "2024-05-05T04:43:20.056Z"
   },
   {
    "duration": 328,
    "start_time": "2024-05-05T04:43:20.087Z"
   },
   {
    "duration": 197,
    "start_time": "2024-05-05T04:43:20.417Z"
   },
   {
    "duration": 7108,
    "start_time": "2024-05-05T04:43:20.616Z"
   },
   {
    "duration": 9,
    "start_time": "2024-05-05T04:43:27.725Z"
   },
   {
    "duration": 622,
    "start_time": "2024-05-05T04:43:27.735Z"
   },
   {
    "duration": 175,
    "start_time": "2024-05-05T04:43:28.359Z"
   },
   {
    "duration": 27314,
    "start_time": "2024-05-05T04:43:28.535Z"
   },
   {
    "duration": 2,
    "start_time": "2024-05-05T04:43:55.851Z"
   },
   {
    "duration": 30,
    "start_time": "2024-05-05T04:43:55.856Z"
   },
   {
    "duration": 3,
    "start_time": "2024-05-05T04:43:55.888Z"
   },
   {
    "duration": 49282,
    "start_time": "2024-05-05T04:43:55.892Z"
   },
   {
    "duration": 14082,
    "start_time": "2024-05-05T04:44:45.176Z"
   },
   {
    "duration": 15489,
    "start_time": "2024-05-05T04:44:59.259Z"
   },
   {
    "duration": 3197,
    "start_time": "2024-05-05T04:45:14.750Z"
   },
   {
    "duration": 6,
    "start_time": "2024-05-05T04:45:17.948Z"
   },
   {
    "duration": 18,
    "start_time": "2024-05-05T04:45:17.955Z"
   },
   {
    "duration": 273,
    "start_time": "2024-05-05T04:45:17.974Z"
   },
   {
    "duration": 292,
    "start_time": "2024-05-05T04:45:18.248Z"
   },
   {
    "duration": 3086,
    "start_time": "2024-05-05T04:45:18.542Z"
   },
   {
    "duration": 260,
    "start_time": "2024-05-05T04:45:21.630Z"
   },
   {
    "duration": 32635,
    "start_time": "2024-05-05T04:57:45.493Z"
   },
   {
    "duration": 1741,
    "start_time": "2024-05-05T04:58:18.130Z"
   },
   {
    "duration": 2,
    "start_time": "2024-05-05T04:58:19.873Z"
   },
   {
    "duration": 31,
    "start_time": "2024-05-05T04:58:19.877Z"
   },
   {
    "duration": 12,
    "start_time": "2024-05-05T04:58:19.909Z"
   },
   {
    "duration": 13,
    "start_time": "2024-05-05T04:58:19.923Z"
   },
   {
    "duration": 16,
    "start_time": "2024-05-05T04:58:19.937Z"
   },
   {
    "duration": 54,
    "start_time": "2024-05-05T04:58:19.955Z"
   },
   {
    "duration": 882,
    "start_time": "2024-05-05T04:58:20.010Z"
   },
   {
    "duration": 3,
    "start_time": "2024-05-05T04:58:20.895Z"
   },
   {
    "duration": 2018,
    "start_time": "2024-05-05T04:58:20.900Z"
   },
   {
    "duration": 173,
    "start_time": "2024-05-05T04:58:22.921Z"
   },
   {
    "duration": 21,
    "start_time": "2024-05-05T04:58:23.095Z"
   },
   {
    "duration": 206,
    "start_time": "2024-05-05T04:58:23.118Z"
   },
   {
    "duration": 3,
    "start_time": "2024-05-05T04:58:23.326Z"
   },
   {
    "duration": 99069,
    "start_time": "2024-05-05T04:58:23.331Z"
   },
   {
    "duration": 17,
    "start_time": "2024-05-05T05:00:02.401Z"
   },
   {
    "duration": 40,
    "start_time": "2024-05-05T05:00:02.420Z"
   },
   {
    "duration": 41,
    "start_time": "2024-05-05T05:00:02.461Z"
   },
   {
    "duration": 372,
    "start_time": "2024-05-05T05:00:02.503Z"
   },
   {
    "duration": 198,
    "start_time": "2024-05-05T05:00:02.876Z"
   },
   {
    "duration": 6869,
    "start_time": "2024-05-05T05:00:03.077Z"
   },
   {
    "duration": 10,
    "start_time": "2024-05-05T05:00:09.948Z"
   },
   {
    "duration": 585,
    "start_time": "2024-05-05T05:00:09.960Z"
   },
   {
    "duration": 172,
    "start_time": "2024-05-05T05:00:10.547Z"
   },
   {
    "duration": 29914,
    "start_time": "2024-05-05T05:00:10.721Z"
   },
   {
    "duration": 2,
    "start_time": "2024-05-05T05:00:40.637Z"
   },
   {
    "duration": 34,
    "start_time": "2024-05-05T05:00:40.642Z"
   },
   {
    "duration": 14,
    "start_time": "2024-05-05T05:00:40.677Z"
   },
   {
    "duration": 60499,
    "start_time": "2024-05-05T05:00:40.693Z"
   },
   {
    "duration": 14526,
    "start_time": "2024-05-05T05:01:41.194Z"
   },
   {
    "duration": 16084,
    "start_time": "2024-05-05T05:01:55.722Z"
   },
   {
    "duration": 3373,
    "start_time": "2024-05-05T05:02:11.807Z"
   },
   {
    "duration": 14,
    "start_time": "2024-05-05T05:02:15.183Z"
   },
   {
    "duration": 0,
    "start_time": "2024-05-05T05:02:15.198Z"
   },
   {
    "duration": 0,
    "start_time": "2024-05-05T05:02:15.199Z"
   },
   {
    "duration": 0,
    "start_time": "2024-05-05T05:02:15.200Z"
   },
   {
    "duration": 0,
    "start_time": "2024-05-05T05:02:15.201Z"
   },
   {
    "duration": 0,
    "start_time": "2024-05-05T05:02:15.202Z"
   },
   {
    "duration": 0,
    "start_time": "2024-05-05T05:02:15.204Z"
   },
   {
    "duration": 6,
    "start_time": "2024-05-05T05:05:47.318Z"
   },
   {
    "duration": 3187,
    "start_time": "2024-05-05T05:05:56.588Z"
   },
   {
    "duration": 7,
    "start_time": "2024-05-05T05:06:06.828Z"
   },
   {
    "duration": 11,
    "start_time": "2024-05-05T05:06:09.718Z"
   },
   {
    "duration": 311,
    "start_time": "2024-05-05T05:06:16.958Z"
   },
   {
    "duration": 3,
    "start_time": "2024-05-05T05:06:22.840Z"
   },
   {
    "duration": 2619,
    "start_time": "2024-05-05T05:06:25.992Z"
   },
   {
    "duration": 258,
    "start_time": "2024-05-05T05:07:12.203Z"
   },
   {
    "duration": 275,
    "start_time": "2024-05-05T05:07:21.803Z"
   },
   {
    "duration": 3,
    "start_time": "2024-05-05T05:12:51.476Z"
   },
   {
    "duration": 277,
    "start_time": "2024-05-05T05:12:53.679Z"
   },
   {
    "duration": 258,
    "start_time": "2024-05-05T05:13:00.097Z"
   },
   {
    "duration": 33187,
    "start_time": "2024-05-05T05:13:41.512Z"
   },
   {
    "duration": 1739,
    "start_time": "2024-05-05T05:14:14.701Z"
   },
   {
    "duration": 3,
    "start_time": "2024-05-05T05:14:16.442Z"
   },
   {
    "duration": 33,
    "start_time": "2024-05-05T05:14:16.447Z"
   },
   {
    "duration": 24,
    "start_time": "2024-05-05T05:14:16.483Z"
   },
   {
    "duration": 34,
    "start_time": "2024-05-05T05:14:16.509Z"
   },
   {
    "duration": 45,
    "start_time": "2024-05-05T05:14:16.544Z"
   },
   {
    "duration": 27,
    "start_time": "2024-05-05T05:14:16.591Z"
   },
   {
    "duration": 877,
    "start_time": "2024-05-05T05:14:16.619Z"
   },
   {
    "duration": 3,
    "start_time": "2024-05-05T05:14:17.498Z"
   },
   {
    "duration": 2010,
    "start_time": "2024-05-05T05:14:17.502Z"
   },
   {
    "duration": 109,
    "start_time": "2024-05-05T05:14:19.514Z"
   },
   {
    "duration": 33,
    "start_time": "2024-05-05T05:14:19.624Z"
   },
   {
    "duration": 208,
    "start_time": "2024-05-05T05:14:19.661Z"
   },
   {
    "duration": 2,
    "start_time": "2024-05-05T05:14:19.871Z"
   },
   {
    "duration": 784660,
    "start_time": "2024-05-05T05:14:19.875Z"
   },
   {
    "duration": 129,
    "start_time": "2024-05-05T05:27:24.537Z"
   },
   {
    "duration": 3,
    "start_time": "2024-05-05T05:27:24.667Z"
   },
   {
    "duration": 37,
    "start_time": "2024-05-05T05:27:24.671Z"
   },
   {
    "duration": 834,
    "start_time": "2024-05-05T05:27:24.709Z"
   },
   {
    "duration": 205,
    "start_time": "2024-05-05T05:27:25.545Z"
   },
   {
    "duration": 249679,
    "start_time": "2024-05-05T05:27:25.752Z"
   },
   {
    "duration": 35,
    "start_time": "2024-05-05T05:31:35.433Z"
   },
   {
    "duration": 1787,
    "start_time": "2024-05-05T05:31:35.469Z"
   },
   {
    "duration": 187,
    "start_time": "2024-05-05T05:31:37.257Z"
   },
   {
    "duration": 1016701,
    "start_time": "2024-05-05T05:31:37.446Z"
   },
   {
    "duration": 10,
    "start_time": "2024-05-05T05:48:34.149Z"
   },
   {
    "duration": 78,
    "start_time": "2024-05-05T05:48:34.161Z"
   },
   {
    "duration": 3,
    "start_time": "2024-05-05T05:48:34.241Z"
   },
   {
    "duration": 705542,
    "start_time": "2024-05-05T05:48:34.248Z"
   },
   {
    "duration": 123684,
    "start_time": "2024-05-05T06:00:19.792Z"
   },
   {
    "duration": 130305,
    "start_time": "2024-05-05T06:02:23.478Z"
   },
   {
    "duration": 21987,
    "start_time": "2024-05-05T06:04:33.784Z"
   },
   {
    "duration": 6,
    "start_time": "2024-05-05T06:04:55.772Z"
   },
   {
    "duration": 37,
    "start_time": "2024-05-05T06:04:55.780Z"
   },
   {
    "duration": 289,
    "start_time": "2024-05-05T06:04:55.818Z"
   },
   {
    "duration": 3,
    "start_time": "2024-05-05T06:04:56.110Z"
   },
   {
    "duration": 2305,
    "start_time": "2024-05-05T06:04:56.115Z"
   },
   {
    "duration": 413,
    "start_time": "2024-05-05T06:04:58.421Z"
   }
  ],
  "kernelspec": {
   "display_name": "Python 3 (ipykernel)",
   "language": "python",
   "name": "python3"
  },
  "language_info": {
   "codemirror_mode": {
    "name": "ipython",
    "version": 3
   },
   "file_extension": ".py",
   "mimetype": "text/x-python",
   "name": "python",
   "nbconvert_exporter": "python",
   "pygments_lexer": "ipython3",
   "version": "3.9.11"
  },
  "toc": {
   "base_numbering": 1,
   "nav_menu": {
    "height": "211px",
    "width": "542px"
   },
   "number_sections": true,
   "sideBar": true,
   "skip_h1_title": true,
   "title_cell": "Содержание",
   "title_sidebar": "Contents",
   "toc_cell": true,
   "toc_position": {
    "height": "calc(100% - 180px)",
    "left": "10px",
    "top": "150px",
    "width": "302.391px"
   },
   "toc_section_display": true,
   "toc_window_display": false
  }
 },
 "nbformat": 4,
 "nbformat_minor": 2
}
